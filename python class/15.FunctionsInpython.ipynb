{
 "cells": [
  {
   "cell_type": "code",
   "execution_count": 1,
   "metadata": {},
   "outputs": [],
   "source": [
    "data = [ 'hello', 'hi', 'bye', 'good', 'bye', 'let', 'begin', 'show']"
   ]
  },
  {
   "cell_type": "code",
   "execution_count": 2,
   "metadata": {},
   "outputs": [
    {
     "name": "stdout",
     "output_type": "stream",
     "text": [
      "8. hello\n",
      "7. hi\n",
      "6. bye\n",
      "5. good\n",
      "4. bye\n",
      "3. let\n",
      "2. begin\n",
      "1. show\n",
      "\n",
      "Tell me the output ? \n"
     ]
    }
   ],
   "source": [
    "for i, item in enumerate(data):\n",
    "    print(f\"{8-i}. {item}\")\n",
    "else:\n",
    "    print(\"\\nTell me the output ? \")"
   ]
  },
  {
   "cell_type": "markdown",
   "metadata": {},
   "source": [
    "**zip**"
   ]
  },
  {
   "cell_type": "code",
   "execution_count": 3,
   "metadata": {},
   "outputs": [],
   "source": [
    "from random import randint"
   ]
  },
  {
   "cell_type": "markdown",
   "metadata": {},
   "source": [
    "**List Comprehension**"
   ]
  },
  {
   "cell_type": "code",
   "execution_count": 6,
   "metadata": {},
   "outputs": [
    {
     "name": "stdout",
     "output_type": "stream",
     "text": [
      "[1, 2, 3, 4, 5, 6, 7, 8, 9, 10]\n"
     ]
    }
   ],
   "source": [
    "l = [ var for var in range(1, 11)]\n",
    "print(l)"
   ]
  },
  {
   "cell_type": "code",
   "execution_count": 7,
   "metadata": {},
   "outputs": [],
   "source": [
    "l = [ item for item in range(1, 21) if item % 2 == 0 ]"
   ]
  },
  {
   "cell_type": "code",
   "execution_count": 9,
   "metadata": {},
   "outputs": [
    {
     "data": {
      "text/plain": [
       "[2, 4, 6, 8, 10, 12, 14, 16, 18, 20]"
      ]
     },
     "execution_count": 9,
     "metadata": {},
     "output_type": "execute_result"
    }
   ],
   "source": [
    "l"
   ]
  },
  {
   "cell_type": "code",
   "execution_count": 17,
   "metadata": {},
   "outputs": [],
   "source": [
    "data = [ \n",
    "    (i, j, z) \n",
    "            for i in range(2) # i = 0\n",
    "            for j in range(2) # j = 1\n",
    "            for z in range(2)\n",
    "]"
   ]
  },
  {
   "cell_type": "code",
   "execution_count": 18,
   "metadata": {},
   "outputs": [
    {
     "name": "stdout",
     "output_type": "stream",
     "text": [
      "[(0, 0, 0), (0, 0, 1), (0, 1, 0), (0, 1, 1), (1, 0, 0), (1, 0, 1), (1, 1, 0), (1, 1, 1)]\n"
     ]
    }
   ],
   "source": [
    "print(data)"
   ]
  },
  {
   "cell_type": "code",
   "execution_count": 19,
   "metadata": {},
   "outputs": [],
   "source": [
    "from random import randint"
   ]
  },
  {
   "cell_type": "code",
   "execution_count": 20,
   "metadata": {},
   "outputs": [],
   "source": [
    "x = [ 1, 2, 3, 4, 5 ]\n",
    "y = [ randint(1, 10) for var in range(5)]"
   ]
  },
  {
   "cell_type": "code",
   "execution_count": 21,
   "metadata": {},
   "outputs": [
    {
     "name": "stdout",
     "output_type": "stream",
     "text": [
      "[1, 2, 3, 4, 5]\n",
      "[2, 10, 6, 5, 3]\n"
     ]
    }
   ],
   "source": [
    "print(x)\n",
    "print(y)"
   ]
  },
  {
   "cell_type": "code",
   "execution_count": 22,
   "metadata": {},
   "outputs": [],
   "source": [
    "r = []\n",
    "i = 0\n",
    "while i < len(x):\n",
    "    e1 = x[i] ** 2\n",
    "    e2 = y[i] ** 2\n",
    "    s = e1 + e2\n",
    "    r.append(s)\n",
    "    i += 1"
   ]
  },
  {
   "cell_type": "code",
   "execution_count": 23,
   "metadata": {},
   "outputs": [
    {
     "name": "stdout",
     "output_type": "stream",
     "text": [
      "[5, 104, 45, 41, 34]\n"
     ]
    }
   ],
   "source": [
    "print(r)"
   ]
  },
  {
   "cell_type": "code",
   "execution_count": 27,
   "metadata": {},
   "outputs": [],
   "source": [
    "r = []\n",
    "for i in range(len(x)): # 0, 1, 2, 3, 4\n",
    "    r.append(x[i]**2+y[i]**2)"
   ]
  },
  {
   "cell_type": "code",
   "execution_count": 28,
   "metadata": {},
   "outputs": [
    {
     "data": {
      "text/plain": [
       "[5, 104, 45, 41, 34]"
      ]
     },
     "execution_count": 28,
     "metadata": {},
     "output_type": "execute_result"
    }
   ],
   "source": [
    "r"
   ]
  },
  {
   "cell_type": "code",
   "execution_count": 29,
   "metadata": {},
   "outputs": [
    {
     "name": "stdout",
     "output_type": "stream",
     "text": [
      "[1, 2, 3, 4, 5]\n"
     ]
    }
   ],
   "source": [
    "print(x)"
   ]
  },
  {
   "cell_type": "code",
   "execution_count": 30,
   "metadata": {},
   "outputs": [
    {
     "name": "stdout",
     "output_type": "stream",
     "text": [
      "[2, 10, 6, 5, 3]\n"
     ]
    }
   ],
   "source": [
    "print(y)"
   ]
  },
  {
   "cell_type": "code",
   "execution_count": 32,
   "metadata": {},
   "outputs": [
    {
     "name": "stdout",
     "output_type": "stream",
     "text": [
      "zip(iter1 [,iter2 [...]]) --> zip object\n",
      "\n",
      "Return a zip object whose .__next__() method returns a tuple where\n",
      "the i-th element comes from the i-th iterable argument.  The .__next__()\n",
      "method continues until the shortest iterable in the argument sequence\n",
      "is exhausted and then it raises StopIteration.\n"
     ]
    }
   ],
   "source": [
    "#help(zip) # detail help about func or class\n",
    "print(zip.__doc__) # __doc__ represents doc-string of a function"
   ]
  },
  {
   "cell_type": "code",
   "execution_count": 33,
   "metadata": {},
   "outputs": [],
   "source": [
    "z = zip(x, y)"
   ]
  },
  {
   "cell_type": "code",
   "execution_count": 35,
   "metadata": {},
   "outputs": [
    {
     "name": "stdout",
     "output_type": "stream",
     "text": [
      "<zip object at 0x0000021F0EC3CEC8>\n"
     ]
    }
   ],
   "source": [
    "print(z) # iterable objects, combination, collection\n",
    "# memory efficient objects which does store data instead store state (some variable)\n",
    "# basically they generate data on demand thus we call them generators or iterators"
   ]
  },
  {
   "cell_type": "markdown",
   "metadata": {},
   "source": [
    "    range, enumerate, zip, map, --> generators"
   ]
  },
  {
   "cell_type": "code",
   "execution_count": 36,
   "metadata": {},
   "outputs": [],
   "source": [
    "## next function is used get data from generators type objects"
   ]
  },
  {
   "cell_type": "code",
   "execution_count": 37,
   "metadata": {},
   "outputs": [
    {
     "name": "stdout",
     "output_type": "stream",
     "text": [
      "[1, 2, 3, 4, 5]\n"
     ]
    }
   ],
   "source": [
    "print(x)"
   ]
  },
  {
   "cell_type": "code",
   "execution_count": 38,
   "metadata": {},
   "outputs": [
    {
     "name": "stdout",
     "output_type": "stream",
     "text": [
      "[2, 10, 6, 5, 3]\n"
     ]
    }
   ],
   "source": [
    "print(y)"
   ]
  },
  {
   "cell_type": "code",
   "execution_count": 39,
   "metadata": {},
   "outputs": [
    {
     "data": {
      "text/plain": [
       "<zip at 0x21f0ec3cec8>"
      ]
     },
     "execution_count": 39,
     "metadata": {},
     "output_type": "execute_result"
    }
   ],
   "source": [
    "z"
   ]
  },
  {
   "cell_type": "code",
   "execution_count": 40,
   "metadata": {},
   "outputs": [
    {
     "data": {
      "text/plain": [
       "(1, 2)"
      ]
     },
     "execution_count": 40,
     "metadata": {},
     "output_type": "execute_result"
    }
   ],
   "source": [
    "next(z)"
   ]
  },
  {
   "cell_type": "code",
   "execution_count": 41,
   "metadata": {},
   "outputs": [
    {
     "data": {
      "text/plain": [
       "(2, 10)"
      ]
     },
     "execution_count": 41,
     "metadata": {},
     "output_type": "execute_result"
    }
   ],
   "source": [
    "next(z)"
   ]
  },
  {
   "cell_type": "code",
   "execution_count": 42,
   "metadata": {},
   "outputs": [
    {
     "data": {
      "text/plain": [
       "(3, 6)"
      ]
     },
     "execution_count": 42,
     "metadata": {},
     "output_type": "execute_result"
    }
   ],
   "source": [
    "next(z)"
   ]
  },
  {
   "cell_type": "code",
   "execution_count": 43,
   "metadata": {},
   "outputs": [
    {
     "data": {
      "text/plain": [
       "(4, 5)"
      ]
     },
     "execution_count": 43,
     "metadata": {},
     "output_type": "execute_result"
    }
   ],
   "source": [
    "next(z)"
   ]
  },
  {
   "cell_type": "code",
   "execution_count": 44,
   "metadata": {},
   "outputs": [
    {
     "data": {
      "text/plain": [
       "(5, 3)"
      ]
     },
     "execution_count": 44,
     "metadata": {},
     "output_type": "execute_result"
    }
   ],
   "source": [
    "next(z)"
   ]
  },
  {
   "cell_type": "code",
   "execution_count": 45,
   "metadata": {},
   "outputs": [
    {
     "ename": "StopIteration",
     "evalue": "",
     "output_type": "error",
     "traceback": [
      "\u001b[1;31m---------------------------------------------------------------------------\u001b[0m",
      "\u001b[1;31mStopIteration\u001b[0m                             Traceback (most recent call last)",
      "\u001b[1;32m<ipython-input-45-cf9ac561a401>\u001b[0m in \u001b[0;36m<module>\u001b[1;34m\u001b[0m\n\u001b[1;32m----> 1\u001b[1;33m \u001b[0mnext\u001b[0m\u001b[1;33m(\u001b[0m\u001b[0mz\u001b[0m\u001b[1;33m)\u001b[0m\u001b[1;33m\u001b[0m\u001b[1;33m\u001b[0m\u001b[0m\n\u001b[0m",
      "\u001b[1;31mStopIteration\u001b[0m: "
     ]
    }
   ],
   "source": [
    "next(z)"
   ]
  },
  {
   "cell_type": "code",
   "execution_count": 46,
   "metadata": {},
   "outputs": [
    {
     "name": "stdout",
     "output_type": "stream",
     "text": [
      "[1, 2, 3, 4, 5]\n"
     ]
    }
   ],
   "source": [
    "print(x)"
   ]
  },
  {
   "cell_type": "code",
   "execution_count": 47,
   "metadata": {},
   "outputs": [
    {
     "name": "stdout",
     "output_type": "stream",
     "text": [
      "[2, 10, 6, 5, 3]\n"
     ]
    }
   ],
   "source": [
    "print(y)"
   ]
  },
  {
   "cell_type": "code",
   "execution_count": 48,
   "metadata": {},
   "outputs": [
    {
     "name": "stdout",
     "output_type": "stream",
     "text": [
      "(1, 2)\n",
      "(2, 10)\n",
      "(3, 6)\n",
      "(4, 5)\n",
      "(5, 3)\n"
     ]
    }
   ],
   "source": [
    "print(*zip(x, y), sep='\\n')"
   ]
  },
  {
   "cell_type": "code",
   "execution_count": 49,
   "metadata": {},
   "outputs": [],
   "source": [
    "name  =  [ 'sachin', 'rajat', 'nidhi', 'kushal', 'manish', 'tanvi']\n",
    "maths = [ 100, 90, 78, 65, 76, 90]\n",
    "sci   =   [ 78, 76, 78, 56, 76, 88]"
   ]
  },
  {
   "cell_type": "code",
   "execution_count": 50,
   "metadata": {},
   "outputs": [],
   "source": [
    "#data = [ ('sachin', 100, 78), ('rajat', 90, 76), ....]"
   ]
  },
  {
   "cell_type": "code",
   "execution_count": 51,
   "metadata": {},
   "outputs": [
    {
     "name": "stdout",
     "output_type": "stream",
     "text": [
      "sachin 100 78\n",
      "rajat 90 76\n",
      "nidhi 78 78\n",
      "kushal 65 56\n",
      "manish 76 76\n",
      "tanvi 90 88\n"
     ]
    }
   ],
   "source": [
    "for n, m, s in zip(name, maths, sci):\n",
    "    print(n, m, s)"
   ]
  },
  {
   "cell_type": "code",
   "execution_count": 54,
   "metadata": {},
   "outputs": [],
   "source": [
    "data = [ [n, m, s] for n, m, s in zip(name, maths, sci)]"
   ]
  },
  {
   "cell_type": "code",
   "execution_count": 55,
   "metadata": {},
   "outputs": [
    {
     "data": {
      "text/plain": [
       "[['sachin', 100, 78],\n",
       " ['rajat', 90, 76],\n",
       " ['nidhi', 78, 78],\n",
       " ['kushal', 65, 56],\n",
       " ['manish', 76, 76],\n",
       " ['tanvi', 90, 88]]"
      ]
     },
     "execution_count": 55,
     "metadata": {},
     "output_type": "execute_result"
    }
   ],
   "source": [
    "data"
   ]
  },
  {
   "cell_type": "code",
   "execution_count": 56,
   "metadata": {},
   "outputs": [],
   "source": [
    "s1 = 'python'\n",
    "s2 = 'sachin yadav'"
   ]
  },
  {
   "cell_type": "code",
   "execution_count": 57,
   "metadata": {},
   "outputs": [
    {
     "name": "stdout",
     "output_type": "stream",
     "text": [
      "('p', 's')\n",
      "('y', 'a')\n",
      "('t', 'c')\n",
      "('h', 'h')\n",
      "('o', 'i')\n",
      "('n', 'n')\n"
     ]
    }
   ],
   "source": [
    "print(*zip(s1, s2), sep='\\n')"
   ]
  },
  {
   "cell_type": "code",
   "execution_count": 58,
   "metadata": {},
   "outputs": [],
   "source": [
    "l1 = [ 'hello', 'world', 'how']\n",
    "l2  = [ 'are', 'you', 'guys', 'let', 'start']"
   ]
  },
  {
   "cell_type": "code",
   "execution_count": 59,
   "metadata": {},
   "outputs": [
    {
     "name": "stdout",
     "output_type": "stream",
     "text": [
      "hello are\n",
      "world you\n",
      "how guys\n"
     ]
    }
   ],
   "source": [
    "for e1, e2 in zip(l1, l2):\n",
    "    print(e1, e2)"
   ]
  },
  {
   "cell_type": "code",
   "execution_count": 61,
   "metadata": {},
   "outputs": [],
   "source": [
    "x = [ randint(1, 10) for var in range(5) ]\n",
    "y = [ randint(1, 10) for var in range(5)]"
   ]
  },
  {
   "cell_type": "code",
   "execution_count": 62,
   "metadata": {},
   "outputs": [
    {
     "name": "stdout",
     "output_type": "stream",
     "text": [
      "[8, 9, 7, 7, 5]\n"
     ]
    }
   ],
   "source": [
    "print(x)"
   ]
  },
  {
   "cell_type": "code",
   "execution_count": 63,
   "metadata": {},
   "outputs": [
    {
     "name": "stdout",
     "output_type": "stream",
     "text": [
      "[10, 3, 9, 6, 4]\n"
     ]
    }
   ],
   "source": [
    "print(y)"
   ]
  },
  {
   "cell_type": "code",
   "execution_count": 64,
   "metadata": {},
   "outputs": [
    {
     "name": "stdout",
     "output_type": "stream",
     "text": [
      "[164, 90, 130, 85, 41]\n"
     ]
    }
   ],
   "source": [
    "r = [ e1**2+e2**2 for e1, e2 in zip(x, y) ]\n",
    "print(r)"
   ]
  },
  {
   "cell_type": "markdown",
   "metadata": {},
   "source": [
    "**Functions**\n"
   ]
  },
  {
   "cell_type": "markdown",
   "metadata": {},
   "source": [
    "<h4 style='color:red'>What is function ? why we use functions ?</h4>\n"
   ]
  },
  {
   "cell_type": "markdown",
   "metadata": {},
   "source": [
    "    functions are set of statements which are used to perform a specific task in programming and can be reused"
   ]
  },
  {
   "cell_type": "markdown",
   "metadata": {},
   "source": [
    "**Features of Function**\n",
    "\n",
    "    * Code Reusability\n",
    "    * Easy Debugging\n",
    "    * Modular Programming\n",
    "    * Recursion & Dynamic Programming\n",
    "    * Make Coding Easy (Writing & Reading)\n",
    "   "
   ]
  },
  {
   "cell_type": "markdown",
   "metadata": {},
   "source": [
    "   **Builtin Functions**  --> which comes with language\n",
    "\n",
    "   **User Defined Functions**  --> custom function to perform custom task"
   ]
  },
  {
   "cell_type": "code",
   "execution_count": 65,
   "metadata": {},
   "outputs": [],
   "source": [
    "import builtins"
   ]
  },
  {
   "cell_type": "code",
   "execution_count": 66,
   "metadata": {},
   "outputs": [
    {
     "name": "stdout",
     "output_type": "stream",
     "text": [
      "['ArithmeticError', 'AssertionError', 'AttributeError', 'BaseException', 'BlockingIOError', 'BrokenPipeError', 'BufferError', 'BytesWarning', 'ChildProcessError', 'ConnectionAbortedError', 'ConnectionError', 'ConnectionRefusedError', 'ConnectionResetError', 'DeprecationWarning', 'EOFError', 'Ellipsis', 'EnvironmentError', 'Exception', 'False', 'FileExistsError', 'FileNotFoundError', 'FloatingPointError', 'FutureWarning', 'GeneratorExit', 'IOError', 'ImportError', 'ImportWarning', 'IndentationError', 'IndexError', 'InterruptedError', 'IsADirectoryError', 'KeyError', 'KeyboardInterrupt', 'LookupError', 'MemoryError', 'ModuleNotFoundError', 'NameError', 'None', 'NotADirectoryError', 'NotImplemented', 'NotImplementedError', 'OSError', 'OverflowError', 'PendingDeprecationWarning', 'PermissionError', 'ProcessLookupError', 'RecursionError', 'ReferenceError', 'ResourceWarning', 'RuntimeError', 'RuntimeWarning', 'StopAsyncIteration', 'StopIteration', 'SyntaxError', 'SyntaxWarning', 'SystemError', 'SystemExit', 'TabError', 'TimeoutError', 'True', 'TypeError', 'UnboundLocalError', 'UnicodeDecodeError', 'UnicodeEncodeError', 'UnicodeError', 'UnicodeTranslateError', 'UnicodeWarning', 'UserWarning', 'ValueError', 'Warning', 'WindowsError', 'ZeroDivisionError', '__IPYTHON__', '__build_class__', '__debug__', '__doc__', '__import__', '__loader__', '__name__', '__package__', '__spec__', 'abs', 'all', 'any', 'ascii', 'bin', 'bool', 'breakpoint', 'bytearray', 'bytes', 'callable', 'chr', 'classmethod', 'compile', 'complex', 'copyright', 'credits', 'delattr', 'dict', 'dir', 'display', 'divmod', 'enumerate', 'eval', 'exec', 'filter', 'float', 'format', 'frozenset', 'get_ipython', 'getattr', 'globals', 'hasattr', 'hash', 'help', 'hex', 'id', 'input', 'int', 'isinstance', 'issubclass', 'iter', 'len', 'license', 'list', 'locals', 'map', 'max', 'memoryview', 'min', 'next', 'object', 'oct', 'open', 'ord', 'pow', 'print', 'property', 'range', 'repr', 'reversed', 'round', 'set', 'setattr', 'slice', 'sorted', 'staticmethod', 'str', 'sum', 'super', 'tuple', 'type', 'vars', 'zip']\n"
     ]
    }
   ],
   "source": [
    "print(dir(builtins))"
   ]
  },
  {
   "cell_type": "code",
   "execution_count": null,
   "metadata": {},
   "outputs": [],
   "source": []
  },
  {
   "cell_type": "code",
   "execution_count": 67,
   "metadata": {
    "scrolled": true
   },
   "outputs": [
    {
     "name": "stdout",
     "output_type": "stream",
     "text": [
      "['abs', 'all', 'any', 'ascii', 'bin', 'bool', 'breakpoint', 'bytearray', 'bytes', 'callable', 'chr', 'classmethod', 'compile', 'complex', 'copyright', 'credits', 'delattr', 'dict', 'dir', 'display', 'divmod', 'enumerate', 'eval', 'exec', 'filter', 'float', 'format', 'frozenset', 'get_ipython', 'getattr', 'globals', 'hasattr', 'hash', 'help', 'hex', 'id', 'input', 'int', 'isinstance', 'issubclass', 'iter', 'len', 'license', 'list', 'locals', 'map', 'max', 'memoryview', 'min', 'next', 'object', 'oct', 'open', 'ord', 'pow', 'print', 'property', 'range', 'repr', 'reversed', 'round', 'set', 'setattr', 'slice', 'sorted', 'staticmethod', 'str', 'sum', 'super', 'tuple', 'type', 'vars', 'zip']\n"
     ]
    }
   ],
   "source": [
    "func = [ f for f in dir(builtins) if f[0].islower() ]\n",
    "print(func)"
   ]
  },
  {
   "cell_type": "code",
   "execution_count": 69,
   "metadata": {},
   "outputs": [
    {
     "name": "stdout",
     "output_type": "stream",
     "text": [
      "73\n"
     ]
    }
   ],
   "source": [
    "print(len(func))"
   ]
  },
  {
   "cell_type": "code",
   "execution_count": 70,
   "metadata": {},
   "outputs": [
    {
     "data": {
      "text/plain": [
       "123"
      ]
     },
     "execution_count": 70,
     "metadata": {},
     "output_type": "execute_result"
    }
   ],
   "source": [
    "abs(-123) # | mod |"
   ]
  },
  {
   "cell_type": "code",
   "execution_count": 73,
   "metadata": {},
   "outputs": [
    {
     "data": {
      "text/plain": [
       "123.12"
      ]
     },
     "execution_count": 73,
     "metadata": {},
     "output_type": "execute_result"
    }
   ],
   "source": [
    "abs(123.12)"
   ]
  },
  {
   "cell_type": "code",
   "execution_count": 74,
   "metadata": {},
   "outputs": [],
   "source": [
    "cond = [ True, False, True, True]"
   ]
  },
  {
   "cell_type": "code",
   "execution_count": 75,
   "metadata": {},
   "outputs": [
    {
     "data": {
      "text/plain": [
       "False"
      ]
     },
     "execution_count": 75,
     "metadata": {},
     "output_type": "execute_result"
    }
   ],
   "source": [
    "all(cond) # all works like and "
   ]
  },
  {
   "cell_type": "code",
   "execution_count": 76,
   "metadata": {},
   "outputs": [
    {
     "data": {
      "text/plain": [
       "True"
      ]
     },
     "execution_count": 76,
     "metadata": {},
     "output_type": "execute_result"
    }
   ],
   "source": [
    "all([ True, True, 'hi', 'hello'])"
   ]
  },
  {
   "cell_type": "code",
   "execution_count": 77,
   "metadata": {},
   "outputs": [
    {
     "data": {
      "text/plain": [
       "True"
      ]
     },
     "execution_count": 77,
     "metadata": {},
     "output_type": "execute_result"
    }
   ],
   "source": [
    "any([ True, False, 0, {}])"
   ]
  },
  {
   "cell_type": "code",
   "execution_count": 78,
   "metadata": {},
   "outputs": [
    {
     "name": "stdout",
     "output_type": "stream",
     "text": [
      "See https://www.python.org/psf/license/\n"
     ]
    }
   ],
   "source": [
    "license()"
   ]
  },
  {
   "cell_type": "code",
   "execution_count": 79,
   "metadata": {},
   "outputs": [
    {
     "name": "stdout",
     "output_type": "stream",
     "text": [
      "    Thanks to CWI, CNRI, BeOpen.com, Zope Corporation and a cast of thousands\n",
      "    for supporting Python development.  See www.python.org for more information.\n"
     ]
    }
   ],
   "source": [
    "credits()"
   ]
  },
  {
   "cell_type": "markdown",
   "metadata": {},
   "source": [
    "    built-in function you have to study"
   ]
  },
  {
   "cell_type": "markdown",
   "metadata": {},
   "source": [
    "**Custom Functions**\n",
    "\n",
    "    Without Arguments Without Return Type\n",
    "    \n",
    "    Without Arguement With Return Type\n",
    "    \n",
    "    With Argument Without Return Type\n",
    "    \n",
    "    With Argument With Return Type"
   ]
  },
  {
   "cell_type": "code",
   "execution_count": 81,
   "metadata": {},
   "outputs": [
    {
     "name": "stdout",
     "output_type": "stream",
     "text": [
      "\n",
      "None\n"
     ]
    }
   ],
   "source": [
    "# this is calling\n",
    "x = print() # Without Argument Without Return Type\n",
    "print(x) #  With Argument Without Return Type"
   ]
  },
  {
   "cell_type": "code",
   "execution_count": 82,
   "metadata": {},
   "outputs": [
    {
     "name": "stdout",
     "output_type": "stream",
     "text": [
      "45\n",
      "45\n"
     ]
    }
   ],
   "source": [
    "name = input() # Without Argument with return type string\n",
    "print(name)"
   ]
  },
  {
   "cell_type": "code",
   "execution_count": 83,
   "metadata": {},
   "outputs": [
    {
     "name": "stdout",
     "output_type": "stream",
     "text": [
      "Name: sachin\n",
      "sachin\n"
     ]
    }
   ],
   "source": [
    "name = input(\"Name: \") # with argument with return type \n",
    "print(name)"
   ]
  },
  {
   "cell_type": "markdown",
   "metadata": {},
   "source": [
    "    how to create functions in python ? \n"
   ]
  },
  {
   "cell_type": "markdown",
   "metadata": {},
   "source": [
    "**Function is just a callable object**"
   ]
  },
  {
   "cell_type": "markdown",
   "metadata": {},
   "source": [
    "**Syntax**:\n",
    "\n",
    "    defination --> which store group of logical statements to perform a specific task\n",
    "    \n",
    "    calling --> used to executes stored statements of a function\n",
    "    \n",
    "    \n",
    "    def func_name(arg1, arg2, ...): # arg1, arg2 --> formal parameters\n",
    "        \"\"\"\n",
    "            doc string of function explaining everything about how to use this function\n",
    "        \"\"\"\n",
    "        st-1\n",
    "        st-2\n",
    "        st-3\n",
    "        ...\n",
    "        st-n\n",
    "        \n",
    "        return value\n",
    "        \n",
    "    \n",
    "    value = func_name(para1, para2, ....) # para1, para2 --> actual parameters\n",
    "        \n",
    "        \n",
    "        "
   ]
  },
  {
   "cell_type": "code",
   "execution_count": 86,
   "metadata": {},
   "outputs": [],
   "source": [
    "def hello(name):\n",
    "    \"\"\"\n",
    "        hello(name) is a time pass function to explain functions.\n",
    "        \n",
    "        this is called doc-string of function\n",
    "    \"\"\"\n",
    "    s = f\"Welcome {name} to the world of functions in python.\"\n",
    "    return s"
   ]
  },
  {
   "cell_type": "code",
   "execution_count": 87,
   "metadata": {},
   "outputs": [
    {
     "name": "stdout",
     "output_type": "stream",
     "text": [
      "Help on function hello in module __main__:\n",
      "\n",
      "hello(name)\n",
      "    hello(name) is a time pass function to explain functions.\n",
      "    \n",
      "    this is called doc-string of function\n",
      "\n"
     ]
    }
   ],
   "source": [
    "help(hello)"
   ]
  },
  {
   "cell_type": "code",
   "execution_count": 88,
   "metadata": {},
   "outputs": [
    {
     "name": "stdout",
     "output_type": "stream",
     "text": [
      "\n",
      "        hello(name) is a time pass function to explain functions.\n",
      "        \n",
      "        this is called doc-string of function\n",
      "    \n"
     ]
    }
   ],
   "source": [
    "print(hello.__doc__)"
   ]
  },
  {
   "cell_type": "code",
   "execution_count": 89,
   "metadata": {},
   "outputs": [],
   "source": [
    "value = hello(\"Sachin Yadav\")"
   ]
  },
  {
   "cell_type": "code",
   "execution_count": 90,
   "metadata": {},
   "outputs": [
    {
     "name": "stdout",
     "output_type": "stream",
     "text": [
      "Welcome Sachin Yadav to the world of functions in python.\n"
     ]
    }
   ],
   "source": [
    "print(value)"
   ]
  },
  {
   "cell_type": "markdown",
   "metadata": {},
   "source": [
    "**Without Argument Without Return Type**"
   ]
  },
  {
   "cell_type": "code",
   "execution_count": 91,
   "metadata": {},
   "outputs": [],
   "source": [
    "def greet():\n",
    "    print(\"Very Very Welcome to Function in Python.\")\n",
    "    print(\"Functions are use to reuse statements.\")"
   ]
  },
  {
   "cell_type": "code",
   "execution_count": 92,
   "metadata": {},
   "outputs": [
    {
     "name": "stdout",
     "output_type": "stream",
     "text": [
      "Help on function greet in module __main__:\n",
      "\n",
      "greet()\n",
      "\n"
     ]
    }
   ],
   "source": [
    "help(greet)"
   ]
  },
  {
   "cell_type": "code",
   "execution_count": 93,
   "metadata": {},
   "outputs": [
    {
     "name": "stdout",
     "output_type": "stream",
     "text": [
      "None\n"
     ]
    }
   ],
   "source": [
    "print(greet.__doc__)"
   ]
  },
  {
   "cell_type": "code",
   "execution_count": 94,
   "metadata": {},
   "outputs": [
    {
     "name": "stdout",
     "output_type": "stream",
     "text": [
      "Very Very Welcome to Function in Python.\n",
      "Functions are use to reuse statements.\n"
     ]
    }
   ],
   "source": [
    "greet()"
   ]
  },
  {
   "cell_type": "code",
   "execution_count": 95,
   "metadata": {},
   "outputs": [
    {
     "name": "stdout",
     "output_type": "stream",
     "text": [
      "Very Very Welcome to Function in Python.\n",
      "Functions are use to reuse statements.\n",
      "None\n"
     ]
    }
   ],
   "source": [
    "value = greet()\n",
    "print(value)"
   ]
  },
  {
   "cell_type": "code",
   "execution_count": 96,
   "metadata": {},
   "outputs": [
    {
     "name": "stdout",
     "output_type": "stream",
     "text": [
      "Very Very Welcome to Function in Python.\n",
      "Functions are use to reuse statements.\n",
      "\n",
      " ____________________________________________________________ \n",
      "\n",
      "Very Very Welcome to Function in Python.\n",
      "Functions are use to reuse statements.\n",
      "\n",
      " ____________________________________________________________ \n",
      "\n",
      "Very Very Welcome to Function in Python.\n",
      "Functions are use to reuse statements.\n",
      "\n",
      " ____________________________________________________________ \n",
      "\n"
     ]
    }
   ],
   "source": [
    "for var in range(3):\n",
    "    greet()\n",
    "    print('\\n', \"_\"*60, '\\n')"
   ]
  },
  {
   "cell_type": "markdown",
   "metadata": {},
   "source": [
    "**With Argument Without Return Type**"
   ]
  },
  {
   "cell_type": "code",
   "execution_count": 101,
   "metadata": {},
   "outputs": [],
   "source": [
    "def test_drink(name, age): # formal parameters\n",
    "    \"\"\"\n",
    "        here name, age are the property of test_drink function\n",
    "        \n",
    "        We call them local variables or local parameters or local arguments\n",
    "        \n",
    "        these are famously known as keyword arguments\n",
    "    \"\"\"\n",
    "    if age >= 18:\n",
    "        print(f\"{name.title()} can drink and can drive.\")\n",
    "    else:\n",
    "        print(f\"No!!!! {name.title()} beta, you are a kid you can not drink neither you can drive.\")"
   ]
  },
  {
   "cell_type": "code",
   "execution_count": 105,
   "metadata": {},
   "outputs": [
    {
     "name": "stdout",
     "output_type": "stream",
     "text": [
      "Sachin Yadav can drink and can drive.\n",
      "None\n"
     ]
    }
   ],
   "source": [
    "value = test_drink('Sachin yadav', 24) # actual arguments\n",
    "print(value)"
   ]
  },
  {
   "cell_type": "code",
   "execution_count": 103,
   "metadata": {},
   "outputs": [
    {
     "name": "stdout",
     "output_type": "stream",
     "text": [
      "No!!!! Rohit beta, you are a kid you can not drink neither you can drive.\n"
     ]
    }
   ],
   "source": [
    "test_drink('Rohit', 13)"
   ]
  },
  {
   "cell_type": "code",
   "execution_count": 104,
   "metadata": {},
   "outputs": [
    {
     "name": "stdout",
     "output_type": "stream",
     "text": [
      "Ajay can drink and can drive.\n"
     ]
    }
   ],
   "source": [
    "test_drink('ajay', 90)"
   ]
  },
  {
   "cell_type": "markdown",
   "metadata": {},
   "source": [
    "**Without Argument With Return Type**"
   ]
  },
  {
   "cell_type": "code",
   "execution_count": 107,
   "metadata": {},
   "outputs": [],
   "source": [
    "def squre():\n",
    "    \"\"\"\n",
    "        squre() --> takes two number input and return square sum of their\n",
    "    \"\"\"\n",
    "    x  = int(input(\"Enter x: \"))\n",
    "    y = int(input(\"Enter y: \"))\n",
    "    return x**2 + y**2"
   ]
  },
  {
   "cell_type": "code",
   "execution_count": 108,
   "metadata": {},
   "outputs": [
    {
     "name": "stdout",
     "output_type": "stream",
     "text": [
      "Enter x: 5\n",
      "Enter y: 15\n",
      "Answere:  250\n"
     ]
    }
   ],
   "source": [
    "ans = squre()\n",
    "print(\"Answere: \", ans)"
   ]
  },
  {
   "cell_type": "markdown",
   "metadata": {},
   "source": [
    "**With Argument With Return Type**"
   ]
  },
  {
   "cell_type": "code",
   "execution_count": 109,
   "metadata": {},
   "outputs": [],
   "source": [
    "def is_even(number):\n",
    "    \"\"\"\n",
    "        even_odd(number) --> True if number is even else False\n",
    "    \"\"\"\n",
    "    if number % 2 == 0:\n",
    "        return True\n",
    "    else:\n",
    "        return False"
   ]
  },
  {
   "cell_type": "code",
   "execution_count": 110,
   "metadata": {},
   "outputs": [
    {
     "data": {
      "text/plain": [
       "True"
      ]
     },
     "execution_count": 110,
     "metadata": {},
     "output_type": "execute_result"
    }
   ],
   "source": [
    "is_even(10)"
   ]
  },
  {
   "cell_type": "code",
   "execution_count": 111,
   "metadata": {},
   "outputs": [
    {
     "data": {
      "text/plain": [
       "False"
      ]
     },
     "execution_count": 111,
     "metadata": {},
     "output_type": "execute_result"
    }
   ],
   "source": [
    "is_even(13)"
   ]
  },
  {
   "cell_type": "code",
   "execution_count": 112,
   "metadata": {},
   "outputs": [],
   "source": [
    "def table(num):\n",
    "    \"\"\"\n",
    "        table(num) --> print out table of a num\n",
    "    \"\"\"\n",
    "    for var in range(1, 11):\n",
    "        print(f\"{num:>5} x {var:>2} = {var*num:>5}\")"
   ]
  },
  {
   "cell_type": "code",
   "execution_count": 113,
   "metadata": {},
   "outputs": [
    {
     "name": "stdout",
     "output_type": "stream",
     "text": [
      "    5 x  1 =     5\n",
      "    5 x  2 =    10\n",
      "    5 x  3 =    15\n",
      "    5 x  4 =    20\n",
      "    5 x  5 =    25\n",
      "    5 x  6 =    30\n",
      "    5 x  7 =    35\n",
      "    5 x  8 =    40\n",
      "    5 x  9 =    45\n",
      "    5 x 10 =    50\n"
     ]
    }
   ],
   "source": [
    "table(5)"
   ]
  },
  {
   "cell_type": "code",
   "execution_count": 114,
   "metadata": {},
   "outputs": [
    {
     "name": "stdout",
     "output_type": "stream",
     "text": [
      "    3 x  1 =     3\n",
      "    3 x  2 =     6\n",
      "    3 x  3 =     9\n",
      "    3 x  4 =    12\n",
      "    3 x  5 =    15\n",
      "    3 x  6 =    18\n",
      "    3 x  7 =    21\n",
      "    3 x  8 =    24\n",
      "    3 x  9 =    27\n",
      "    3 x 10 =    30\n"
     ]
    }
   ],
   "source": [
    "table(3)"
   ]
  },
  {
   "cell_type": "code",
   "execution_count": 115,
   "metadata": {},
   "outputs": [
    {
     "name": "stdout",
     "output_type": "stream",
     "text": [
      "\n",
      "____________________________________________________________\n",
      "\n",
      "\t\t\t\tTable of 5\n",
      "\n",
      "\n",
      "    5 x  1 =     5\n",
      "    5 x  2 =    10\n",
      "    5 x  3 =    15\n",
      "    5 x  4 =    20\n",
      "    5 x  5 =    25\n",
      "    5 x  6 =    30\n",
      "    5 x  7 =    35\n",
      "    5 x  8 =    40\n",
      "    5 x  9 =    45\n",
      "    5 x 10 =    50\n",
      "\n",
      "\n",
      "\n",
      "____________________________________________________________\n",
      "\n",
      "____________________________________________________________\n",
      "\n",
      "\t\t\t\tTable of 6\n",
      "\n",
      "\n",
      "    6 x  1 =     6\n",
      "    6 x  2 =    12\n",
      "    6 x  3 =    18\n",
      "    6 x  4 =    24\n",
      "    6 x  5 =    30\n",
      "    6 x  6 =    36\n",
      "    6 x  7 =    42\n",
      "    6 x  8 =    48\n",
      "    6 x  9 =    54\n",
      "    6 x 10 =    60\n",
      "\n",
      "\n",
      "\n",
      "____________________________________________________________\n",
      "\n",
      "____________________________________________________________\n",
      "\n",
      "\t\t\t\tTable of 7\n",
      "\n",
      "\n",
      "    7 x  1 =     7\n",
      "    7 x  2 =    14\n",
      "    7 x  3 =    21\n",
      "    7 x  4 =    28\n",
      "    7 x  5 =    35\n",
      "    7 x  6 =    42\n",
      "    7 x  7 =    49\n",
      "    7 x  8 =    56\n",
      "    7 x  9 =    63\n",
      "    7 x 10 =    70\n",
      "\n",
      "\n",
      "\n",
      "____________________________________________________________\n",
      "\n",
      "____________________________________________________________\n",
      "\n",
      "\t\t\t\tTable of 8\n",
      "\n",
      "\n",
      "    8 x  1 =     8\n",
      "    8 x  2 =    16\n",
      "    8 x  3 =    24\n",
      "    8 x  4 =    32\n",
      "    8 x  5 =    40\n",
      "    8 x  6 =    48\n",
      "    8 x  7 =    56\n",
      "    8 x  8 =    64\n",
      "    8 x  9 =    72\n",
      "    8 x 10 =    80\n",
      "\n",
      "\n",
      "\n",
      "____________________________________________________________\n",
      "\n",
      "____________________________________________________________\n",
      "\n",
      "\t\t\t\tTable of 9\n",
      "\n",
      "\n",
      "    9 x  1 =     9\n",
      "    9 x  2 =    18\n",
      "    9 x  3 =    27\n",
      "    9 x  4 =    36\n",
      "    9 x  5 =    45\n",
      "    9 x  6 =    54\n",
      "    9 x  7 =    63\n",
      "    9 x  8 =    72\n",
      "    9 x  9 =    81\n",
      "    9 x 10 =    90\n",
      "\n",
      "\n",
      "\n",
      "____________________________________________________________\n",
      "\n",
      "____________________________________________________________\n",
      "\n",
      "\t\t\t\tTable of 10\n",
      "\n",
      "\n",
      "   10 x  1 =    10\n",
      "   10 x  2 =    20\n",
      "   10 x  3 =    30\n",
      "   10 x  4 =    40\n",
      "   10 x  5 =    50\n",
      "   10 x  6 =    60\n",
      "   10 x  7 =    70\n",
      "   10 x  8 =    80\n",
      "   10 x  9 =    90\n",
      "   10 x 10 =   100\n",
      "\n",
      "\n",
      "\n",
      "____________________________________________________________\n"
     ]
    }
   ],
   "source": [
    "for num in range(5, 11):\n",
    "    print()\n",
    "    print(\"_\"*60)\n",
    "    print(f\"\\n\\t\\t\\t\\tTable of {num}\\n\\n\")\n",
    "    table(num)\n",
    "    print(\"\\n\\n\")\n",
    "    print('_'*60)"
   ]
  },
  {
   "cell_type": "markdown",
   "metadata": {},
   "source": [
    "prime\n",
    "\n",
    "armstrong\n",
    "\n",
    "fab(n)\n",
    "\n",
    "pattern\n",
    "\n",
    "tic-toc-toe\n",
    "\n"
   ]
  },
  {
   "cell_type": "markdown",
   "metadata": {},
   "source": [
    "* Types of Arguments\n",
    "* Scope in Function & Recursion\n",
    "* Advance Python Function\n",
    "* Decorators and Generators\n",
    "* OOPs\n"
   ]
  },
  {
   "cell_type": "code",
   "execution_count": null,
   "metadata": {},
   "outputs": [],
   "source": []
  }
 ],
 "metadata": {
  "kernelspec": {
   "display_name": "Python 3",
   "language": "python",
   "name": "python3"
  },
  "language_info": {
   "codemirror_mode": {
    "name": "ipython",
    "version": 3
   },
   "file_extension": ".py",
   "mimetype": "text/x-python",
   "name": "python",
   "nbconvert_exporter": "python",
   "pygments_lexer": "ipython3",
   "version": "3.7.4"
  }
 },
 "nbformat": 4,
 "nbformat_minor": 2
}
