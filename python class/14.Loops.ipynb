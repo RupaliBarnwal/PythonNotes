{
 "cells": [
  {
   "cell_type": "markdown",
   "metadata": {},
   "source": [
    "**Any Doubt**"
   ]
  },
  {
   "cell_type": "markdown",
   "metadata": {},
   "source": [
    "**loop**"
   ]
  },
  {
   "cell_type": "code",
   "execution_count": 1,
   "metadata": {},
   "outputs": [
    {
     "name": "stdout",
     "output_type": "stream",
     "text": [
      "Hello World Times:  2\n",
      "Hello World Times:  4\n",
      "Hello World Times:  6\n",
      "Hello World Times:  8\n"
     ]
    }
   ],
   "source": [
    "var = 1\n",
    "while var <= 10:\n",
    "    var += 1\n",
    "    if var % 2:\n",
    "        continue\n",
    "    if var % 5 == 0:\n",
    "        break\n",
    "    print(\"Hello World Times: \", var)\n",
    "    \n",
    "else:\n",
    "    print(\"Checking Your Knowledge about loops\")"
   ]
  },
  {
   "cell_type": "markdown",
   "metadata": {},
   "source": [
    "10 % (guide, assignment, doubt solving) --> 90 % "
   ]
  },
  {
   "cell_type": "code",
   "execution_count": 2,
   "metadata": {},
   "outputs": [],
   "source": [
    "while True:\n",
    "    break\n",
    "    print(\"hello\")"
   ]
  },
  {
   "cell_type": "code",
   "execution_count": 3,
   "metadata": {},
   "outputs": [
    {
     "name": "stdout",
     "output_type": "stream",
     "text": [
      "hello\n"
     ]
    }
   ],
   "source": [
    "while True:\n",
    "    print(\"hello\")\n",
    "    break"
   ]
  },
  {
   "cell_type": "code",
   "execution_count": 2,
   "metadata": {},
   "outputs": [
    {
     "name": "stdout",
     "output_type": "stream",
     "text": [
      "Hello\n"
     ]
    }
   ],
   "source": [
    "c = 1\n",
    "while c <= 10:\n",
    "    if c % 2 == 0:\n",
    "        break\n",
    "    print(\"Hello\")\n",
    "    c += 1\n",
    "else:\n",
    "    print(\"no else part if you break a loop\")"
   ]
  },
  {
   "cell_type": "code",
   "execution_count": 4,
   "metadata": {},
   "outputs": [],
   "source": [
    "from random import randint"
   ]
  },
  {
   "cell_type": "code",
   "execution_count": 6,
   "metadata": {},
   "outputs": [
    {
     "data": {
      "text/plain": [
       "3"
      ]
     },
     "execution_count": 6,
     "metadata": {},
     "output_type": "execute_result"
    }
   ],
   "source": [
    "randint(1, 10)"
   ]
  },
  {
   "cell_type": "markdown",
   "metadata": {},
   "source": [
    "    userGuess > 50\n",
    "    \n",
    "    Boundary Value Analysis\n",
    "        \n",
    "        49, 50, 51"
   ]
  },
  {
   "cell_type": "markdown",
   "metadata": {},
   "source": [
    "Programming --> \n",
    "\n",
    "    Don't speak Show me your code"
   ]
  },
  {
   "cell_type": "code",
   "execution_count": 12,
   "metadata": {},
   "outputs": [
    {
     "data": {
      "text/plain": [
       "0"
      ]
     },
     "execution_count": 12,
     "metadata": {},
     "output_type": "execute_result"
    }
   ],
   "source": [
    "import os\n",
    "os.system('notepad')"
   ]
  },
  {
   "cell_type": "markdown",
   "metadata": {},
   "source": [
    "    PEP --> Python Enhancement Proposals\n",
    "    \n",
    "    PEP Sections \n",
    "    \n",
    "        PEP 8 --> Python Coding Style\n",
    "    "
   ]
  },
  {
   "cell_type": "code",
   "execution_count": 21,
   "metadata": {},
   "outputs": [
    {
     "name": "stdout",
     "output_type": "stream",
     "text": [
      "Overwriting guess_game.py\n"
     ]
    }
   ],
   "source": [
    "%%writefile guess_game.py\n",
    "\"\"\"\n",
    "Guess Game\n",
    "this is a fun to guess a number between 1-50 correctly\n",
    "\"\"\"\n",
    "from random import randint\n",
    "# random is module to generate random numbers\n",
    "import os\n",
    "# this is to clear screen usin cls command\n",
    "os.system('cls') # to clear output screen\n",
    "print(\"\\n\\n\\n\\n\")\n",
    "COMGUESS = randint(1, 50)\n",
    "# a random number is guessed\n",
    "CHANCES = 5\n",
    "# initial 5 chances\n",
    "while CHANCES: # False --> 0\n",
    "    print(f\"\\nYou have left {CHANCES} chances.\")\n",
    "    USERGUESS = int(input(\"Your Guess[1, 50]: \"))\n",
    "    if USERGUESS > 50 or USERGUESS < 1:\n",
    "        print(\"\\nWarning!! Your Guess is Out of Range Please Guess b/w 1-50.\")\n",
    "        continue\n",
    "    if USERGUESS > COMGUESS:\n",
    "        print(\"\\nHint: Your Guess is High Think a Lower Number.\")\n",
    "    elif USERGUESS < COMGUESS:\n",
    "        print(\"\\nHint: Your Guess is Low Think a Higher Number.\")\n",
    "    else:\n",
    "        print(\"\\n\\nWholaa!!! You such a Master!! You have guessed Correctly.\")\n",
    "        break\n",
    "    CHANCES -= 1\n",
    "else:\n",
    "    print(\"\\n\\nYou such a Looser\")\n",
    "    print(\"\\nComputer Guess Was : \", COMGUESS)"
   ]
  },
  {
   "cell_type": "markdown",
   "metadata": {},
   "source": [
    "    python -m pip install pylint"
   ]
  },
  {
   "cell_type": "code",
   "execution_count": 10,
   "metadata": {},
   "outputs": [
    {
     "data": {
      "text/plain": [
       "'C:\\\\Batches\\\\Batch_7pm_online'"
      ]
     },
     "execution_count": 10,
     "metadata": {},
     "output_type": "execute_result"
    }
   ],
   "source": [
    "pwd"
   ]
  },
  {
   "cell_type": "markdown",
   "metadata": {},
   "source": [
    "Sequences\n",
    "\n",
    "    string\n",
    "    list\n",
    "    tuple\n",
    "    dict\n",
    "    set\n",
    "    frozenset"
   ]
  },
  {
   "cell_type": "code",
   "execution_count": 22,
   "metadata": {},
   "outputs": [
    {
     "name": "stdout",
     "output_type": "stream",
     "text": [
      "Hello World\n"
     ]
    }
   ],
   "source": [
    "print(\"Hello World\")"
   ]
  },
  {
   "cell_type": "code",
   "execution_count": 24,
   "metadata": {},
   "outputs": [
    {
     "name": "stdout",
     "output_type": "stream",
     "text": [
      "H e l l o   W o r l d\n",
      "H e l l o   W o r l d\n"
     ]
    }
   ],
   "source": [
    "print(*\"Hello World\") \n",
    "print(\"H\", \"e\", \"l\", \"l\", \"o\", \" \", \"W\", \"o\", \"r\", \"l\", \"d\")"
   ]
  },
  {
   "cell_type": "code",
   "execution_count": 25,
   "metadata": {},
   "outputs": [
    {
     "name": "stdout",
     "output_type": "stream",
     "text": [
      "H\n",
      "e\n",
      "l\n",
      "l\n",
      "o\n",
      " \n",
      "W\n",
      "o\n",
      "r\n",
      "l\n",
      "d\n"
     ]
    }
   ],
   "source": [
    "print(*\"Hello World\", sep='\\n')"
   ]
  },
  {
   "cell_type": "code",
   "execution_count": 27,
   "metadata": {},
   "outputs": [
    {
     "name": "stdout",
     "output_type": "stream",
     "text": [
      "1\n",
      "2\n",
      "java\n"
     ]
    }
   ],
   "source": [
    "print(*[1, 2, 'java'], sep='\\n')"
   ]
  },
  {
   "cell_type": "code",
   "execution_count": 28,
   "metadata": {},
   "outputs": [
    {
     "name": "stdout",
     "output_type": "stream",
     "text": [
      "name\n",
      "age\n"
     ]
    }
   ],
   "source": [
    "print(*{'name':'sachin', 'age':23}, sep='\\n')"
   ]
  },
  {
   "cell_type": "code",
   "execution_count": 29,
   "metadata": {},
   "outputs": [
    {
     "name": "stdout",
     "output_type": "stream",
     "text": [
      "sachin\n",
      "23\n"
     ]
    }
   ],
   "source": [
    "print(*{'name':'sachin', 'age':23}.values(), sep='\\n')"
   ]
  },
  {
   "cell_type": "code",
   "execution_count": 30,
   "metadata": {},
   "outputs": [
    {
     "name": "stdout",
     "output_type": "stream",
     "text": [
      "('name', 'sachin')\n",
      "('age', 23)\n"
     ]
    }
   ],
   "source": [
    "print(*{'name':'sachin', 'age':23}.items(), sep='\\n')"
   ]
  },
  {
   "cell_type": "code",
   "execution_count": 34,
   "metadata": {},
   "outputs": [
    {
     "name": "stdout",
     "output_type": "stream",
     "text": [
      "32\n",
      "1\n",
      "2\n",
      "3\n",
      "23\n"
     ]
    }
   ],
   "source": [
    "print(*{1, 2, 1,23, 2,32, 3,  2,32}, sep='\\n')"
   ]
  },
  {
   "cell_type": "code",
   "execution_count": 35,
   "metadata": {},
   "outputs": [],
   "source": [
    "lang = [ 'java', 'c', 'c++', 'ruby', 'perl', 'python']"
   ]
  },
  {
   "cell_type": "code",
   "execution_count": 36,
   "metadata": {},
   "outputs": [
    {
     "name": "stdout",
     "output_type": "stream",
     "text": [
      "java\n",
      "c\n",
      "c++\n",
      "ruby\n",
      "perl\n",
      "python\n"
     ]
    }
   ],
   "source": [
    "print(*lang, sep='\\n')"
   ]
  },
  {
   "cell_type": "code",
   "execution_count": 37,
   "metadata": {},
   "outputs": [
    {
     "name": "stdout",
     "output_type": "stream",
     "text": [
      "java\n",
      "c\n",
      "c++\n",
      "ruby\n",
      "perl\n",
      "python\n",
      "iteration sucessfull\n"
     ]
    }
   ],
   "source": [
    "lang = [ 'java', 'c', 'c++', 'ruby', 'perl', 'python']\n",
    "\n",
    "i = 0\n",
    "while i < len(lang):\n",
    "    print(lang[i])\n",
    "    i += 1\n",
    "else:\n",
    "    print(\"iteration sucessfull\")\n",
    "    "
   ]
  },
  {
   "cell_type": "code",
   "execution_count": 39,
   "metadata": {},
   "outputs": [
    {
     "name": "stdout",
     "output_type": "stream",
     "text": [
      "java c c++ ruby perl python \n",
      "iteration sucessfull\n"
     ]
    }
   ],
   "source": [
    "lang = [ 'java', 'c', 'c++', 'ruby', 'perl', 'python']\n",
    "\n",
    "i = 0\n",
    "while i < len(lang):\n",
    "    print(lang[i], end=' ')\n",
    "    i += 1\n",
    "else:\n",
    "    print(\"\\niteration sucessfull\")\n",
    "    "
   ]
  },
  {
   "cell_type": "markdown",
   "metadata": {},
   "source": [
    "**For**"
   ]
  },
  {
   "cell_type": "markdown",
   "metadata": {},
   "source": [
    "**Syntax**\n",
    "\n",
    "    for value in iterable:\n",
    "        st-1\n",
    "        st-2\n",
    "        st-3\n",
    "        st-4\n",
    "        ...\n",
    "        st-n"
   ]
  },
  {
   "cell_type": "code",
   "execution_count": 40,
   "metadata": {},
   "outputs": [],
   "source": [
    "s = \"python\""
   ]
  },
  {
   "cell_type": "code",
   "execution_count": 42,
   "metadata": {},
   "outputs": [
    {
     "name": "stdout",
     "output_type": "stream",
     "text": [
      "p\n",
      "y\n",
      "t\n",
      "h\n",
      "o\n",
      "n\n",
      "okay all good\n"
     ]
    }
   ],
   "source": [
    "for char in s:\n",
    "    print(char)\n",
    "else:\n",
    "    print(\"okay all good\")"
   ]
  },
  {
   "cell_type": "code",
   "execution_count": 43,
   "metadata": {},
   "outputs": [
    {
     "name": "stdout",
     "output_type": "stream",
     "text": [
      "y\n",
      "h\n",
      "o\n",
      "n\n",
      "okay all good\n"
     ]
    }
   ],
   "source": [
    "for char in s:\n",
    "    if char in [ 'p', 't']:\n",
    "        continue\n",
    "    print(char)\n",
    "else:\n",
    "    print(\"okay all good\")"
   ]
  },
  {
   "cell_type": "code",
   "execution_count": 44,
   "metadata": {},
   "outputs": [
    {
     "name": "stdout",
     "output_type": "stream",
     "text": [
      "p\n",
      "y\n",
      "t\n",
      "h\n"
     ]
    }
   ],
   "source": [
    "for char in s:\n",
    "    if char in [ 'a', 'e', 'i', 'o', 'u']:\n",
    "        break\n",
    "    print(char)\n",
    "else:\n",
    "    print(\"okay all good\")"
   ]
  },
  {
   "cell_type": "code",
   "execution_count": 45,
   "metadata": {},
   "outputs": [],
   "source": [
    "lang = [ 'java', 'c', 'c++', 'ruby', 'perl', 'python']"
   ]
  },
  {
   "cell_type": "code",
   "execution_count": 46,
   "metadata": {},
   "outputs": [
    {
     "name": "stdout",
     "output_type": "stream",
     "text": [
      "java\n",
      "c\n",
      "c++\n",
      "ruby\n",
      "perl\n",
      "python\n",
      "ok all good\n"
     ]
    }
   ],
   "source": [
    "for item in lang:\n",
    "    print(item)\n",
    "else:\n",
    "    print(\"ok all good\")"
   ]
  },
  {
   "cell_type": "markdown",
   "metadata": {},
   "source": [
    "    to search item in list"
   ]
  },
  {
   "cell_type": "code",
   "execution_count": 47,
   "metadata": {},
   "outputs": [
    {
     "name": "stdout",
     "output_type": "stream",
     "text": [
      "['java', 'c', 'c++', 'ruby', 'perl', 'python']\n"
     ]
    }
   ],
   "source": [
    "print(lang)"
   ]
  },
  {
   "cell_type": "code",
   "execution_count": 49,
   "metadata": {},
   "outputs": [
    {
     "data": {
      "text/plain": [
       "'hello'"
      ]
     },
     "execution_count": 49,
     "metadata": {},
     "output_type": "execute_result"
    }
   ],
   "source": [
    "\"    hello          \".strip()"
   ]
  },
  {
   "cell_type": "code",
   "execution_count": 52,
   "metadata": {},
   "outputs": [
    {
     "name": "stdout",
     "output_type": "stream",
     "text": [
      "language:  JaVa                                   \n",
      "Item Found in List.\n"
     ]
    }
   ],
   "source": [
    "key = input(\"language: \").strip().lower()\n",
    "\n",
    "for item in lang:\n",
    "    if item == key:\n",
    "        print(\"Item Found in List.\")\n",
    "        break\n",
    "else:\n",
    "    print(\"Item not Found\")\n"
   ]
  },
  {
   "cell_type": "code",
   "execution_count": 53,
   "metadata": {},
   "outputs": [
    {
     "name": "stdout",
     "output_type": "stream",
     "text": [
      "language:         j       A         V        a\n",
      "Item Found in List.\n"
     ]
    }
   ],
   "source": [
    "key = \"\".join(input(\"language: \").strip().lower().split())\n",
    "for item in lang:\n",
    "    if item == key:\n",
    "        print(\"Item Found in List.\")\n",
    "        break\n",
    "else:\n",
    "    print(\"Item not Found\")\n"
   ]
  },
  {
   "cell_type": "code",
   "execution_count": 54,
   "metadata": {},
   "outputs": [
    {
     "name": "stdout",
     "output_type": "stream",
     "text": [
      "java\n",
      "Found\n"
     ]
    }
   ],
   "source": [
    "lang = [ 'java', 'c', 'c++', 'ruby', 'perl', 'python']\n",
    "item = input().strip().lower()\n",
    "if item in lang:\n",
    "    print(\"Found\")\n",
    "else:\n",
    "    print(\"Not Found\")"
   ]
  },
  {
   "cell_type": "code",
   "execution_count": 55,
   "metadata": {},
   "outputs": [],
   "source": [
    "d =  { 'name': 'sachin', 'age': 24, 'color': 'fair', 'country': 'India',\n",
    "     'blood_group': 'B+ive'}"
   ]
  },
  {
   "cell_type": "code",
   "execution_count": 57,
   "metadata": {},
   "outputs": [
    {
     "name": "stdout",
     "output_type": "stream",
     "text": [
      "name\n",
      "age\n",
      "color\n",
      "country\n",
      "blood_group\n",
      "\n",
      "Tell me output\n"
     ]
    }
   ],
   "source": [
    "for some in d:\n",
    "    print(some)\n",
    "else:\n",
    "    print(\"\\nTell me output\")"
   ]
  },
  {
   "cell_type": "code",
   "execution_count": 58,
   "metadata": {},
   "outputs": [
    {
     "name": "stdout",
     "output_type": "stream",
     "text": [
      "sachin\n",
      "24\n",
      "fair\n",
      "India\n",
      "B+ive\n",
      "\n",
      "Tell me output\n"
     ]
    }
   ],
   "source": [
    "for some in d.values():\n",
    "    print(some)\n",
    "else:\n",
    "    print(\"\\nTell me output\")"
   ]
  },
  {
   "cell_type": "code",
   "execution_count": 59,
   "metadata": {},
   "outputs": [
    {
     "name": "stdout",
     "output_type": "stream",
     "text": [
      "('name', 'sachin')\n",
      "('age', 24)\n",
      "('color', 'fair')\n",
      "('country', 'India')\n",
      "('blood_group', 'B+ive')\n",
      "\n",
      "Tell me output\n"
     ]
    }
   ],
   "source": [
    "for some in d.items():\n",
    "    print(some)\n",
    "else:\n",
    "    print(\"\\nTell me output\")"
   ]
  },
  {
   "cell_type": "code",
   "execution_count": 61,
   "metadata": {},
   "outputs": [
    {
     "name": "stdout",
     "output_type": "stream",
     "text": [
      "{'name': 'sachin', 'age': 24, 'color': 'fair', 'country': 'India', 'blood_group': 'B+ive'}\n"
     ]
    }
   ],
   "source": [
    "print(d)"
   ]
  },
  {
   "cell_type": "code",
   "execution_count": 65,
   "metadata": {},
   "outputs": [
    {
     "name": "stdout",
     "output_type": "stream",
     "text": [
      "      name = sachin               \n",
      "       age = 24                   \n",
      "     color = fair                 \n",
      "   country = India                \n",
      "blood_group = B+ive                \n",
      "\n",
      "Tell me output\n"
     ]
    }
   ],
   "source": [
    "for key in d:\n",
    "    print(f\"{key:>10} = {d[key]:<20} \")\n",
    "else:\n",
    "    print(\"\\nTell me output\")"
   ]
  },
  {
   "cell_type": "code",
   "execution_count": 66,
   "metadata": {},
   "outputs": [
    {
     "name": "stdout",
     "output_type": "stream",
     "text": [
      "      name = sachin               \n",
      "       age = 24                   \n",
      "     color = fair                 \n",
      "   country = India                \n",
      "blood_group = B+ive                \n",
      "\n",
      "Tell me output\n"
     ]
    }
   ],
   "source": [
    "for pair in d.items():\n",
    "    print(f\"{pair[0]:>10} = {pair[1]:<20} \")\n",
    "else:\n",
    "    print(\"\\nTell me output\")"
   ]
  },
  {
   "cell_type": "code",
   "execution_count": 76,
   "metadata": {},
   "outputs": [],
   "source": [
    "l = [ ('java', 'sachin'), ('python', 'vijay'), ('c', 'tanvi'), ] #('a','b','c')]"
   ]
  },
  {
   "cell_type": "code",
   "execution_count": 77,
   "metadata": {},
   "outputs": [
    {
     "name": "stdout",
     "output_type": "stream",
     "text": [
      "b a\n"
     ]
    }
   ],
   "source": [
    "a,b = ('b','a') # tuple unpacking\n",
    "print(a, b)"
   ]
  },
  {
   "cell_type": "code",
   "execution_count": 78,
   "metadata": {},
   "outputs": [
    {
     "name": "stdout",
     "output_type": "stream",
     "text": [
      "sachin Knows java Very Well.\n",
      "\n",
      "vijay Knows python Very Well.\n",
      "\n",
      "tanvi Knows c Very Well.\n",
      "\n"
     ]
    }
   ],
   "source": [
    "for lang, name in l:\n",
    "    print(f\"{name} Knows {lang} Very Well.\\n\")"
   ]
  },
  {
   "cell_type": "code",
   "execution_count": 79,
   "metadata": {},
   "outputs": [
    {
     "ename": "ValueError",
     "evalue": "too many values to unpack (expected 2)",
     "output_type": "error",
     "traceback": [
      "\u001b[1;31m---------------------------------------------------------------------------\u001b[0m",
      "\u001b[1;31mValueError\u001b[0m                                Traceback (most recent call last)",
      "\u001b[1;32m<ipython-input-79-b71a25f0f0c9>\u001b[0m in \u001b[0;36m<module>\u001b[1;34m\u001b[0m\n\u001b[1;32m----> 1\u001b[1;33m \u001b[0ma\u001b[0m\u001b[1;33m,\u001b[0m\u001b[0mb\u001b[0m \u001b[1;33m=\u001b[0m \u001b[1;33m(\u001b[0m\u001b[1;36m1\u001b[0m\u001b[1;33m,\u001b[0m \u001b[1;36m2\u001b[0m\u001b[1;33m,\u001b[0m \u001b[1;36m3\u001b[0m \u001b[1;33m)\u001b[0m\u001b[1;33m\u001b[0m\u001b[1;33m\u001b[0m\u001b[0m\n\u001b[0m",
      "\u001b[1;31mValueError\u001b[0m: too many values to unpack (expected 2)"
     ]
    }
   ],
   "source": [
    "a,b = (1, 2, 3 )"
   ]
  },
  {
   "cell_type": "code",
   "execution_count": null,
   "metadata": {},
   "outputs": [],
   "source": []
  },
  {
   "cell_type": "code",
   "execution_count": 80,
   "metadata": {},
   "outputs": [],
   "source": [
    "inventory = [\n",
    "    \n",
    "    [ 'iphone11 pro', 35000, 75000],\n",
    "    \n",
    "    [ 'samsung s20', 30000, 70000],\n",
    "    \n",
    "    [ 'one plus', 25000, 50000]\n",
    "    \n",
    "]"
   ]
  },
  {
   "cell_type": "markdown",
   "metadata": {},
   "source": [
    "    \\ is used to line skip"
   ]
  },
  {
   "cell_type": "code",
   "execution_count": 84,
   "metadata": {},
   "outputs": [
    {
     "name": "stdout",
     "output_type": "stream",
     "text": [
      "We bought iphone11 pro at price 35000 and by selling it at price 75000 by earning profit of 40000.\n",
      "\n",
      "\n",
      "We bought samsung s20 at price 30000 and by selling it at price 70000 by earning profit of 40000.\n",
      "\n",
      "\n",
      "We bought one plus at price 25000 and by selling it at price 50000 by earning profit of 25000.\n",
      "\n",
      "\n"
     ]
    }
   ],
   "source": [
    "for phone, buy_price, sale_price in inventory:\n",
    "    s =f\"We bought {phone} at price {buy_price} and by selling it at price {sale_price} \\\n",
    "by earning profit of {sale_price-buy_price}.\"\n",
    "    print(s, end='\\n\\n\\n')"
   ]
  },
  {
   "cell_type": "markdown",
   "metadata": {},
   "source": [
    "**some other built-in iterables objects are :**\n",
    "\n",
    "* **range**\n",
    "\n",
    "* **enumerate**\n",
    "\n",
    "* **zip**"
   ]
  },
  {
   "cell_type": "code",
   "execution_count": 85,
   "metadata": {},
   "outputs": [],
   "source": [
    "s = \"hello \\\n",
    "world\""
   ]
  },
  {
   "cell_type": "code",
   "execution_count": 86,
   "metadata": {},
   "outputs": [
    {
     "name": "stdout",
     "output_type": "stream",
     "text": [
      "hello world\n"
     ]
    }
   ],
   "source": [
    "print(s)"
   ]
  },
  {
   "cell_type": "markdown",
   "metadata": {},
   "source": [
    "**range()** it's a number line slicing "
   ]
  },
  {
   "cell_type": "markdown",
   "metadata": {},
   "source": [
    "syntax: \n",
    "    \n",
    "    range(end_value) --> will generate numbers starting from 0 to end_value - 1\n",
    "    eg. range(5) --> 0, 1, 2, 3, 4\n",
    "    \n",
    "    range(start, end) --> will generate numbers starting from start value till end value - 1\n",
    "    eg. range(1, 10) --> 1, 2, 3, 4, 5, 6, 7, 8, 9, \n",
    "    \n",
    "    range(start, end, step) --> will generate number from start to end - 1 have jump of step\n",
    "    \n",
    "    eg. range(1, 10, 3) --> 1, 4, 7, "
   ]
  },
  {
   "cell_type": "code",
   "execution_count": 87,
   "metadata": {},
   "outputs": [
    {
     "name": "stdout",
     "output_type": "stream",
     "text": [
      "range(0, 5)\n"
     ]
    }
   ],
   "source": [
    "x = range(5) # \n",
    "print(x)"
   ]
  },
  {
   "cell_type": "code",
   "execution_count": 88,
   "metadata": {},
   "outputs": [
    {
     "name": "stdout",
     "output_type": "stream",
     "text": [
      "0 1 2 3 4\n"
     ]
    }
   ],
   "source": [
    "print(*range(5))"
   ]
  },
  {
   "cell_type": "code",
   "execution_count": 89,
   "metadata": {},
   "outputs": [
    {
     "name": "stdout",
     "output_type": "stream",
     "text": [
      "1 2 3 4 5 6 7 8 9\n"
     ]
    }
   ],
   "source": [
    "print(*range(1, 10))"
   ]
  },
  {
   "cell_type": "code",
   "execution_count": 90,
   "metadata": {},
   "outputs": [
    {
     "name": "stdout",
     "output_type": "stream",
     "text": [
      "1 4 7\n"
     ]
    }
   ],
   "source": [
    "print(*range(1, 10, 3))"
   ]
  },
  {
   "cell_type": "code",
   "execution_count": 92,
   "metadata": {},
   "outputs": [
    {
     "name": "stdout",
     "output_type": "stream",
     "text": [
      "Enter a number: 5\n",
      "5\n",
      "10\n",
      "15\n",
      "20\n",
      "25\n",
      "30\n",
      "35\n",
      "40\n",
      "45\n",
      "50\n"
     ]
    }
   ],
   "source": [
    "num = int(input(\"Enter a number: \")) # 5\n",
    "print(*range(num, num*10+1, num), sep='\\n')\n"
   ]
  },
  {
   "cell_type": "code",
   "execution_count": 93,
   "metadata": {},
   "outputs": [
    {
     "name": "stdout",
     "output_type": "stream",
     "text": [
      "10\n",
      "8\n",
      "6\n",
      "4\n",
      "2\n"
     ]
    }
   ],
   "source": [
    "print(*range(10, 1, -2), sep='\\n')"
   ]
  },
  {
   "cell_type": "code",
   "execution_count": 94,
   "metadata": {},
   "outputs": [
    {
     "data": {
      "text/plain": [
       "'sachin sachin sachin sachin sachin sachin sachin sachin sachin sachin '"
      ]
     },
     "execution_count": 94,
     "metadata": {},
     "output_type": "execute_result"
    }
   ],
   "source": [
    "\"sachin \"* 10"
   ]
  },
  {
   "cell_type": "code",
   "execution_count": 100,
   "metadata": {},
   "outputs": [
    {
     "name": "stdout",
     "output_type": "stream",
     "text": [
      "Enter number of rows: 10\n",
      " 1. *\n",
      " 2. **\n",
      " 3. ***\n",
      " 4. ****\n",
      " 5. *****\n",
      " 6. ******\n",
      " 7. *******\n",
      " 8. ********\n",
      " 9. *********\n",
      "10. **********\n",
      "\n",
      "\n",
      "what do you say about it ?\n"
     ]
    }
   ],
   "source": [
    "nrows = int(input(\"Enter number of rows: \"))\n",
    "for var in range(1, nrows+1):\n",
    "    print(f\"{var:>2}. {'*'*var}\")\n",
    "else:\n",
    "    print(\"\\n\\nwhat do you say about it ?\")"
   ]
  },
  {
   "cell_type": "code",
   "execution_count": 101,
   "metadata": {},
   "outputs": [
    {
     "name": "stdout",
     "output_type": "stream",
     "text": [
      "5\n",
      "10\n",
      "15\n",
      "20\n",
      "25\n",
      "30\n",
      "35\n",
      "40\n",
      "45\n",
      "50\n"
     ]
    }
   ],
   "source": [
    "for var in range(5, 55, 5):\n",
    "    print(var)"
   ]
  },
  {
   "cell_type": "markdown",
   "metadata": {},
   "source": [
    "**enumerate** "
   ]
  },
  {
   "cell_type": "code",
   "execution_count": 103,
   "metadata": {},
   "outputs": [
    {
     "name": "stdout",
     "output_type": "stream",
     "text": [
      "(0, 'p')\n",
      "(1, 'y')\n",
      "(2, 't')\n",
      "(3, 'h')\n",
      "(4, 'o')\n",
      "(5, 'n')\n"
     ]
    }
   ],
   "source": [
    "print(*enumerate('python'), sep='\\n')"
   ]
  },
  {
   "cell_type": "code",
   "execution_count": 105,
   "metadata": {},
   "outputs": [
    {
     "name": "stdout",
     "output_type": "stream",
     "text": [
      "(0, 'java')\n",
      "(1, 'c')\n",
      "(2, 'c++')\n",
      "(3, 'ruby')\n"
     ]
    }
   ],
   "source": [
    "print(*enumerate(['java', 'c', 'c++', 'ruby']), sep='\\n')"
   ]
  },
  {
   "cell_type": "code",
   "execution_count": 106,
   "metadata": {},
   "outputs": [
    {
     "name": "stdout",
     "output_type": "stream",
     "text": [
      "0 java\n",
      "1 c\n",
      "2 ruby\n",
      "3 python\n",
      "4 perl\n",
      "5 c++\n"
     ]
    }
   ],
   "source": [
    "lang = [ 'java', 'c', 'ruby', 'python', 'perl', 'c++']\n",
    "for i, item in enumerate(lang):\n",
    "    print(i, item)"
   ]
  },
  {
   "cell_type": "code",
   "execution_count": 108,
   "metadata": {},
   "outputs": [
    {
     "name": "stdout",
     "output_type": "stream",
     "text": [
      "1.       name = sachin\n",
      "2.        age = 24\n",
      "3.    country = india\n"
     ]
    }
   ],
   "source": [
    "d = { 'name':'sachin', 'age': 24, 'country': 'india'}\n",
    "for i, pair in enumerate(d.items()):\n",
    "    print(f\"{i+1}. {pair[0]:>10} = {pair[1]}\")"
   ]
  },
  {
   "cell_type": "code",
   "execution_count": 109,
   "metadata": {},
   "outputs": [
    {
     "name": "stdout",
     "output_type": "stream",
     "text": [
      "1.       name = sachin\n",
      "2.        age = 24\n",
      "3.    country = india\n"
     ]
    }
   ],
   "source": [
    "d = { 'name':'sachin', 'age': 24, 'country': 'india'}\n",
    "for i, (key, value) in enumerate(d.items()):\n",
    "    print(f\"{i+1}. {key:>10} = {value}\")"
   ]
  },
  {
   "cell_type": "markdown",
   "metadata": {},
   "source": [
    "**Functions in Python**"
   ]
  },
  {
   "cell_type": "code",
   "execution_count": null,
   "metadata": {},
   "outputs": [],
   "source": []
  }
 ],
 "metadata": {
  "kernelspec": {
   "display_name": "Python 3",
   "language": "python",
   "name": "python3"
  },
  "language_info": {
   "codemirror_mode": {
    "name": "ipython",
    "version": 3
   },
   "file_extension": ".py",
   "mimetype": "text/x-python",
   "name": "python",
   "nbconvert_exporter": "python",
   "pygments_lexer": "ipython3",
   "version": "3.7.4"
  }
 },
 "nbformat": 4,
 "nbformat_minor": 2
}
