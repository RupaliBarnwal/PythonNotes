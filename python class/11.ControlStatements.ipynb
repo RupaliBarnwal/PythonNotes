{
 "cells": [
  {
   "cell_type": "code",
   "execution_count": 2,
   "metadata": {},
   "outputs": [
    {
     "name": "stdout",
     "output_type": "stream",
     "text": [
      "Starting\n"
     ]
    },
    {
     "name": "stderr",
     "output_type": "stream",
     "text": [
      "100%|███████████████████████████████████████████████████████████████████████████████████| 600/600 [10:03<00:00,  1.01s/it]\n"
     ]
    }
   ],
   "source": [
    "from tqdm import tqdm\n",
    "from time import sleep\n",
    "\n",
    "print(\"Starting\")\n",
    "\n",
    "for _ in tqdm(range(10*60)):\n",
    "    sleep(1)"
   ]
  },
  {
   "cell_type": "markdown",
   "metadata": {},
   "source": [
    "**Any Doubt ?**"
   ]
  },
  {
   "cell_type": "markdown",
   "metadata": {},
   "source": [
    "**Assignment Operators**"
   ]
  },
  {
   "cell_type": "markdown",
   "metadata": {},
   "source": [
    "    =, +=, -=, *=, /=, //=, %=, **=\n",
    "    "
   ]
  },
  {
   "cell_type": "markdown",
   "metadata": {},
   "source": [
    "    right side operand's value will be stored in left side identifier"
   ]
  },
  {
   "cell_type": "markdown",
   "metadata": {},
   "source": [
    "Associativity\n"
   ]
  },
  {
   "cell_type": "code",
   "execution_count": 3,
   "metadata": {},
   "outputs": [
    {
     "data": {
      "text/plain": [
       "15"
      ]
     },
     "execution_count": 3,
     "metadata": {},
     "output_type": "execute_result"
    }
   ],
   "source": [
    "x = 5\n",
    "y = 10\n",
    "x + y "
   ]
  },
  {
   "cell_type": "markdown",
   "metadata": {},
   "source": [
    "    Right to Left"
   ]
  },
  {
   "cell_type": "code",
   "execution_count": null,
   "metadata": {},
   "outputs": [],
   "source": [
    "x = 5"
   ]
  },
  {
   "cell_type": "code",
   "execution_count": 5,
   "metadata": {},
   "outputs": [
    {
     "name": "stdout",
     "output_type": "stream",
     "text": [
      "['p', 'y', 't', 'h', 'o', 'n']\n"
     ]
    }
   ],
   "source": [
    "l = list('python') # [ 'p', 'y', 't', 'h', 'o', 'n']\n",
    "print(l)"
   ]
  },
  {
   "cell_type": "code",
   "execution_count": 6,
   "metadata": {},
   "outputs": [],
   "source": [
    "x = 5\n",
    "y = 10"
   ]
  },
  {
   "cell_type": "code",
   "execution_count": 7,
   "metadata": {},
   "outputs": [
    {
     "name": "stdout",
     "output_type": "stream",
     "text": [
      "10\n",
      "5\n"
     ]
    }
   ],
   "source": [
    "x, y = y, x # 10, 5\n",
    "print(x)\n",
    "print(y)"
   ]
  },
  {
   "cell_type": "markdown",
   "metadata": {},
   "source": [
    "**swap**"
   ]
  },
  {
   "cell_type": "code",
   "execution_count": 8,
   "metadata": {},
   "outputs": [
    {
     "name": "stdout",
     "output_type": "stream",
     "text": [
      "10 5\n"
     ]
    }
   ],
   "source": [
    "x = 5\n",
    "y = 10\n",
    "temp = x\n",
    "x = y\n",
    "y = temp\n",
    "print(x, y)"
   ]
  },
  {
   "cell_type": "code",
   "execution_count": 9,
   "metadata": {},
   "outputs": [
    {
     "name": "stdout",
     "output_type": "stream",
     "text": [
      "5 10\n"
     ]
    }
   ],
   "source": [
    "x,y = y,x\n",
    "print(x, y)"
   ]
  },
  {
   "cell_type": "markdown",
   "metadata": {},
   "source": [
    "**without third variable**"
   ]
  },
  {
   "cell_type": "code",
   "execution_count": 10,
   "metadata": {},
   "outputs": [],
   "source": [
    "x = 5\n",
    "y = 10\n",
    "\n",
    "x = x + y # 5 + 10 --> 15 --> x = 15\n",
    "y = x - y # 15 - 10 --> 5 --> y = 5\n",
    "x = x - y # 15 - 5 --> 10 --> x = 10"
   ]
  },
  {
   "cell_type": "code",
   "execution_count": 11,
   "metadata": {},
   "outputs": [
    {
     "name": "stdout",
     "output_type": "stream",
     "text": [
      "10\n"
     ]
    }
   ],
   "source": [
    "x = 5\n",
    "x += 5 # x = x + 5 \n",
    "print(x)"
   ]
  },
  {
   "cell_type": "code",
   "execution_count": 12,
   "metadata": {},
   "outputs": [
    {
     "name": "stdout",
     "output_type": "stream",
     "text": [
      "50\n"
     ]
    }
   ],
   "source": [
    "x *= 5 # x = x * 5 \n",
    "print(x)"
   ]
  },
  {
   "cell_type": "code",
   "execution_count": 13,
   "metadata": {},
   "outputs": [
    {
     "name": "stdout",
     "output_type": "stream",
     "text": [
      "27\n"
     ]
    }
   ],
   "source": [
    "x = 3\n",
    "\n",
    "x **= 3\n",
    "\n",
    "print(x)"
   ]
  },
  {
   "cell_type": "markdown",
   "metadata": {},
   "source": [
    "**Precedence of Operators**"
   ]
  },
  {
   "cell_type": "markdown",
   "metadata": {},
   "source": [
    "    () -->  Parentheses (L-R scanning)\n",
    "    \n",
    "    ** --> Exponents\n",
    "    \n",
    "    +X, -X, ~X --> unary plus, unary minus, biwise not (negation)\n",
    "    \n",
    "    *,/, //, %\n",
    "    \n",
    "    +, - \n",
    "    \n",
    "    <<, >>\n",
    "    \n",
    "    &\n",
    "    \n",
    "    ^\n",
    "    \n",
    "    |\n",
    "    \n",
    "    ==, !=, <, >, <=, >=\n",
    "    \n",
    "    is not, is, in, not in \n",
    "    \n",
    "    not\n",
    "    \n",
    "    and\n",
    "    \n",
    "    or\n",
    "    "
   ]
  },
  {
   "cell_type": "code",
   "execution_count": 17,
   "metadata": {},
   "outputs": [],
   "source": [
    "ans = 12 + 5*6/10+21 - (12*3) and 5 < 6 or 7 > 8 and 2**3"
   ]
  },
  {
   "cell_type": "code",
   "execution_count": 18,
   "metadata": {},
   "outputs": [
    {
     "name": "stdout",
     "output_type": "stream",
     "text": [
      "False\n"
     ]
    }
   ],
   "source": [
    "print(ans)"
   ]
  },
  {
   "cell_type": "markdown",
   "metadata": {},
   "source": [
    "**Control Statements**\n",
    "\n",
    "    conditional Statements  if-else (Decision Statements)\n",
    "    \n",
    "    Loops"
   ]
  },
  {
   "cell_type": "markdown",
   "metadata": {},
   "source": [
    "**Sequentially Execution**"
   ]
  },
  {
   "cell_type": "code",
   "execution_count": 19,
   "metadata": {},
   "outputs": [
    {
     "name": "stdout",
     "output_type": "stream",
     "text": [
      "hello\n",
      "y: 5\n",
      "10\n"
     ]
    }
   ],
   "source": [
    "print(\"hello\")\n",
    "x = 5\n",
    "y = int(input(\"y: \"))\n",
    "print(x + y)"
   ]
  },
  {
   "cell_type": "code",
   "execution_count": 21,
   "metadata": {},
   "outputs": [
    {
     "name": "stdout",
     "output_type": "stream",
     "text": [
      "x: 4.5\n"
     ]
    },
    {
     "ename": "ValueError",
     "evalue": "invalid literal for int() with base 10: '4.5'",
     "output_type": "error",
     "traceback": [
      "\u001b[1;31m---------------------------------------------------------------------------\u001b[0m",
      "\u001b[1;31mValueError\u001b[0m                                Traceback (most recent call last)",
      "\u001b[1;32m<ipython-input-21-65a235e17cf5>\u001b[0m in \u001b[0;36m<module>\u001b[1;34m\u001b[0m\n\u001b[1;32m----> 1\u001b[1;33m \u001b[0mx\u001b[0m \u001b[1;33m=\u001b[0m \u001b[0mint\u001b[0m\u001b[1;33m(\u001b[0m\u001b[0minput\u001b[0m\u001b[1;33m(\u001b[0m\u001b[1;34m\"x: \"\u001b[0m\u001b[1;33m)\u001b[0m\u001b[1;33m)\u001b[0m\u001b[1;33m\u001b[0m\u001b[1;33m\u001b[0m\u001b[0m\n\u001b[0m\u001b[0;32m      2\u001b[0m \u001b[0mprint\u001b[0m\u001b[1;33m(\u001b[0m\u001b[0mtype\u001b[0m\u001b[1;33m(\u001b[0m\u001b[0mx\u001b[0m\u001b[1;33m)\u001b[0m\u001b[1;33m,\u001b[0m \u001b[0mx\u001b[0m\u001b[1;33m)\u001b[0m\u001b[1;33m\u001b[0m\u001b[1;33m\u001b[0m\u001b[0m\n",
      "\u001b[1;31mValueError\u001b[0m: invalid literal for int() with base 10: '4.5'"
     ]
    }
   ],
   "source": [
    "x = int(input(\"x: \"))\n",
    "print(type(x), x)"
   ]
  },
  {
   "cell_type": "code",
   "execution_count": 27,
   "metadata": {},
   "outputs": [
    {
     "data": {
      "text/plain": [
       "list"
      ]
     },
     "execution_count": 27,
     "metadata": {},
     "output_type": "execute_result"
    }
   ],
   "source": [
    "type(eval('[1, 2, 3, \"hello\", \"hi\", 5, 6, 7]'))"
   ]
  },
  {
   "cell_type": "code",
   "execution_count": 28,
   "metadata": {},
   "outputs": [
    {
     "data": {
      "text/plain": [
       "dict"
      ]
     },
     "execution_count": 28,
     "metadata": {},
     "output_type": "execute_result"
    }
   ],
   "source": [
    "type(eval(\"{'name':'sachin', 'age': 24}\"))"
   ]
  },
  {
   "cell_type": "markdown",
   "metadata": {},
   "source": [
    "    eval --> execute code of python"
   ]
  },
  {
   "cell_type": "markdown",
   "metadata": {},
   "source": [
    "eval(code_as_string) --> output"
   ]
  },
  {
   "cell_type": "code",
   "execution_count": 29,
   "metadata": {},
   "outputs": [
    {
     "name": "stdout",
     "output_type": "stream",
     "text": [
      "Hello World\n"
     ]
    }
   ],
   "source": [
    "eval('print(\"Hello World\")')"
   ]
  },
  {
   "cell_type": "code",
   "execution_count": 31,
   "metadata": {},
   "outputs": [
    {
     "name": "stdout",
     "output_type": "stream",
     "text": [
      "Hello my name is sachin\n"
     ]
    }
   ],
   "source": [
    "name = 'sachin'\n",
    "\n",
    "eval('print(f\"Hello my name is {name}\")')"
   ]
  },
  {
   "cell_type": "code",
   "execution_count": 36,
   "metadata": {},
   "outputs": [
    {
     "name": "stdout",
     "output_type": "stream",
     "text": [
      "{ 'name': 'sachin' } \n",
      "<class 'dict'> {'name': 'sachin'}\n"
     ]
    }
   ],
   "source": [
    "x = eval(input())\n",
    "print(type(x), x)"
   ]
  },
  {
   "cell_type": "markdown",
   "metadata": {},
   "source": [
    "    Current working directory or Present Working Directory"
   ]
  },
  {
   "cell_type": "code",
   "execution_count": 37,
   "metadata": {},
   "outputs": [
    {
     "data": {
      "text/plain": [
       "'C:\\\\Batches\\\\Batch_7pm_online'"
      ]
     },
     "execution_count": 37,
     "metadata": {},
     "output_type": "execute_result"
    }
   ],
   "source": [
    "pwd"
   ]
  },
  {
   "cell_type": "code",
   "execution_count": 43,
   "metadata": {},
   "outputs": [],
   "source": [
    "!mspaint"
   ]
  },
  {
   "cell_type": "markdown",
   "metadata": {},
   "source": [
    "** git-bash --> github"
   ]
  },
  {
   "cell_type": "markdown",
   "metadata": {},
   "source": [
    "! windows command"
   ]
  },
  {
   "cell_type": "markdown",
   "metadata": {},
   "source": [
    "! cmd_shell"
   ]
  },
  {
   "cell_type": "code",
   "execution_count": 40,
   "metadata": {},
   "outputs": [
    {
     "name": "stdout",
     "output_type": "stream",
     "text": [
      "10.TypeCasting_Operators.ipynb\n",
      "11.ControlStatements.ipynb\n",
      "1_Data_Type.ipynb\n",
      "2.DataType.ipynb\n",
      "3.DataType.ipynb\n",
      "4.DataTypes.ipynb\n",
      "5.DataType.ipynb\n",
      "6.DataType.ipynb\n",
      "7.DataTypeList.ipynb\n",
      "8.DataType.ipynb\n",
      "9.DataTypes.ipynb\n",
      "Untitled Folder\n",
      "datatype.png\n",
      "first.py\n",
      "welcome.py\n"
     ]
    }
   ],
   "source": [
    "!ls"
   ]
  },
  {
   "cell_type": "code",
   "execution_count": 44,
   "metadata": {},
   "outputs": [
    {
     "data": {
      "text/plain": [
       "'C:\\\\Batches\\\\Batch_7pm_online'"
      ]
     },
     "execution_count": 44,
     "metadata": {},
     "output_type": "execute_result"
    }
   ],
   "source": [
    "pwd"
   ]
  },
  {
   "cell_type": "markdown",
   "metadata": {},
   "source": [
    "    % cell magics"
   ]
  },
  {
   "cell_type": "markdown",
   "metadata": {},
   "source": [
    "    window+r powershell\n",
    "    "
   ]
  },
  {
   "cell_type": "code",
   "execution_count": 45,
   "metadata": {},
   "outputs": [
    {
     "name": "stdout",
     "output_type": "stream",
     "text": [
      "Writing calc.py\n"
     ]
    }
   ],
   "source": [
    "%%writefile calc.py\n",
    "\n",
    "x = int(input(\"x: \"))\n",
    "y = int(input(\"y: \"))\n",
    "\n",
    "print(f\"x + y = {x+y}\")\n",
    "print(f\"x - y = {x-y}\")\n",
    "print(f\"x * y = {x*y}\")\n",
    "print(f\"x / y = {x/y}\")\n",
    "print(f\"x ** y = {x**y}\")\n"
   ]
  },
  {
   "cell_type": "code",
   "execution_count": 47,
   "metadata": {},
   "outputs": [
    {
     "name": "stdout",
     "output_type": "stream",
     "text": [
      "\n",
      "x = int(input(\"x: \"))\n",
      "y = int(input(\"y: \"))\n",
      "\n",
      "print(f\"x + y = {x+y}\")\n",
      "print(f\"x - y = {x-y}\")\n",
      "print(f\"x * y = {x*y}\")\n",
      "print(f\"x / y = {x/y}\")\n",
      "print(f\"x ** y = {x**y}\")\n"
     ]
    }
   ],
   "source": [
    "!cat calc.py"
   ]
  },
  {
   "cell_type": "markdown",
   "metadata": {},
   "source": [
    "    how group multiple statements together in python ? "
   ]
  },
  {
   "cell_type": "markdown",
   "metadata": {},
   "source": [
    "## Indendation"
   ]
  },
  {
   "cell_type": "code",
   "execution_count": 49,
   "metadata": {},
   "outputs": [
    {
     "name": "stdout",
     "output_type": "stream",
     "text": [
      "Writing indent.py\n"
     ]
    }
   ],
   "source": [
    "%%writefile indent.py\n",
    "\n",
    "print(\"hello world\")\n",
    "\n",
    "print(\"hi world\")\n",
    "\n",
    "print(\"no indent here\")"
   ]
  },
  {
   "cell_type": "raw",
   "metadata": {},
   "source": [
    "# if there is  input statement in your code then run it in powershell\n",
    "# else you can run it in here jupyter notebook"
   ]
  },
  {
   "cell_type": "code",
   "execution_count": 50,
   "metadata": {},
   "outputs": [
    {
     "name": "stdout",
     "output_type": "stream",
     "text": [
      "hello world\n",
      "hi world\n",
      "no indent here\n"
     ]
    }
   ],
   "source": [
    "!python indent.py"
   ]
  },
  {
   "cell_type": "code",
   "execution_count": 51,
   "metadata": {},
   "outputs": [
    {
     "name": "stdout",
     "output_type": "stream",
     "text": [
      "Overwriting indent.py\n"
     ]
    }
   ],
   "source": [
    "%%writefile indent.py\n",
    "\n",
    "print(\"hello world\")\n",
    "\n",
    " print(\"hi world\")\n",
    "\n",
    "print(\"indent is here\")"
   ]
  },
  {
   "cell_type": "code",
   "execution_count": 52,
   "metadata": {},
   "outputs": [
    {
     "name": "stderr",
     "output_type": "stream",
     "text": [
      "  File \"indent.py\", line 4\n",
      "    print(\"hi world\")\n",
      "    ^\n",
      "IndentationError: unexpected indent\n"
     ]
    }
   ],
   "source": [
    "!python indent.py"
   ]
  },
  {
   "cell_type": "markdown",
   "metadata": {},
   "source": [
    "##### Indent means space"
   ]
  },
  {
   "cell_type": "code",
   "execution_count": 53,
   "metadata": {},
   "outputs": [],
   "source": [
    "x              =             5"
   ]
  },
  {
   "cell_type": "markdown",
   "metadata": {},
   "source": [
    "## Decision Statement / Selection Statement"
   ]
  },
  {
   "cell_type": "markdown",
   "metadata": {},
   "source": [
    "                    if - else statements\n",
    "\n",
    "syntax: \n",
    "\n",
    "    with single statement \n",
    "    \n",
    "        st1 if con else st2 --> it will st1 if condtion is True else it will run st2\n",
    "    \n",
    "    \n",
    "    with multiple statements\n",
    "    \n",
    "        if cond : # indendation operator\n",
    "            st1\n",
    "            st2\n",
    "            st3\n",
    "        else:\n",
    "            st1\n",
    "            st2\n",
    "            st3"
   ]
  },
  {
   "cell_type": "code",
   "execution_count": 55,
   "metadata": {},
   "outputs": [
    {
     "name": "stdout",
     "output_type": "stream",
     "text": [
      "Hello World\n",
      "Bye World\n"
     ]
    }
   ],
   "source": [
    "print(\"Hello World\")\n",
    "print(\"Bye World\")"
   ]
  },
  {
   "cell_type": "code",
   "execution_count": 56,
   "metadata": {},
   "outputs": [
    {
     "name": "stdout",
     "output_type": "stream",
     "text": [
      "Hello World\n"
     ]
    }
   ],
   "source": [
    "print(\"Hello World\") if True else print(\"Bye World\")"
   ]
  },
  {
   "cell_type": "code",
   "execution_count": 57,
   "metadata": {},
   "outputs": [
    {
     "name": "stdout",
     "output_type": "stream",
     "text": [
      "Bye World\n"
     ]
    }
   ],
   "source": [
    "print(\"Hello World\") if False else print(\"Bye World\")"
   ]
  },
  {
   "cell_type": "markdown",
   "metadata": {},
   "source": [
    "    find a number is even or odd"
   ]
  },
  {
   "cell_type": "code",
   "execution_count": 59,
   "metadata": {},
   "outputs": [
    {
     "name": "stdout",
     "output_type": "stream",
     "text": [
      "Overwriting even_odd.py\n"
     ]
    }
   ],
   "source": [
    "%%writefile even_odd.py\n",
    "\n",
    "num = int(input(\"Enter a number: \")) #\n",
    "\n",
    "print(f\"Given {num} is Even.\") if (num % 2 == 0) else print(f\"Given {num} is odd.\")"
   ]
  },
  {
   "cell_type": "markdown",
   "metadata": {},
   "source": [
    "**ternary operator**"
   ]
  },
  {
   "cell_type": "code",
   "execution_count": 64,
   "metadata": {},
   "outputs": [],
   "source": [
    "x = 10 if (10 < 5) else 7"
   ]
  },
  {
   "cell_type": "code",
   "execution_count": 65,
   "metadata": {},
   "outputs": [
    {
     "data": {
      "text/plain": [
       "7"
      ]
     },
     "execution_count": 65,
     "metadata": {},
     "output_type": "execute_result"
    }
   ],
   "source": [
    "x"
   ]
  },
  {
   "cell_type": "markdown",
   "metadata": {},
   "source": [
    "    c --> ; , {}, syntax"
   ]
  },
  {
   "cell_type": "code",
   "execution_count": 67,
   "metadata": {},
   "outputs": [
    {
     "name": "stdout",
     "output_type": "stream",
     "text": [
      "num: 13\n",
      "Odd\n"
     ]
    }
   ],
   "source": [
    "num = int(input(\"num: \"))\n",
    "if num % 2 == 0: \n",
    "    print(\"Even\")\n",
    "else:\n",
    "    print(\"Odd\")"
   ]
  },
  {
   "cell_type": "code",
   "execution_count": 69,
   "metadata": {},
   "outputs": [
    {
     "name": "stdout",
     "output_type": "stream",
     "text": [
      "Statement-1\n",
      "Statement-2\n",
      "Statement-3\n"
     ]
    }
   ],
   "source": [
    "if 1:\n",
    "    print(\"Statement-1\")\n",
    "    print(\"Statement-2\")\n",
    "    print(\"Statement-3\")\n",
    "else:\n",
    "    print(\"Statement-4\")\n",
    "    print(\"Statement-5\")"
   ]
  },
  {
   "cell_type": "code",
   "execution_count": 70,
   "metadata": {},
   "outputs": [
    {
     "name": "stdout",
     "output_type": "stream",
     "text": [
      "Statement-4\n",
      "Statement-5\n"
     ]
    }
   ],
   "source": [
    "if []:\n",
    "    print(\"Statement-1\")\n",
    "    print(\"Statement-2\")\n",
    "    print(\"Statement-3\")\n",
    "else:\n",
    "    print(\"Statement-4\")\n",
    "    print(\"Statement-5\")"
   ]
  },
  {
   "cell_type": "code",
   "execution_count": 71,
   "metadata": {},
   "outputs": [
    {
     "name": "stdout",
     "output_type": "stream",
     "text": [
      "Hello World\n",
      "number: -1\n",
      "Bye World\n"
     ]
    }
   ],
   "source": [
    "print(\"Hello World\")\n",
    "num = int(input(\"number: \"))\n",
    "# num = -1\n",
    "if num > 0:\n",
    "    print(\"Good Boy you have entered a  positive number\")\n",
    "\n",
    "print(\"Bye World\")"
   ]
  },
  {
   "cell_type": "code",
   "execution_count": 72,
   "metadata": {},
   "outputs": [
    {
     "name": "stdout",
     "output_type": "stream",
     "text": [
      "Hello World\n",
      "number: 1\n",
      "Good Boy you have entered a  positive number\n",
      "Bye World\n"
     ]
    }
   ],
   "source": [
    "print(\"Hello World\")\n",
    "num = int(input(\"number: \"))\n",
    "# num = -1\n",
    "if num > 0:\n",
    "    print(\"Good Boy you have entered a  positive number\")\n",
    "\n",
    "print(\"Bye World\")"
   ]
  },
  {
   "cell_type": "markdown",
   "metadata": {},
   "source": [
    "**multiple conditions than what ?**"
   ]
  },
  {
   "cell_type": "markdown",
   "metadata": {},
   "source": [
    "    find greatest number among three number"
   ]
  },
  {
   "cell_type": "code",
   "execution_count": 76,
   "metadata": {},
   "outputs": [
    {
     "name": "stdout",
     "output_type": "stream",
     "text": [
      "a: 65\n",
      "b: 44\n",
      "c: 10\n",
      "65\n"
     ]
    }
   ],
   "source": [
    "a = eval(input(\"a: \"))\n",
    "b = eval(input(\"b: \"))\n",
    "c = eval(input(\"c: \"))\n",
    "\n",
    "if a >= b and a >= c:\n",
    "    biggest = a\n",
    "elif b >= c:\n",
    "    biggest = b\n",
    "else:\n",
    "    biggest = c\n",
    "\n",
    "print(biggest)"
   ]
  },
  {
   "cell_type": "markdown",
   "metadata": {},
   "source": [
    "**Nested if else**"
   ]
  },
  {
   "cell_type": "markdown",
   "metadata": {},
   "source": [
    "    can we go out on a movie or not ? \n",
    "    \n",
    "    money <== pocket_money (user input)\n",
    "     \n",
    "    if money is greater than or equal to 1500 than you can make plan \n",
    "        if money <= 2000 \n",
    "            go out for dinner not for movie\n",
    "        else \n",
    "            go for movie\n",
    "    else stay home "
   ]
  },
  {
   "cell_type": "code",
   "execution_count": null,
   "metadata": {},
   "outputs": [],
   "source": [
    "money = int(input(\"Pocket Money: \"))\n",
    "if money >= 1500:\n",
    "    pass # it present as a syntax or statement but do noting\n",
    "else:\n",
    "    print(\"Garib aadmi ghar baith chupchaap\")"
   ]
  },
  {
   "cell_type": "code",
   "execution_count": 77,
   "metadata": {},
   "outputs": [
    {
     "name": "stdout",
     "output_type": "stream",
     "text": [
      "Pocket Money: 500\n",
      "Garib aadmi ghar baith chupchaap\n"
     ]
    }
   ],
   "source": [
    "money = int(input(\"Pocket Money: \"))\n",
    "if money >= 1500:\n",
    "    if money <= 2000:\n",
    "        print(\"Go out but only for dinner\")\n",
    "    else:\n",
    "        print(\"You can for movie\")\n",
    "else:\n",
    "    print(\"Garib aadmi ghar baith chupchaap\")"
   ]
  },
  {
   "cell_type": "code",
   "execution_count": null,
   "metadata": {},
   "outputs": [],
   "source": [
    "loop"
   ]
  },
  {
   "cell_type": "code",
   "execution_count": null,
   "metadata": {},
   "outputs": [],
   "source": [
    "function"
   ]
  },
  {
   "cell_type": "code",
   "execution_count": null,
   "metadata": {},
   "outputs": [],
   "source": []
  },
  {
   "cell_type": "code",
   "execution_count": null,
   "metadata": {},
   "outputs": [],
   "source": []
  }
 ],
 "metadata": {
  "kernelspec": {
   "display_name": "Python 3",
   "language": "python",
   "name": "python3"
  },
  "language_info": {
   "codemirror_mode": {
    "name": "ipython",
    "version": 3
   },
   "file_extension": ".py",
   "mimetype": "text/x-python",
   "name": "python",
   "nbconvert_exporter": "python",
   "pygments_lexer": "ipython3",
   "version": "3.7.4"
  }
 },
 "nbformat": 4,
 "nbformat_minor": 2
}
