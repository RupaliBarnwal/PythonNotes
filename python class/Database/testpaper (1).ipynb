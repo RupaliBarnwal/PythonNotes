{
 "cells": [
  {
   "cell_type": "code",
   "execution_count": 2,
   "metadata": {},
   "outputs": [
    {
     "data": {
      "text/plain": [
       "70"
      ]
     },
     "execution_count": 2,
     "metadata": {},
     "output_type": "execute_result"
    }
   ],
   "source": [
    "10*1+10*3+4+6+10+10"
   ]
  },
  {
   "cell_type": "markdown",
   "metadata": {},
   "source": [
    "1.Given a string s consists of upper/lower-case alphabets and empty space characters ' ', return the length of last word (last word means the last appearing word if we loop from left to right) in the string:\n",
    "\n",
    "Input: s= \"Hello ronaldo\"\n",
    "\n",
    "output: 7\n",
    "\n",
    "                                                                                        marks=1"
   ]
  },
  {
   "cell_type": "code",
   "execution_count": null,
   "metadata": {},
   "outputs": [],
   "source": []
  },
  {
   "cell_type": "markdown",
   "metadata": {},
   "source": [
    "2.Write a Python program to print numbers from 0 to 6 except 3 and 6.\n",
    "\n",
    "Note : Use 'continue' statement.\n",
    "\n",
    "Expected Output : 0 1 2 4 5                                                                                      \n",
    "                                                                                        marks=1"
   ]
  },
  {
   "cell_type": "code",
   "execution_count": null,
   "metadata": {},
   "outputs": [],
   "source": []
  },
  {
   "cell_type": "markdown",
   "metadata": {},
   "source": [
    "    3.Can you sort given lis?\n",
    "                                                                                                                                                                                        marks=1"
   ]
  },
  {
   "cell_type": "markdown",
   "metadata": {},
   "source": [
    "    lis={1:2,3:4,2:{8:{3:7}},0:34}"
   ]
  },
  {
   "cell_type": "code",
   "execution_count": null,
   "metadata": {},
   "outputs": [],
   "source": []
  },
  {
   "cell_type": "markdown",
   "metadata": {},
   "source": [
    "4.What is the major difference between tuples and lists?\n",
    "    \n",
    "                                                                                          marks=1"
   ]
  },
  {
   "cell_type": "code",
   "execution_count": null,
   "metadata": {},
   "outputs": [],
   "source": []
  },
  {
   "cell_type": "markdown",
   "metadata": {},
   "source": [
    "5.find the output of the below?\n",
    "                               \n",
    "                                                                                      marks=1"
   ]
  },
  {
   "cell_type": "markdown",
   "metadata": {},
   "source": [
    "    print({62,2,33,4,4,11,22,3,3,2})"
   ]
  },
  {
   "cell_type": "code",
   "execution_count": null,
   "metadata": {},
   "outputs": [],
   "source": []
  },
  {
   "cell_type": "markdown",
   "metadata": {},
   "source": [
    "6. Remove duplicate elemensts from the given list.\n",
    "\n",
    "                                                                                    marks=1"
   ]
  },
  {
   "cell_type": "markdown",
   "metadata": {},
   "source": [
    "    Input=[1,2,2,5,6,1,7]\n",
    "    output= [1,2,5,6,7]"
   ]
  },
  {
   "cell_type": "code",
   "execution_count": null,
   "metadata": {},
   "outputs": [],
   "source": []
  },
  {
   "cell_type": "markdown",
   "metadata": {},
   "source": [
    "7.LESSER OF TWO EVENS: Write a function that returns the lesser of two given numbers if both numbers are even, but returns the greater if one or both numbers are odd\n",
    "\n",
    "                                                                                    marks=1"
   ]
  },
  {
   "cell_type": "code",
   "execution_count": null,
   "metadata": {},
   "outputs": [],
   "source": []
  },
  {
   "cell_type": "markdown",
   "metadata": {},
   "source": [
    "8.Write a Python function that accepts a string and calculates the number of upper case letters and lower case letters.\n",
    "\n",
    "                                                                                    marks=1"
   ]
  },
  {
   "cell_type": "markdown",
   "metadata": {},
   "source": [
    "    Sample String : 'Hello Mr. Rogers, how are you this fine Tuesday?'\n",
    "    Expected Output : \n",
    "    No. of Upper case characters : 4\n",
    "    No. of Lower case Characters : 33"
   ]
  },
  {
   "cell_type": "code",
   "execution_count": null,
   "metadata": {},
   "outputs": [],
   "source": []
  },
  {
   "cell_type": "markdown",
   "metadata": {},
   "source": [
    "**9.You may assume that each input would have exactly one solution, and you may not use the same element twice.**\n",
    "\n",
    "*Example:*\n",
    "Given nums = [2, 7, 11, 15], target = 9,\n",
    "\n",
    "Because nums[0] + nums[1] = 2 + 7 = 9,\n",
    "return [0, 1].\n",
    "\n",
    "                                                                                          marks=1"
   ]
  },
  {
   "cell_type": "code",
   "execution_count": null,
   "metadata": {},
   "outputs": [],
   "source": []
  },
  {
   "cell_type": "markdown",
   "metadata": {},
   "source": [
    "10.Write a function takes a two-word string and returns True if both words begin with same letter\n",
    "animal_crackers('Levelheaded Llama') --> True\n",
    "animal_crackers('Crazy Kangaroo') --> False\n",
    "                            \n",
    "                                                                                         marks=1"
   ]
  },
  {
   "cell_type": "code",
   "execution_count": null,
   "metadata": {},
   "outputs": [],
   "source": []
  },
  {
   "cell_type": "markdown",
   "metadata": {},
   "source": [
    "11. Write a Python program which takes two digits m (row) and n (column) as input and generates a two-dimensional array. The element value in the i-th row and j-th column of the array should be i*j. Go to the editor\n",
    "Note :\n",
    "i = 0,1.., m-1\n",
    "j = 0,1, n-1.\n",
    "\n",
    "Test Data : Rows = 3, Columns = 4\n",
    "\n",
    "Expected Result : [[0, 0, 0, 0], [0, 1, 2, 3], [0, 2, 4, 6]]\n",
    "\n",
    "\n",
    "\n",
    "marks=3"
   ]
  },
  {
   "cell_type": "code",
   "execution_count": null,
   "metadata": {},
   "outputs": [],
   "source": []
  },
  {
   "cell_type": "markdown",
   "metadata": {},
   "source": [
    "12.PRINT BIG: Write a function that takes in a single letter, and returns a 5x5 representation of that letter\n",
    "print_big('a')\n",
    "\n",
    "out:   *  \n",
    "      * *\n",
    "     *****\n",
    "     *   *\n",
    "     *   *\n",
    "HINT: Consider making a dictionary of possible pattern.                                  \n",
    "                    \n",
    "                                                                                        marks=3"
   ]
  },
  {
   "cell_type": "code",
   "execution_count": null,
   "metadata": {},
   "outputs": [],
   "source": []
  },
  {
   "cell_type": "markdown",
   "metadata": {},
   "source": [
    "13.**Write a program to print the multiplication of all the elements of a list except the element present at i th position in the list.**\n",
    "\n",
    "Sample input = [3,5,2,1]\n",
    "\n",
    "Sample Output= [10,6,15,30]\n",
    "                                                                                       \n",
    "                                                                                       marks=3"
   ]
  },
  {
   "cell_type": "code",
   "execution_count": null,
   "metadata": {},
   "outputs": [],
   "source": []
  },
  {
   "cell_type": "markdown",
   "metadata": {},
   "source": [
    "14.**Given a string s, find the longest palindromic substring in s. **\n",
    "\n",
    "Sample Input= \"abcbdf\"\n",
    "\n",
    "Sample Output = \"bcb\"\n",
    "\n",
    "                                                                                        marks=3\n",
    "                                                                                             "
   ]
  },
  {
   "cell_type": "code",
   "execution_count": null,
   "metadata": {},
   "outputs": [],
   "source": []
  },
  {
   "cell_type": "markdown",
   "metadata": {},
   "source": [
    "15.Given a sorted array and a target value, return the index if the target is found. If not, return the index where it would be if it were inserted in order.\n",
    "\n",
    "You may assume no duplicates in the array.\n",
    "\n",
    "\n",
    "Input: [1,3,5,6], target: 5   \n",
    "Output: 2\n",
    "\n",
    "\n",
    "Input: [1,3,5,6], target: 2       \n",
    "Output: 1\n",
    "\n",
    "\n",
    "Input: [1,3,5,6], target: 7        \n",
    "Output: 4\n",
    "\n",
    "\n",
    "Input: [1,3,5,6], 0\n",
    ",    Output: 0\n",
    "\n",
    "                                                                                      marks=3\n",
    "\n"
   ]
  },
  {
   "cell_type": "code",
   "execution_count": null,
   "metadata": {},
   "outputs": [],
   "source": []
  },
  {
   "cell_type": "markdown",
   "metadata": {},
   "source": [
    "16.Use zip() and a list comprehension to return a list of the same length where each value is the two strings from L1 and L2 concatenated together with connector between them. Look at the example output below:\n",
    "        \n",
    "        concatenate(['A','B'],['a','b'],'-') output=['A-a', 'B-b']\n",
    "                                                                                    marks=3"
   ]
  },
  {
   "cell_type": "code",
   "execution_count": 43,
   "metadata": {},
   "outputs": [],
   "source": []
  },
  {
   "cell_type": "markdown",
   "metadata": {},
   "source": [
    "17.BLACKJACK: \n",
    "\n",
    "    Given three integers between 1 and 11, if their sum is less than or equal to 21, return their sum. If their sum exceeds 21 and there's an eleven, reduce the total sum by 10. Finally, if the sum (even after adjustment) exceeds 21, return 'BUST'\n",
    "hint\n",
    "   \n",
    "    blackjack(5,6,7) --> 18\n",
    "    blackjack(9,9,9) --> 'BUST'\n",
    "    blackjack(9,9,11) --> 19\n",
    "                                                                                        marks=3"
   ]
  },
  {
   "cell_type": "code",
   "execution_count": null,
   "metadata": {},
   "outputs": [],
   "source": []
  },
  {
   "cell_type": "markdown",
   "metadata": {},
   "source": [
    "18.SUMMER OF '69\n",
    "\n",
    "    Return the sum of the numbers in the array, except ignore sections of numbers starting with a 6 and extending to the next 9 (every 6 will be followed by at least one 9). Return 0 for no numbers\n",
    "#hint"
   ]
  },
  {
   "cell_type": "markdown",
   "metadata": {},
   "source": [
    "    summer_69([1, 3, 5]) --> 9\n",
    "    summer_69([4, 5, 6, 7, 8, 9]) --> 9\n",
    "    summer_69([2, 1, 6, 9, 11]) --> 14                                                 marks=3"
   ]
  },
  {
   "cell_type": "code",
   "execution_count": 62,
   "metadata": {},
   "outputs": [
    {
     "name": "stdout",
     "output_type": "stream",
     "text": [
      "[1, 2, 5]\n"
     ]
    }
   ],
   "source": []
  },
  {
   "cell_type": "markdown",
   "metadata": {},
   "source": [
    "19.Write a Python function to check whether a string is pangram or not.\n",
    "\n",
    "    Note : Pangrams are words or sentences containing every letter of the alphabet at least once.\n",
    "    For example : \"The quick brown fox jumps over the lazy dog\"\n",
    "    Hint: Look at the string module"
   ]
  },
  {
   "cell_type": "markdown",
   "metadata": {},
   "source": [
    "#hint for-->\n",
    "\n",
    "    ispangram(\"The quick brown fox jumps over the lazy dog\") output=True                  marks=3"
   ]
  },
  {
   "cell_type": "code",
   "execution_count": null,
   "metadata": {},
   "outputs": [],
   "source": []
  },
  {
   "cell_type": "markdown",
   "metadata": {},
   "source": [
    "20.Given a string, determine if it is a palindrome, considering only alphanumeric characters and ignoring cases.\n",
    "\n",
    "\n",
    "Note: For the purpose of this problem, we define empty string as valid palindrome.\n",
    "\n",
    "\n",
    "Input: \"A man, a plan, a canal: Panama\"\n",
    "\n",
    "Output: true\n",
    "                                                                                   \n",
    "                                                                                   marks=3"
   ]
  },
  {
   "cell_type": "code",
   "execution_count": null,
   "metadata": {},
   "outputs": [],
   "source": []
  },
  {
   "cell_type": "markdown",
   "metadata": {},
   "source": [
    "21.# Object Oriented Programming Challenge\n",
    "\n",
    "    For this challenge, create a bank account class that has two attributes:\n",
    "\n",
    "    * owner\n",
    "    * balance\n",
    "\n",
    "    and two methods:\n",
    "\n",
    "    * deposit\n",
    "    * withdraw\n",
    "\n",
    "    As an added requirement, withdrawals may not exceed the available balance.\n",
    "\n",
    "    Instantiate your class, make several deposits and withdrawals, and test to make sure the account can't be overdrawn.                                                marks=4"
   ]
  },
  {
   "cell_type": "code",
   "execution_count": null,
   "metadata": {},
   "outputs": [],
   "source": []
  },
  {
   "cell_type": "markdown",
   "metadata": {},
   "source": [
    "22.Given an array of strings, group anagrams together.\n",
    "\n",
    "Example:\n",
    "\n",
    "Input: [\"eat\", \"tea\", \"tan\", \"ate\", \"nat\", \"bat\"],\n",
    "\n",
    "Output:\n",
    "[\n",
    "  [\"ate\",\"eat\",\"tea\"],\n",
    "  [\"nat\",\"tan\"],\n",
    "  [\"bat\"]\n",
    "]\n",
    "\n",
    "                                                                                Marks: 6"
   ]
  },
  {
   "cell_type": "code",
   "execution_count": null,
   "metadata": {},
   "outputs": [],
   "source": []
  },
  {
   "cell_type": "markdown",
   "metadata": {},
   "source": [
    "23.Non-Divisible Subset\n",
    "\n",
    "\n",
    "    Given a set of distinct integers, print the size of a maximal subset of S where the sum of any 2 numbers in S' is not evenly divisible by K.For example, array S=[19,10,12,10,24,22,10] and K=4. One of the arrays that can be created is s[0]=[10,12,25]. Another is s'[1]=[19,22,24]. After testing all permutations, the maximum length solution array has 3 element.\n",
    "    \n",
    "Function Description\n",
    "\n",
    "Complete the nonDivisibleSubset function in the editor below. It should return an integer representing the length of the longest subset of  meeting the criteria.\n",
    "\n",
    "nonDivisibleSubset has the following parameter(s):\n",
    "\n",
    "S: an array of integers\n",
    "k: an integer\n",
    "\n",
    "`Input:-\n",
    "4 3\n",
    "1 7 2 4\n",
    "Output:-\n",
    "3                                                                                  marks=10`"
   ]
  },
  {
   "cell_type": "code",
   "execution_count": null,
   "metadata": {},
   "outputs": [],
   "source": []
  },
  {
   "cell_type": "markdown",
   "metadata": {},
   "source": [
    "24.An English text needs to be encrypted using the following encryption scheme.\n",
    "First, the spaces are removed from the text. Let  be the length of this text.\n",
    "Then, characters are written into a grid, whose rows and columns have the following constraints:\n",
    "\n",
    "[l^1/2]<=row<=column<=[L^1/2],where [x] is floor function and [x] is ceil function \n",
    "For example, the sentence \n",
    "s=if man was want to stay on the groud god would have given us roots\n",
    ", after removing spaces is 54 characters long. 54^1/2 is between 7 and 8, so it is written in the form of a grid with 7 rows and 8 columns.\n",
    "\n",
    "ifmanwas  \n",
    "meanttos          \n",
    "tayonthe  \n",
    "groundgo  \n",
    "dwouldha  \n",
    "vegivenu  \n",
    "sroots\n",
    "Ensure that rows*columns>=L\n",
    "If multiple grids satisfy the above conditions, choose the one with the minimum area, i.e. .\n",
    "rows*columns\n",
    "The encoded message is obtained by displaying the characters in a column, inserting a space, and then displaying the next column and inserting a space, and so on. For example, the encoded message for the above rectangle is:\n",
    "\n",
    "    imtgdvs fearwer mayoogo anouuio ntnnlvt wttddes aohghn sseoau\n",
    "\n",
    "You will be given a message to encode and print."
   ]
  },
  {
   "cell_type": "markdown",
   "metadata": {},
   "source": [
    "\n",
    "\n",
    "    Input\n",
    "    haveaniceday\n",
    "\n",
    "    Output 0\n",
    "    hae and via ecy\n",
    "\n",
    "    Explanation 0\n",
    "    L=12,12^1/2 is between 3 and 4.\n",
    "    Rewritten with 3 rows and 4 columns:\n",
    "    have\n",
    "    anic\n",
    "    eday                                                                                 marks=10"
   ]
  },
  {
   "cell_type": "code",
   "execution_count": null,
   "metadata": {},
   "outputs": [],
   "source": []
  }
 ],
 "metadata": {
  "kernelspec": {
   "display_name": "Python 3",
   "language": "python",
   "name": "python3"
  },
  "language_info": {
   "codemirror_mode": {
    "name": "ipython",
    "version": 3
   },
   "file_extension": ".py",
   "mimetype": "text/x-python",
   "name": "python",
   "nbconvert_exporter": "python",
   "pygments_lexer": "ipython3",
   "version": "3.7.3"
  }
 },
 "nbformat": 4,
 "nbformat_minor": 2
}
