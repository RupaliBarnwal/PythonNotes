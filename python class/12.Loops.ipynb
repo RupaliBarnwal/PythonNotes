{
 "cells": [
  {
   "cell_type": "markdown",
   "metadata": {},
   "source": [
    "**Leap Year**"
   ]
  },
  {
   "cell_type": "code",
   "execution_count": 1,
   "metadata": {},
   "outputs": [
    {
     "name": "stdout",
     "output_type": "stream",
     "text": [
      "15\n",
      "not multiple of 3\n"
     ]
    }
   ],
   "source": [
    "num = int(input()) # 15\n",
    "\n",
    "if num % 3: # 0\n",
    "    print(\"multiple of 3\")\n",
    "else:\n",
    "    print(\"not multiple of 3\")"
   ]
  },
  {
   "cell_type": "code",
   "execution_count": 9,
   "metadata": {},
   "outputs": [
    {
     "name": "stdout",
     "output_type": "stream",
     "text": [
      "Enter year: 1900\n",
      "1900 is Leap Year.\n"
     ]
    }
   ],
   "source": [
    "year = int(input(\"Enter year: \"))\n",
    "\n",
    "if year % 4 == 0:\n",
    "    print(f\"{year} is Leap Year.\")\n",
    "else:\n",
    "    print(f\"{year} is not a Leap Year.\")\n",
    "    \n",
    "    "
   ]
  },
  {
   "cell_type": "code",
   "execution_count": 5,
   "metadata": {},
   "outputs": [
    {
     "data": {
      "text/plain": [
       "1460"
      ]
     },
     "execution_count": 5,
     "metadata": {},
     "output_type": "execute_result"
    }
   ],
   "source": [
    "#365.25 days --> single \n",
    "\n",
    "365*4"
   ]
  },
  {
   "cell_type": "code",
   "execution_count": 7,
   "metadata": {},
   "outputs": [
    {
     "data": {
      "text/plain": [
       "1461.0"
      ]
     },
     "execution_count": 7,
     "metadata": {},
     "output_type": "execute_result"
    }
   ],
   "source": [
    "365.25*4"
   ]
  },
  {
   "cell_type": "markdown",
   "metadata": {},
   "source": [
    "100 --> 4 --> \n",
    "\n",
    "200 --> 4 --> "
   ]
  },
  {
   "cell_type": "code",
   "execution_count": 8,
   "metadata": {},
   "outputs": [
    {
     "data": {
      "text/plain": [
       "1900"
      ]
     },
     "execution_count": 8,
     "metadata": {},
     "output_type": "execute_result"
    }
   ],
   "source": [
    "1900 # not a leap"
   ]
  },
  {
   "cell_type": "markdown",
   "metadata": {},
   "source": [
    "400 --> centuray year --> leap year"
   ]
  },
  {
   "cell_type": "code",
   "execution_count": 23,
   "metadata": {},
   "outputs": [
    {
     "name": "stdout",
     "output_type": "stream",
     "text": [
      "year: 2016\n",
      "2016 is a leap year.\n"
     ]
    }
   ],
   "source": [
    "year = int(input(\"year: \"))\n",
    "if year % 4 == 0:\n",
    "    if (year % 100 == 0 and year % 400 == 0) or (year % 100 != 0):\n",
    "            print(f\"{year} is a leap year.\")\n",
    "    else:\n",
    "            print(f\"{year} is not a leap year.\")       \n",
    "else:\n",
    "    print(f\"{year} is not a leap year.\")"
   ]
  },
  {
   "cell_type": "code",
   "execution_count": 32,
   "metadata": {},
   "outputs": [
    {
     "name": "stdout",
     "output_type": "stream",
     "text": [
      "year: 2013\n",
      "2013 is not a leap year.\n"
     ]
    }
   ],
   "source": [
    "year = int(input(\"year: \"))\n",
    "if year % 4 == 0 and (year % 100 != 0 or  year % 400 == 0):\n",
    "    print(f\"{year} is Leap Year.\")\n",
    "else:\n",
    "    print(f\"{year} is not a leap year.\")"
   ]
  },
  {
   "cell_type": "code",
   "execution_count": 36,
   "metadata": {},
   "outputs": [
    {
     "name": "stdout",
     "output_type": "stream",
     "text": [
      "year: 2013\n",
      "2013 is not leap year.\n"
     ]
    }
   ],
   "source": [
    "year = int(input(\"year: \"))\n",
    "if (year % 4 == 0 and year % 100) or year % 400 == 0:\n",
    "    print(f\"{year} is leap year.\")\n",
    "else:\n",
    "    print(f\"{year} is not leap year.\")"
   ]
  },
  {
   "cell_type": "markdown",
   "metadata": {},
   "source": [
    "    month number input and month name print \n",
    "\n"
   ]
  },
  {
   "cell_type": "code",
   "execution_count": 39,
   "metadata": {},
   "outputs": [
    {
     "name": "stdout",
     "output_type": "stream",
     "text": [
      "Enter month number: 13\n",
      "Invalid Month Number\n"
     ]
    }
   ],
   "source": [
    "month = {\n",
    "    1: \"Jan\", 2: \"Feb\", 3: \"March\", 4: \"April\", 5: 'May', 6: \"June\", 7: \"July\", 8: \"Aug\", 9: \"Sept\", 10: \"Oct\", 11:\"Nov\",\n",
    "    12: \"Dec\"\n",
    "}\n",
    "\n",
    "num = int(input(\"Enter month number: \"))\n",
    "\n",
    "print(month.get(num, \"Invalid Month Number\"))"
   ]
  },
  {
   "cell_type": "raw",
   "metadata": {},
   "source": [
    "19\n",
    "4\n",
    "\n",
    "2000\n",
    "\n",
    "400"
   ]
  },
  {
   "cell_type": "markdown",
   "metadata": {},
   "source": [
    "### Loop "
   ]
  },
  {
   "cell_type": "markdown",
   "metadata": {},
   "source": [
    "    repeatition of statements"
   ]
  },
  {
   "cell_type": "markdown",
   "metadata": {},
   "source": [
    "    10 time hello print\n",
    "\n",
    "    print table of a number\n",
    "\n",
    "    unitll there is money in atm ask user for card input"
   ]
  },
  {
   "cell_type": "markdown",
   "metadata": {},
   "source": [
    "**while Loop**"
   ]
  },
  {
   "cell_type": "markdown",
   "metadata": {},
   "source": [
    "syntax: \n",
    "    \n",
    "    counter = 1 # initlization counter variable\n",
    "    \n",
    "    while cond using counter:\n",
    "        st1\n",
    "        st2\n",
    "        st3\n",
    "        st4\n",
    "        \n",
    "        counter += 1 # increment or decrement of counter variable"
   ]
  },
  {
   "cell_type": "code",
   "execution_count": 40,
   "metadata": {},
   "outputs": [
    {
     "name": "stdout",
     "output_type": "stream",
     "text": [
      "Hello World Times : 1\n",
      "Hello World Times : 2\n",
      "Hello World Times : 3\n",
      "Hello World Times : 4\n",
      "Hello World Times : 5\n",
      "Hello World Times : 6\n",
      "Hello World Times : 7\n",
      "Hello World Times : 8\n",
      "Hello World Times : 9\n",
      "Hello World Times : 10\n"
     ]
    }
   ],
   "source": [
    "counter = 1\n",
    "while counter <= 10:\n",
    "    print(f\"Hello World Times : {counter}\")\n",
    "    counter += 1  "
   ]
  },
  {
   "cell_type": "markdown",
   "metadata": {},
   "source": [
    "    break \n",
    "\n",
    "    continue\n",
    "\n",
    "    else"
   ]
  },
  {
   "cell_type": "code",
   "execution_count": 44,
   "metadata": {},
   "outputs": [],
   "source": [
    "def hello():\n",
    "    print(\"hello world\")\n",
    "    \n",
    "def bye():\n",
    "    print(\"bye world\")\n",
    "\n",
    "    def default():\n",
    "    print(\"ha ha ha default\")"
   ]
  },
  {
   "cell_type": "code",
   "execution_count": 45,
   "metadata": {},
   "outputs": [],
   "source": [
    "d =  { \n",
    "    1: hello,\n",
    "    2: bye\n",
    "}"
   ]
  },
  {
   "cell_type": "code",
   "execution_count": 48,
   "metadata": {},
   "outputs": [
    {
     "name": "stdout",
     "output_type": "stream",
     "text": [
      "Enter a number: 4\n",
      "ha ha ha default\n"
     ]
    }
   ],
   "source": [
    "num = int(input(\"Enter a number: \"))\n",
    "\n",
    "d.get(num, default)()\n"
   ]
  },
  {
   "cell_type": "code",
   "execution_count": 49,
   "metadata": {},
   "outputs": [
    {
     "data": {
      "text/plain": [
       "{1: <function __main__.hello()>, 2: <function __main__.bye()>}"
      ]
     },
     "execution_count": 49,
     "metadata": {},
     "output_type": "execute_result"
    }
   ],
   "source": [
    "d"
   ]
  },
  {
   "cell_type": "code",
   "execution_count": 51,
   "metadata": {},
   "outputs": [],
   "source": [
    "f = d.get(1)"
   ]
  },
  {
   "cell_type": "code",
   "execution_count": 52,
   "metadata": {},
   "outputs": [
    {
     "name": "stdout",
     "output_type": "stream",
     "text": [
      "hello world\n"
     ]
    }
   ],
   "source": [
    "f()"
   ]
  },
  {
   "cell_type": "code",
   "execution_count": 54,
   "metadata": {},
   "outputs": [
    {
     "name": "stdout",
     "output_type": "stream",
     "text": [
      "hello world\n"
     ]
    }
   ],
   "source": [
    "d.get(1)()"
   ]
  },
  {
   "cell_type": "code",
   "execution_count": null,
   "metadata": {},
   "outputs": [],
   "source": []
  }
 ],
 "metadata": {
  "kernelspec": {
   "display_name": "Python 3",
   "language": "python",
   "name": "python3"
  },
  "language_info": {
   "codemirror_mode": {
    "name": "ipython",
    "version": 3
   },
   "file_extension": ".py",
   "mimetype": "text/x-python",
   "name": "python",
   "nbconvert_exporter": "python",
   "pygments_lexer": "ipython3",
   "version": "3.7.4"
  }
 },
 "nbformat": 4,
 "nbformat_minor": 2
}
