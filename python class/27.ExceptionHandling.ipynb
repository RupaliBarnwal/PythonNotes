{
 "cells": [
  {
   "cell_type": "markdown",
   "metadata": {},
   "source": [
    "#### OOPS"
   ]
  },
  {
   "cell_type": "markdown",
   "metadata": {},
   "source": [
    "    Bank Application using OOPs"
   ]
  },
  {
   "cell_type": "markdown",
   "metadata": {},
   "source": [
    "### Exceptions Handling"
   ]
  },
  {
   "cell_type": "code",
   "execution_count": 1,
   "metadata": {},
   "outputs": [
    {
     "ename": "NameError",
     "evalue": "name 'name' is not defined",
     "output_type": "error",
     "traceback": [
      "\u001b[1;31m---------------------------------------------------------------------------\u001b[0m",
      "\u001b[1;31mNameError\u001b[0m                                 Traceback (most recent call last)",
      "\u001b[1;32m<ipython-input-1-9bc0cb2ed6de>\u001b[0m in \u001b[0;36m<module>\u001b[1;34m\u001b[0m\n\u001b[1;32m----> 1\u001b[1;33m \u001b[0mname\u001b[0m\u001b[1;33m\u001b[0m\u001b[1;33m\u001b[0m\u001b[0m\n\u001b[0m",
      "\u001b[1;31mNameError\u001b[0m: name 'name' is not defined"
     ]
    }
   ],
   "source": [
    "name"
   ]
  },
  {
   "cell_type": "code",
   "execution_count": 2,
   "metadata": {},
   "outputs": [
    {
     "ename": "ZeroDivisionError",
     "evalue": "division by zero",
     "output_type": "error",
     "traceback": [
      "\u001b[1;31m---------------------------------------------------------------------------\u001b[0m",
      "\u001b[1;31mZeroDivisionError\u001b[0m                         Traceback (most recent call last)",
      "\u001b[1;32m<ipython-input-2-bc757c3fda29>\u001b[0m in \u001b[0;36m<module>\u001b[1;34m\u001b[0m\n\u001b[1;32m----> 1\u001b[1;33m \u001b[1;36m1\u001b[0m \u001b[1;33m/\u001b[0m \u001b[1;36m0\u001b[0m\u001b[1;33m\u001b[0m\u001b[1;33m\u001b[0m\u001b[0m\n\u001b[0m",
      "\u001b[1;31mZeroDivisionError\u001b[0m: division by zero"
     ]
    }
   ],
   "source": [
    "1 / 0"
   ]
  },
  {
   "cell_type": "code",
   "execution_count": 3,
   "metadata": {},
   "outputs": [
    {
     "name": "stdout",
     "output_type": "stream",
     "text": [
      "lskdfj\n"
     ]
    },
    {
     "ename": "ValueError",
     "evalue": "invalid literal for int() with base 10: 'lskdfj'",
     "output_type": "error",
     "traceback": [
      "\u001b[1;31m---------------------------------------------------------------------------\u001b[0m",
      "\u001b[1;31mValueError\u001b[0m                                Traceback (most recent call last)",
      "\u001b[1;32m<ipython-input-3-b18148c418c0>\u001b[0m in \u001b[0;36m<module>\u001b[1;34m\u001b[0m\n\u001b[1;32m----> 1\u001b[1;33m \u001b[0mx\u001b[0m \u001b[1;33m=\u001b[0m \u001b[0mint\u001b[0m\u001b[1;33m(\u001b[0m\u001b[0minput\u001b[0m\u001b[1;33m(\u001b[0m\u001b[1;33m)\u001b[0m\u001b[1;33m)\u001b[0m\u001b[1;33m\u001b[0m\u001b[1;33m\u001b[0m\u001b[0m\n\u001b[0m",
      "\u001b[1;31mValueError\u001b[0m: invalid literal for int() with base 10: 'lskdfj'"
     ]
    }
   ],
   "source": [
    "x = int(input())"
   ]
  },
  {
   "cell_type": "code",
   "execution_count": 7,
   "metadata": {},
   "outputs": [
    {
     "ename": "IndentationError",
     "evalue": "unexpected indent (<ipython-input-7-98e23201d5d4>, line 3)",
     "output_type": "error",
     "traceback": [
      "\u001b[1;36m  File \u001b[1;32m\"<ipython-input-7-98e23201d5d4>\"\u001b[1;36m, line \u001b[1;32m3\u001b[0m\n\u001b[1;33m    print(\"hi\")\u001b[0m\n\u001b[1;37m    ^\u001b[0m\n\u001b[1;31mIndentationError\u001b[0m\u001b[1;31m:\u001b[0m unexpected indent\n"
     ]
    }
   ],
   "source": [
    "if True:\n",
    " print('hello world')\n",
    "    print(\"hi\")"
   ]
  },
  {
   "cell_type": "code",
   "execution_count": null,
   "metadata": {},
   "outputs": [],
   "source": [
    "fp = open('alkdfj')"
   ]
  },
  {
   "cell_type": "markdown",
   "metadata": {},
   "source": [
    "    Exceptions are run time errors caused by some logical reason"
   ]
  },
  {
   "cell_type": "code",
   "execution_count": 10,
   "metadata": {},
   "outputs": [
    {
     "name": "stdout",
     "output_type": "stream",
     "text": [
      "Enter x: alskdfj\n"
     ]
    },
    {
     "ename": "ValueError",
     "evalue": "invalid literal for int() with base 10: 'alskdfj'",
     "output_type": "error",
     "traceback": [
      "\u001b[1;31m---------------------------------------------------------------------------\u001b[0m",
      "\u001b[1;31mValueError\u001b[0m                                Traceback (most recent call last)",
      "\u001b[1;32m<ipython-input-10-84a58e9933e1>\u001b[0m in \u001b[0;36m<module>\u001b[1;34m\u001b[0m\n\u001b[1;32m----> 1\u001b[1;33m \u001b[0mx\u001b[0m \u001b[1;33m=\u001b[0m \u001b[0mint\u001b[0m\u001b[1;33m(\u001b[0m\u001b[0minput\u001b[0m\u001b[1;33m(\u001b[0m\u001b[1;34m\"Enter x: \"\u001b[0m\u001b[1;33m)\u001b[0m\u001b[1;33m)\u001b[0m \u001b[1;31m# value error\u001b[0m\u001b[1;33m\u001b[0m\u001b[1;33m\u001b[0m\u001b[0m\n\u001b[0m\u001b[0;32m      2\u001b[0m \u001b[0my\u001b[0m \u001b[1;33m=\u001b[0m \u001b[0mint\u001b[0m\u001b[1;33m(\u001b[0m\u001b[0minput\u001b[0m\u001b[1;33m(\u001b[0m\u001b[1;34m\"Enter y: \"\u001b[0m\u001b[1;33m)\u001b[0m\u001b[1;33m)\u001b[0m \u001b[1;31m# value error\u001b[0m\u001b[1;33m\u001b[0m\u001b[1;33m\u001b[0m\u001b[0m\n\u001b[0;32m      3\u001b[0m \u001b[0mresult\u001b[0m \u001b[1;33m=\u001b[0m \u001b[0mx\u001b[0m \u001b[1;33m/\u001b[0m \u001b[0my\u001b[0m \u001b[1;31m# zero division error\u001b[0m\u001b[1;33m\u001b[0m\u001b[1;33m\u001b[0m\u001b[0m\n\u001b[0;32m      4\u001b[0m \u001b[1;33m\u001b[0m\u001b[0m\n\u001b[0;32m      5\u001b[0m \u001b[0mprint\u001b[0m\u001b[1;33m(\u001b[0m\u001b[1;34m\"X: \"\u001b[0m\u001b[1;33m,\u001b[0m \u001b[0mx\u001b[0m\u001b[1;33m)\u001b[0m\u001b[1;33m\u001b[0m\u001b[1;33m\u001b[0m\u001b[0m\n",
      "\u001b[1;31mValueError\u001b[0m: invalid literal for int() with base 10: 'alskdfj'"
     ]
    }
   ],
   "source": [
    "x = int(input(\"Enter x: \")) # value error\n",
    "y = int(input(\"Enter y: \")) # value error\n",
    "result = x / y # zero division error\n",
    "\n",
    "print(\"X: \", x)\n",
    "print(\"Y: \", y)\n",
    "print(\"Result: \", result)"
   ]
  },
  {
   "cell_type": "code",
   "execution_count": 13,
   "metadata": {},
   "outputs": [
    {
     "name": "stdout",
     "output_type": "stream",
     "text": [
      "__________________________Begning___________________________\n",
      "Enter x: 1\n",
      "Enter y: 0\n"
     ]
    },
    {
     "ename": "ZeroDivisionError",
     "evalue": "division by zero",
     "output_type": "error",
     "traceback": [
      "\u001b[1;31m---------------------------------------------------------------------------\u001b[0m",
      "\u001b[1;31mZeroDivisionError\u001b[0m                         Traceback (most recent call last)",
      "\u001b[1;32m<ipython-input-13-023665a1856e>\u001b[0m in \u001b[0;36m<module>\u001b[1;34m\u001b[0m\n\u001b[0;32m      2\u001b[0m \u001b[0mx\u001b[0m \u001b[1;33m=\u001b[0m \u001b[0mint\u001b[0m\u001b[1;33m(\u001b[0m\u001b[0minput\u001b[0m\u001b[1;33m(\u001b[0m\u001b[1;34m\"Enter x: \"\u001b[0m\u001b[1;33m)\u001b[0m\u001b[1;33m)\u001b[0m \u001b[1;31m# value error\u001b[0m\u001b[1;33m\u001b[0m\u001b[1;33m\u001b[0m\u001b[0m\n\u001b[0;32m      3\u001b[0m \u001b[0my\u001b[0m \u001b[1;33m=\u001b[0m \u001b[0mint\u001b[0m\u001b[1;33m(\u001b[0m\u001b[0minput\u001b[0m\u001b[1;33m(\u001b[0m\u001b[1;34m\"Enter y: \"\u001b[0m\u001b[1;33m)\u001b[0m\u001b[1;33m)\u001b[0m \u001b[1;31m# value error\u001b[0m\u001b[1;33m\u001b[0m\u001b[1;33m\u001b[0m\u001b[0m\n\u001b[1;32m----> 4\u001b[1;33m \u001b[0mresult\u001b[0m \u001b[1;33m=\u001b[0m \u001b[0mx\u001b[0m \u001b[1;33m/\u001b[0m \u001b[0my\u001b[0m \u001b[1;31m# zero division error\u001b[0m\u001b[1;33m\u001b[0m\u001b[1;33m\u001b[0m\u001b[0m\n\u001b[0m\u001b[0;32m      5\u001b[0m \u001b[1;33m\u001b[0m\u001b[0m\n\u001b[0;32m      6\u001b[0m \u001b[0mprint\u001b[0m\u001b[1;33m(\u001b[0m\u001b[1;34m\"X: \"\u001b[0m\u001b[1;33m,\u001b[0m \u001b[0mx\u001b[0m\u001b[1;33m)\u001b[0m\u001b[1;33m\u001b[0m\u001b[1;33m\u001b[0m\u001b[0m\n",
      "\u001b[1;31mZeroDivisionError\u001b[0m: division by zero"
     ]
    }
   ],
   "source": [
    "print(\"Begining\".center(60, '_'))\n",
    "x = int(input(\"Enter x: \")) # value error\n",
    "y = int(input(\"Enter y: \")) # value error\n",
    "result = x / y # zero division error\n",
    "\n",
    "print(\"X: \", x)\n",
    "print(\"Y: \", y)\n",
    "print(\"Result: \", result)\n",
    "print(\"Ending\".center(60,'_'))"
   ]
  },
  {
   "cell_type": "code",
   "execution_count": 15,
   "metadata": {},
   "outputs": [
    {
     "name": "stdout",
     "output_type": "stream",
     "text": [
      "___________________________Began____________________________\n",
      "Enter x: dkfj\n",
      "!!Error!! Something Went Wrong\n",
      "____________________________End_____________________________\n"
     ]
    }
   ],
   "source": [
    "print(\"Began\".center(60,'_'))\n",
    "try:\n",
    "    x = int(input(\"Enter x: \")) # value error\n",
    "    y = int(input(\"Enter y: \")) # value error\n",
    "    result = x / y # zero division error\n",
    "\n",
    "    print(\"X: \", x)\n",
    "    print(\"Y: \", y)\n",
    "    print(\"Result: \", result)\n",
    "except:\n",
    "    print(\"!!Error!! Something Went Wrong\")\n",
    "print(\"End\".center(60, '_'))"
   ]
  },
  {
   "cell_type": "code",
   "execution_count": 16,
   "metadata": {},
   "outputs": [
    {
     "name": "stdout",
     "output_type": "stream",
     "text": [
      "___________________________Began____________________________\n",
      "Enter x: 1\n",
      "Enter y: 0\n",
      "!!Error!! division by zero\n",
      "____________________________End_____________________________\n"
     ]
    }
   ],
   "source": [
    "print(\"Began\".center(60,'_'))\n",
    "try:\n",
    "    x = int(input(\"Enter x: \")) # value error\n",
    "    y = int(input(\"Enter y: \")) # value error\n",
    "    result = x / y # zero division error\n",
    "\n",
    "    print(\"X: \", x)\n",
    "    print(\"Y: \", y)\n",
    "    print(\"Result: \", result)\n",
    "except Exception as e:\n",
    "    print(f\"!!Error!! {e}\")\n",
    "print(\"End\".center(60, '_'))"
   ]
  },
  {
   "cell_type": "code",
   "execution_count": 17,
   "metadata": {},
   "outputs": [
    {
     "name": "stdout",
     "output_type": "stream",
     "text": [
      "___________________________Began____________________________\n",
      "Enter x: lskdfj\n",
      "!!Error!! invalid literal for int() with base 10: 'lskdfj'\n",
      "____________________________End_____________________________\n"
     ]
    }
   ],
   "source": [
    "print(\"Began\".center(60,'_'))\n",
    "try:\n",
    "    x = int(input(\"Enter x: \")) # value error\n",
    "    y = int(input(\"Enter y: \")) # value error\n",
    "    result = x / y # zero division error\n",
    "\n",
    "    print(\"X: \", x)\n",
    "    print(\"Y: \", y)\n",
    "    print(\"Result: \", result)\n",
    "except Exception as e:\n",
    "    print(f\"!!Error!! {e}\")\n",
    "print(\"End\".center(60, '_'))"
   ]
  },
  {
   "cell_type": "code",
   "execution_count": 18,
   "metadata": {},
   "outputs": [
    {
     "ename": "ValueError",
     "evalue": "invalid literal for int() with base 10: 'alskdfj'",
     "output_type": "error",
     "traceback": [
      "\u001b[1;31m---------------------------------------------------------------------------\u001b[0m",
      "\u001b[1;31mValueError\u001b[0m                                Traceback (most recent call last)",
      "\u001b[1;32m<ipython-input-18-4746fc8d3f2b>\u001b[0m in \u001b[0;36m<module>\u001b[1;34m\u001b[0m\n\u001b[1;32m----> 1\u001b[1;33m \u001b[0mint\u001b[0m\u001b[1;33m(\u001b[0m\u001b[1;34m'alskdfj'\u001b[0m\u001b[1;33m)\u001b[0m\u001b[1;33m\u001b[0m\u001b[1;33m\u001b[0m\u001b[0m\n\u001b[0m",
      "\u001b[1;31mValueError\u001b[0m: invalid literal for int() with base 10: 'alskdfj'"
     ]
    }
   ],
   "source": [
    "int('alskdfj')"
   ]
  },
  {
   "cell_type": "code",
   "execution_count": 19,
   "metadata": {},
   "outputs": [
    {
     "ename": "ZeroDivisionError",
     "evalue": "division by zero",
     "output_type": "error",
     "traceback": [
      "\u001b[1;31m---------------------------------------------------------------------------\u001b[0m",
      "\u001b[1;31mZeroDivisionError\u001b[0m                         Traceback (most recent call last)",
      "\u001b[1;32m<ipython-input-19-9e1622b385b6>\u001b[0m in \u001b[0;36m<module>\u001b[1;34m\u001b[0m\n\u001b[1;32m----> 1\u001b[1;33m \u001b[1;36m1\u001b[0m\u001b[1;33m/\u001b[0m\u001b[1;36m0\u001b[0m\u001b[1;33m\u001b[0m\u001b[1;33m\u001b[0m\u001b[0m\n\u001b[0m",
      "\u001b[1;31mZeroDivisionError\u001b[0m: division by zero"
     ]
    }
   ],
   "source": [
    "1/0"
   ]
  },
  {
   "cell_type": "code",
   "execution_count": 21,
   "metadata": {},
   "outputs": [
    {
     "name": "stdout",
     "output_type": "stream",
     "text": [
      "___________________________Began____________________________\n",
      "Enter x: aldj\n",
      "!!Error!! Please Give Proper Integer Number as Input...Thanks\n",
      "____________________________End_____________________________\n",
      "Enter x: 5\n",
      "Enter y: 0\n",
      "!!Error!!Konsa Gola aaye ho!!zero se koi divide karta hai bhala\n",
      "____________________________End_____________________________\n",
      "Enter x: 5\n",
      "Enter y: 6\n",
      "X:  5\n",
      "Y:  6\n",
      "Result:  0.8333333333333334\n"
     ]
    }
   ],
   "source": [
    "print(\"Began\".center(60,'_'))\n",
    "while True:\n",
    "    try:\n",
    "        x = int(input(\"Enter x: \")) # value error\n",
    "        y = int(input(\"Enter y: \")) # value error\n",
    "        result = x / y # zero division error\n",
    "\n",
    "        print(\"X: \", x)\n",
    "        print(\"Y: \", y)\n",
    "        print(\"Result: \", result)\n",
    "        break\n",
    "    except ValueError as e:\n",
    "        print(f\"!!Error!! Please Give Proper Integer Number as Input...Thanks\")\n",
    "    except ZeroDivisionError as e:\n",
    "        print(f\"!!Error!!Konsa Gola se aaye ho!!zero se koi divide karta hai bhala\")\n",
    "    except Exception as e:\n",
    "        print(\"!!Error!!You Are Doing Somethind Nesty!!Something Went Wrong\")\n",
    "        print(\"Show this msg to our mantinance team: \", e)\n",
    "    print(\"End\".center(60, '_'))"
   ]
  },
  {
   "cell_type": "code",
   "execution_count": 24,
   "metadata": {},
   "outputs": [],
   "source": [
    "import builtins"
   ]
  },
  {
   "cell_type": "code",
   "execution_count": 26,
   "metadata": {},
   "outputs": [
    {
     "name": "stdout",
     "output_type": "stream",
     "text": [
      "ArithmeticError\n",
      "AssertionError\n",
      "AttributeError\n",
      "BaseException\n",
      "BlockingIOError\n",
      "BrokenPipeError\n",
      "BufferError\n",
      "BytesWarning\n",
      "ChildProcessError\n",
      "ConnectionAbortedError\n",
      "ConnectionError\n",
      "ConnectionRefusedError\n",
      "ConnectionResetError\n",
      "DeprecationWarning\n",
      "EOFError\n",
      "Ellipsis\n",
      "EnvironmentError\n",
      "Exception\n",
      "False\n",
      "FileExistsError\n",
      "FileNotFoundError\n",
      "FloatingPointError\n",
      "FutureWarning\n",
      "GeneratorExit\n",
      "IOError\n",
      "ImportError\n",
      "ImportWarning\n",
      "IndentationError\n",
      "IndexError\n",
      "InterruptedError\n",
      "IsADirectoryError\n",
      "KeyError\n",
      "KeyboardInterrupt\n",
      "LookupError\n",
      "MemoryError\n",
      "ModuleNotFoundError\n",
      "NameError\n",
      "None\n",
      "NotADirectoryError\n",
      "NotImplemented\n",
      "NotImplementedError\n",
      "OSError\n",
      "OverflowError\n",
      "PendingDeprecationWarning\n",
      "PermissionError\n",
      "ProcessLookupError\n",
      "RecursionError\n",
      "ReferenceError\n",
      "ResourceWarning\n",
      "RuntimeError\n",
      "RuntimeWarning\n",
      "StopAsyncIteration\n",
      "StopIteration\n",
      "SyntaxError\n",
      "SyntaxWarning\n",
      "SystemError\n",
      "SystemExit\n",
      "TabError\n",
      "TimeoutError\n",
      "True\n",
      "TypeError\n",
      "UnboundLocalError\n",
      "UnicodeDecodeError\n",
      "UnicodeEncodeError\n",
      "UnicodeError\n",
      "UnicodeTranslateError\n",
      "UnicodeWarning\n",
      "UserWarning\n",
      "ValueError\n",
      "Warning\n",
      "WindowsError\n",
      "ZeroDivisionError\n"
     ]
    }
   ],
   "source": [
    "print(*[ err for err in dir(builtins) if err[0].isupper() ], sep='\\n')"
   ]
  },
  {
   "cell_type": "code",
   "execution_count": 29,
   "metadata": {},
   "outputs": [
    {
     "name": "stdout",
     "output_type": "stream",
     "text": [
      "___________________________Began____________________________\n",
      "Enter x: 1\n",
      "Enter y: 6\n",
      "X:  1\n",
      "Y:  6\n",
      "Result:  0.16666666666666666\n",
      "____________________________End_____________________________\n"
     ]
    }
   ],
   "source": [
    "print(\"Began\".center(60,'_'))\n",
    "try:\n",
    "    x = int(input(\"Enter x: \")) # value error\n",
    "    y = int(input(\"Enter y: \")) # value error\n",
    "    result = x / y # zero division error\n",
    "except ZeroDivisionError as e:\n",
    "    print(f\"!!Error!! Invalid Operation can not divide by zero!!\")\n",
    "except ValueError as e:\n",
    "    print(f\"!!Error!! Invalid Input, Input should be a number!!\")\n",
    "except Exception as e:\n",
    "    print(f\"!!Error!! Something Went Wrong {e}\")\n",
    "else:\n",
    "    print(\"X: \", x)\n",
    "    print(\"Y: \", y)\n",
    "    print(\"Result: \", result)\n",
    "print(\"End\".center(60, '_'))"
   ]
  },
  {
   "cell_type": "code",
   "execution_count": 30,
   "metadata": {},
   "outputs": [
    {
     "name": "stdout",
     "output_type": "stream",
     "text": [
      "___________________________Began____________________________\n",
      "Enter x: 1\n",
      "Enter y: 0\n",
      "!!Error!! Invalid Operation can not divide by zero!!\n",
      "____________________________End_____________________________\n"
     ]
    }
   ],
   "source": [
    "print(\"Began\".center(60,'_'))\n",
    "try:\n",
    "    x = int(input(\"Enter x: \")) # value error\n",
    "    y = int(input(\"Enter y: \")) # value error\n",
    "    result = x / y # zero division error\n",
    "except ZeroDivisionError as e:\n",
    "    print(f\"!!Error!! Invalid Operation can not divide by zero!!\")\n",
    "except ValueError as e:\n",
    "    print(f\"!!Error!! Invalid Input, Input should be a number!!\")\n",
    "except Exception as e:\n",
    "    print(f\"!!Error!! Something Went Wrong {e}\")\n",
    "else:\n",
    "    print(\"X: \", x)\n",
    "    print(\"Y: \", y)\n",
    "    print(\"Result: \", result)\n",
    "print(\"End\".center(60, '_'))"
   ]
  },
  {
   "cell_type": "code",
   "execution_count": 32,
   "metadata": {},
   "outputs": [
    {
     "name": "stdout",
     "output_type": "stream",
     "text": [
      "4 5\n",
      "I will run if No Errors Come\n",
      "Result:  0.8\n",
      "I will run!! Everytime Whatever happens\n"
     ]
    }
   ],
   "source": [
    "try:\n",
    "    x,y = map(int, input().split())\n",
    "    r = x / y\n",
    "except Exception as e:\n",
    "    print(f\"!!Error!!{e}\")\n",
    "else:\n",
    "    print(\"I will run if No Errors Come\")\n",
    "    print(\"Result: \", r)\n",
    "finally:\n",
    "    print(\"I will run!! Everytime Whatever happens\")"
   ]
  },
  {
   "cell_type": "code",
   "execution_count": 37,
   "metadata": {},
   "outputs": [
    {
     "name": "stdout",
     "output_type": "stream",
     "text": [
      "1\n",
      "!!Error!!not enough values to unpack (expected 2, got 1)\n",
      "I will run!! Everytime Whatever happens\n",
      "We put here clean up actions\n"
     ]
    }
   ],
   "source": [
    "try:\n",
    "    x,y = map(int, input().split())\n",
    "    r = x / y\n",
    "except Exception as e:\n",
    "    print(f\"!!Error!!{e}\")\n",
    "else:\n",
    "    print(\"I will run if No Errors Come\")\n",
    "    print(\"Result: \", r)\n",
    "finally:\n",
    "    print(\"I will run!! Everytime Whatever happens\")\n",
    "    print(\"We put here clean up actions\")"
   ]
  },
  {
   "cell_type": "code",
   "execution_count": 43,
   "metadata": {},
   "outputs": [
    {
     "name": "stdout",
     "output_type": "stream",
     "text": [
      "!!Error!! write() argument must be str, not bytes\n",
      "I will manage your resources whatever happens\n"
     ]
    }
   ],
   "source": [
    "try:\n",
    "    fp = open('filename', 'w')\n",
    "    fp.write(b\"asldkjf\")\n",
    "\n",
    "except Exception as e:\n",
    "    print(\"!!Error!!\", e)\n",
    "else:\n",
    "    print(\"content written sucessfully\")\n",
    "finally:\n",
    "    fp.close()\n",
    "    print(\"I will manage your resources whatever happens\")"
   ]
  },
  {
   "cell_type": "code",
   "execution_count": 42,
   "metadata": {},
   "outputs": [
    {
     "data": {
      "text/plain": [
       "True"
      ]
     },
     "execution_count": 42,
     "metadata": {},
     "output_type": "execute_result"
    }
   ],
   "source": [
    "fp.closed"
   ]
  },
  {
   "cell_type": "code",
   "execution_count": 45,
   "metadata": {},
   "outputs": [],
   "source": [
    "def hello():\n",
    "    try: \n",
    "        1 / 0\n",
    "        return 'not possible'\n",
    "    except ZeroDivisionError as e:\n",
    "        print(\"Error!!, Can not be divied by zero.\")\n",
    "        return 'ha ha ha'\n",
    "    else:\n",
    "        print(\"good good awesome awesome\")\n",
    "        return 'he he he'\n",
    "    finally:\n",
    "        return 'ho ho ho'"
   ]
  },
  {
   "cell_type": "code",
   "execution_count": 46,
   "metadata": {},
   "outputs": [
    {
     "name": "stdout",
     "output_type": "stream",
     "text": [
      "Error!!, Can not be divied by zero.\n"
     ]
    }
   ],
   "source": [
    "ans = hello()"
   ]
  },
  {
   "cell_type": "code",
   "execution_count": 47,
   "metadata": {},
   "outputs": [
    {
     "name": "stdout",
     "output_type": "stream",
     "text": [
      "ho ho ho\n"
     ]
    }
   ],
   "source": [
    "print(ans)"
   ]
  },
  {
   "cell_type": "code",
   "execution_count": 56,
   "metadata": {},
   "outputs": [],
   "source": [
    "def hello():\n",
    "    try: \n",
    "        int('alskdfj')\n",
    "        1 / 0\n",
    "        return 'not possible'\n",
    "    except ZeroDivisionError as e:\n",
    "        print(\"Error!!, Can not be divied by zero.\")\n",
    "        return 'ha ha ha'\n",
    "    else:\n",
    "        print(\"good good awesome awesome\")\n",
    "        return 'he he he'\n",
    "    finally:\n",
    "        # i will run whatever happens\n",
    "        1 / 0 # causing\n",
    "        return 'ho ho ho'"
   ]
  },
  {
   "cell_type": "code",
   "execution_count": 57,
   "metadata": {},
   "outputs": [
    {
     "ename": "ZeroDivisionError",
     "evalue": "division by zero",
     "output_type": "error",
     "traceback": [
      "\u001b[1;31m---------------------------------------------------------------------------\u001b[0m",
      "\u001b[1;31mValueError\u001b[0m                                Traceback (most recent call last)",
      "\u001b[1;32m<ipython-input-56-4c0614ca05f4>\u001b[0m in \u001b[0;36mhello\u001b[1;34m()\u001b[0m\n\u001b[0;32m      2\u001b[0m     \u001b[1;32mtry\u001b[0m\u001b[1;33m:\u001b[0m\u001b[1;33m\u001b[0m\u001b[1;33m\u001b[0m\u001b[0m\n\u001b[1;32m----> 3\u001b[1;33m         \u001b[0mint\u001b[0m\u001b[1;33m(\u001b[0m\u001b[1;34m'alskdfj'\u001b[0m\u001b[1;33m)\u001b[0m\u001b[1;33m\u001b[0m\u001b[1;33m\u001b[0m\u001b[0m\n\u001b[0m\u001b[0;32m      4\u001b[0m         \u001b[1;36m1\u001b[0m \u001b[1;33m/\u001b[0m \u001b[1;36m0\u001b[0m\u001b[1;33m\u001b[0m\u001b[1;33m\u001b[0m\u001b[0m\n",
      "\u001b[1;31mValueError\u001b[0m: invalid literal for int() with base 10: 'alskdfj'",
      "\nDuring handling of the above exception, another exception occurred:\n",
      "\u001b[1;31mZeroDivisionError\u001b[0m                         Traceback (most recent call last)",
      "\u001b[1;32m<ipython-input-57-a75d7781aaeb>\u001b[0m in \u001b[0;36m<module>\u001b[1;34m\u001b[0m\n\u001b[1;32m----> 1\u001b[1;33m \u001b[0mhello\u001b[0m\u001b[1;33m(\u001b[0m\u001b[1;33m)\u001b[0m\u001b[1;33m\u001b[0m\u001b[1;33m\u001b[0m\u001b[0m\n\u001b[0m",
      "\u001b[1;32m<ipython-input-56-4c0614ca05f4>\u001b[0m in \u001b[0;36mhello\u001b[1;34m()\u001b[0m\n\u001b[0;32m     12\u001b[0m     \u001b[1;32mfinally\u001b[0m\u001b[1;33m:\u001b[0m\u001b[1;33m\u001b[0m\u001b[1;33m\u001b[0m\u001b[0m\n\u001b[0;32m     13\u001b[0m         \u001b[1;31m# i will run whatever happens\u001b[0m\u001b[1;33m\u001b[0m\u001b[1;33m\u001b[0m\u001b[1;33m\u001b[0m\u001b[0m\n\u001b[1;32m---> 14\u001b[1;33m         \u001b[1;36m1\u001b[0m \u001b[1;33m/\u001b[0m \u001b[1;36m0\u001b[0m\u001b[1;33m\u001b[0m\u001b[1;33m\u001b[0m\u001b[0m\n\u001b[0m\u001b[0;32m     15\u001b[0m         \u001b[1;32mreturn\u001b[0m \u001b[1;34m'ho ho ho'\u001b[0m\u001b[1;33m\u001b[0m\u001b[1;33m\u001b[0m\u001b[0m\n",
      "\u001b[1;31mZeroDivisionError\u001b[0m: division by zero"
     ]
    }
   ],
   "source": [
    "hello()"
   ]
  },
  {
   "cell_type": "code",
   "execution_count": 58,
   "metadata": {},
   "outputs": [],
   "source": [
    "def hello():\n",
    "    try: \n",
    "        int('alskdfj')\n",
    "        1 / 0\n",
    "        return 'not possible'\n",
    "    except ZeroDivisionError as e:\n",
    "        print(\"Error!!, Can not be divied by zero.\")\n",
    "        return 'ha ha ha'\n",
    "    else:\n",
    "        print(\"good good awesome awesome\")\n",
    "        return 'he he he'\n",
    "    finally:\n",
    "        # i will run whatever happens\n",
    "        #1 / 0 # causing\n",
    "        return 'ho ho ho'"
   ]
  },
  {
   "cell_type": "code",
   "execution_count": 59,
   "metadata": {},
   "outputs": [
    {
     "data": {
      "text/plain": [
       "'ho ho ho'"
      ]
     },
     "execution_count": 59,
     "metadata": {},
     "output_type": "execute_result"
    }
   ],
   "source": [
    "hello()"
   ]
  },
  {
   "cell_type": "code",
   "execution_count": 60,
   "metadata": {},
   "outputs": [],
   "source": [
    "def hello():\n",
    "    try: \n",
    "        int('alskdfj')\n",
    "        1 / 0\n",
    "        return 'not possible'\n",
    "    except ZeroDivisionError as e:\n",
    "        print(\"Error!!, Can not be divied by zero.\")\n",
    "        return 'ha ha ha'\n",
    "    else:\n",
    "        print(\"good good awesome awesome\")\n",
    "        return 'he he he'\n",
    "    finally:\n",
    "        # i will run whatever happens\n",
    "        #1 / 0 # causing\n",
    "        print('ho ho ho')"
   ]
  },
  {
   "cell_type": "code",
   "execution_count": 61,
   "metadata": {},
   "outputs": [
    {
     "name": "stdout",
     "output_type": "stream",
     "text": [
      "ho ho ho\n"
     ]
    },
    {
     "ename": "ValueError",
     "evalue": "invalid literal for int() with base 10: 'alskdfj'",
     "output_type": "error",
     "traceback": [
      "\u001b[1;31m---------------------------------------------------------------------------\u001b[0m",
      "\u001b[1;31mValueError\u001b[0m                                Traceback (most recent call last)",
      "\u001b[1;32m<ipython-input-61-a75d7781aaeb>\u001b[0m in \u001b[0;36m<module>\u001b[1;34m\u001b[0m\n\u001b[1;32m----> 1\u001b[1;33m \u001b[0mhello\u001b[0m\u001b[1;33m(\u001b[0m\u001b[1;33m)\u001b[0m\u001b[1;33m\u001b[0m\u001b[1;33m\u001b[0m\u001b[0m\n\u001b[0m",
      "\u001b[1;32m<ipython-input-60-e7daf412a78a>\u001b[0m in \u001b[0;36mhello\u001b[1;34m()\u001b[0m\n\u001b[0;32m      1\u001b[0m \u001b[1;32mdef\u001b[0m \u001b[0mhello\u001b[0m\u001b[1;33m(\u001b[0m\u001b[1;33m)\u001b[0m\u001b[1;33m:\u001b[0m\u001b[1;33m\u001b[0m\u001b[1;33m\u001b[0m\u001b[0m\n\u001b[0;32m      2\u001b[0m     \u001b[1;32mtry\u001b[0m\u001b[1;33m:\u001b[0m\u001b[1;33m\u001b[0m\u001b[1;33m\u001b[0m\u001b[0m\n\u001b[1;32m----> 3\u001b[1;33m         \u001b[0mint\u001b[0m\u001b[1;33m(\u001b[0m\u001b[1;34m'alskdfj'\u001b[0m\u001b[1;33m)\u001b[0m\u001b[1;33m\u001b[0m\u001b[1;33m\u001b[0m\u001b[0m\n\u001b[0m\u001b[0;32m      4\u001b[0m         \u001b[1;36m1\u001b[0m \u001b[1;33m/\u001b[0m \u001b[1;36m0\u001b[0m\u001b[1;33m\u001b[0m\u001b[1;33m\u001b[0m\u001b[0m\n\u001b[0;32m      5\u001b[0m         \u001b[1;32mreturn\u001b[0m \u001b[1;34m'not possible'\u001b[0m\u001b[1;33m\u001b[0m\u001b[1;33m\u001b[0m\u001b[0m\n",
      "\u001b[1;31mValueError\u001b[0m: invalid literal for int() with base 10: 'alskdfj'"
     ]
    }
   ],
   "source": [
    "hello()"
   ]
  },
  {
   "cell_type": "code",
   "execution_count": 50,
   "metadata": {},
   "outputs": [],
   "source": [
    "def hi():\n",
    "    try: \n",
    "        int('alskdfj')\n",
    "        1 / 0\n",
    "        return 'not possible'\n",
    "    except ZeroDivisionError as e:\n",
    "        print(\"Error!!, Can not be divied by zero.\")\n",
    "        return 'ha ha ha'\n",
    "    else:\n",
    "        print(\"good good awesome awesome\")\n",
    "        return 'he he he'"
   ]
  },
  {
   "cell_type": "code",
   "execution_count": 51,
   "metadata": {},
   "outputs": [
    {
     "ename": "ValueError",
     "evalue": "invalid literal for int() with base 10: 'alskdfj'",
     "output_type": "error",
     "traceback": [
      "\u001b[1;31m---------------------------------------------------------------------------\u001b[0m",
      "\u001b[1;31mValueError\u001b[0m                                Traceback (most recent call last)",
      "\u001b[1;32m<ipython-input-51-ce8dd9c0d491>\u001b[0m in \u001b[0;36m<module>\u001b[1;34m\u001b[0m\n\u001b[1;32m----> 1\u001b[1;33m \u001b[0mhi\u001b[0m\u001b[1;33m(\u001b[0m\u001b[1;33m)\u001b[0m\u001b[1;33m\u001b[0m\u001b[1;33m\u001b[0m\u001b[0m\n\u001b[0m",
      "\u001b[1;32m<ipython-input-50-6566a89c5b47>\u001b[0m in \u001b[0;36mhi\u001b[1;34m()\u001b[0m\n\u001b[0;32m      1\u001b[0m \u001b[1;32mdef\u001b[0m \u001b[0mhi\u001b[0m\u001b[1;33m(\u001b[0m\u001b[1;33m)\u001b[0m\u001b[1;33m:\u001b[0m\u001b[1;33m\u001b[0m\u001b[1;33m\u001b[0m\u001b[0m\n\u001b[0;32m      2\u001b[0m     \u001b[1;32mtry\u001b[0m\u001b[1;33m:\u001b[0m\u001b[1;33m\u001b[0m\u001b[1;33m\u001b[0m\u001b[0m\n\u001b[1;32m----> 3\u001b[1;33m         \u001b[0mint\u001b[0m\u001b[1;33m(\u001b[0m\u001b[1;34m'alskdfj'\u001b[0m\u001b[1;33m)\u001b[0m\u001b[1;33m\u001b[0m\u001b[1;33m\u001b[0m\u001b[0m\n\u001b[0m\u001b[0;32m      4\u001b[0m         \u001b[1;36m1\u001b[0m \u001b[1;33m/\u001b[0m \u001b[1;36m0\u001b[0m\u001b[1;33m\u001b[0m\u001b[1;33m\u001b[0m\u001b[0m\n\u001b[0;32m      5\u001b[0m         \u001b[1;32mreturn\u001b[0m \u001b[1;34m'not possible'\u001b[0m\u001b[1;33m\u001b[0m\u001b[1;33m\u001b[0m\u001b[0m\n",
      "\u001b[1;31mValueError\u001b[0m: invalid literal for int() with base 10: 'alskdfj'"
     ]
    }
   ],
   "source": [
    "hi()"
   ]
  },
  {
   "cell_type": "markdown",
   "metadata": {},
   "source": [
    "### Custom Exceptions"
   ]
  },
  {
   "cell_type": "markdown",
   "metadata": {},
   "source": [
    "    user defined error"
   ]
  },
  {
   "cell_type": "markdown",
   "metadata": {},
   "source": [
    "use `raise` statement to `intentionally cause an exception` in our program "
   ]
  },
  {
   "cell_type": "code",
   "execution_count": 62,
   "metadata": {},
   "outputs": [
    {
     "ename": "MemoryError",
     "evalue": "ha ha my memory error",
     "output_type": "error",
     "traceback": [
      "\u001b[1;31m---------------------------------------------------------------------------\u001b[0m",
      "\u001b[1;31mMemoryError\u001b[0m                               Traceback (most recent call last)",
      "\u001b[1;32m<ipython-input-62-1ce3b337a2f7>\u001b[0m in \u001b[0;36m<module>\u001b[1;34m\u001b[0m\n\u001b[1;32m----> 1\u001b[1;33m \u001b[1;32mraise\u001b[0m \u001b[0mMemoryError\u001b[0m\u001b[1;33m(\u001b[0m\u001b[1;34m'ha ha my memory error'\u001b[0m\u001b[1;33m)\u001b[0m\u001b[1;33m\u001b[0m\u001b[1;33m\u001b[0m\u001b[0m\n\u001b[0m",
      "\u001b[1;31mMemoryError\u001b[0m: ha ha my memory error"
     ]
    }
   ],
   "source": [
    "raise MemoryError('ha ha my memory error')"
   ]
  },
  {
   "cell_type": "code",
   "execution_count": 63,
   "metadata": {},
   "outputs": [
    {
     "ename": "PermissionError",
     "evalue": "ohh cool now i can make any error",
     "output_type": "error",
     "traceback": [
      "\u001b[1;31m---------------------------------------------------------------------------\u001b[0m",
      "\u001b[1;31mPermissionError\u001b[0m                           Traceback (most recent call last)",
      "\u001b[1;32m<ipython-input-63-21f73010e43d>\u001b[0m in \u001b[0;36m<module>\u001b[1;34m\u001b[0m\n\u001b[1;32m----> 1\u001b[1;33m \u001b[1;32mraise\u001b[0m \u001b[0mPermissionError\u001b[0m\u001b[1;33m(\u001b[0m\u001b[1;34m'ohh cool now i can make any error'\u001b[0m\u001b[1;33m)\u001b[0m\u001b[1;33m\u001b[0m\u001b[1;33m\u001b[0m\u001b[0m\n\u001b[0m",
      "\u001b[1;31mPermissionError\u001b[0m: ohh cool now i can make any error"
     ]
    }
   ],
   "source": [
    "raise PermissionError('ohh cool now i can make any error')"
   ]
  },
  {
   "cell_type": "code",
   "execution_count": 64,
   "metadata": {},
   "outputs": [
    {
     "ename": "ValueError",
     "evalue": "",
     "output_type": "error",
     "traceback": [
      "\u001b[1;31m---------------------------------------------------------------------------\u001b[0m",
      "\u001b[1;31mValueError\u001b[0m                                Traceback (most recent call last)",
      "\u001b[1;32m<ipython-input-64-4954757c312d>\u001b[0m in \u001b[0;36m<module>\u001b[1;34m\u001b[0m\n\u001b[1;32m----> 1\u001b[1;33m \u001b[1;32mraise\u001b[0m \u001b[0mValueError\u001b[0m\u001b[1;33m(\u001b[0m\u001b[1;33m)\u001b[0m\u001b[1;33m\u001b[0m\u001b[1;33m\u001b[0m\u001b[0m\n\u001b[0m",
      "\u001b[1;31mValueError\u001b[0m: "
     ]
    }
   ],
   "source": [
    "raise ValueError()"
   ]
  },
  {
   "cell_type": "markdown",
   "metadata": {},
   "source": [
    "    Write a code in python to take integer input"
   ]
  },
  {
   "cell_type": "code",
   "execution_count": 66,
   "metadata": {},
   "outputs": [
    {
     "name": "stdout",
     "output_type": "stream",
     "text": [
      "Enter integer: lskfd\n",
      "!!Error!!I said only integer do you get it ? \n",
      "once more\n",
      "Enter integer: 123\n",
      "Good Job!!\n",
      "once more\n"
     ]
    }
   ],
   "source": [
    "while True:\n",
    "    try: \n",
    "        num = int(input(\"Enter integer: \"))\n",
    "    except ValueError:\n",
    "        print(\"!!Error!!I said only integer do you get it ? \")\n",
    "    else:\n",
    "        print(\"Good Job!!\")\n",
    "        break\n",
    "    finally:\n",
    "        print(\"once more\")"
   ]
  },
  {
   "cell_type": "markdown",
   "metadata": {},
   "source": [
    "write a code to take a `positive integer` input"
   ]
  },
  {
   "cell_type": "code",
   "execution_count": 67,
   "metadata": {},
   "outputs": [
    {
     "name": "stdout",
     "output_type": "stream",
     "text": [
      "Enter Positive Integer: -12\n",
      "!!Error!! I said only Positive Integer number\n",
      "Enter Positive Integer: 0\n",
      "!!Error!! I said only Positive Integer number\n",
      "Enter Positive Integer: -12\n",
      "!!Error!! I said only Positive Integer number\n",
      "Enter Positive Integer: -565\n",
      "!!Error!! I said only Positive Integer number\n",
      "Enter Positive Integer: 50\n",
      "Good Job\n"
     ]
    }
   ],
   "source": [
    "while True:\n",
    "    try: \n",
    "        num = int(input(\"Enter Positive Integer: \"))\n",
    "        if num <= 0:\n",
    "            raise ValueError('I said only Positive Integer number')\n",
    "    except ValueError as e:\n",
    "        print(f\"!!Error!! {e}\")\n",
    "    else:\n",
    "        print(\"Good Job\")\n",
    "        break"
   ]
  },
  {
   "cell_type": "markdown",
   "metadata": {},
   "source": [
    "`assert` statement is used to cause `AssertionError` based on `condition` also used in `testing`"
   ]
  },
  {
   "cell_type": "markdown",
   "metadata": {},
   "source": [
    "syntax:\n",
    "\n",
    "    assert cond, error messege\n",
    "    \n",
    "        raise AssertionError if cond is False"
   ]
  },
  {
   "cell_type": "code",
   "execution_count": 71,
   "metadata": {},
   "outputs": [
    {
     "ename": "AssertionError",
     "evalue": "1 is not greater than 2 you idiot",
     "output_type": "error",
     "traceback": [
      "\u001b[1;31m---------------------------------------------------------------------------\u001b[0m",
      "\u001b[1;31mAssertionError\u001b[0m                            Traceback (most recent call last)",
      "\u001b[1;32m<ipython-input-71-da400db7befa>\u001b[0m in \u001b[0;36m<module>\u001b[1;34m\u001b[0m\n\u001b[1;32m----> 1\u001b[1;33m \u001b[1;32massert\u001b[0m \u001b[1;36m1\u001b[0m \u001b[1;33m>\u001b[0m \u001b[1;36m2\u001b[0m\u001b[1;33m,\u001b[0m \u001b[1;34m'1 is not greater than 2 you idiot'\u001b[0m\u001b[1;33m\u001b[0m\u001b[1;33m\u001b[0m\u001b[0m\n\u001b[0m",
      "\u001b[1;31mAssertionError\u001b[0m: 1 is not greater than 2 you idiot"
     ]
    }
   ],
   "source": [
    "assert 1 > 2, '1 is not greater than 2 you idiot'"
   ]
  },
  {
   "cell_type": "code",
   "execution_count": 72,
   "metadata": {},
   "outputs": [],
   "source": [
    "assert 2 > 1, '1 is not greater than 2 you idiot'"
   ]
  },
  {
   "cell_type": "code",
   "execution_count": 75,
   "metadata": {},
   "outputs": [
    {
     "name": "stdout",
     "output_type": "stream",
     "text": [
      "Enter Positive Integer: -10\n",
      "!!Error!! I said only Positive Integer number\n",
      "Enter Positive Integer: 0\n",
      "!!Error!! I said only Positive Integer number\n",
      "Enter Positive Integer: 10\n",
      "Good Job\n"
     ]
    }
   ],
   "source": [
    "while True:\n",
    "    try: \n",
    "        num = int(input(\"Enter Positive Integer: \"))\n",
    "        assert num > 0, 'I said only Positive Integer number'\n",
    "    except AssertionError as e:\n",
    "        print(f\"!!Error!! {e}\")\n",
    "    else:\n",
    "        print(\"Good Job\")\n",
    "        break"
   ]
  },
  {
   "cell_type": "markdown",
   "metadata": {},
   "source": [
    "Custom Error Class"
   ]
  },
  {
   "cell_type": "code",
   "execution_count": 80,
   "metadata": {},
   "outputs": [],
   "source": [
    "class MyError(ValueError):\n",
    "    def __init__(self, error_msg):\n",
    "        super().__init__(error_msg)\n",
    "        self.do_this()\n",
    "        self.do_that()\n",
    "    def do_this(self):\n",
    "        print(\"\\n\\nHello I am do this an important precaustion should be done\\\n",
    "        to avoid any problem\\n\\n\")\n",
    "    def do_that(self):\n",
    "        print(\"\\n\\nhello I am do that I do some stuff whenever MyError Occurs\\n\\n\")"
   ]
  },
  {
   "cell_type": "code",
   "execution_count": 82,
   "metadata": {},
   "outputs": [
    {
     "name": "stdout",
     "output_type": "stream",
     "text": [
      "Enter Positive Integer: -10\n",
      "\n",
      "\n",
      "Hello I am do this an important precaustion should be done        to avoid any problem\n",
      "\n",
      "\n",
      "\n",
      "\n",
      "hello I am do that I do some stuff whenever MyError Occurs\n",
      "\n",
      "\n",
      "!!Error!! I said only Positive Integer number\n",
      "Enter Positive Integer: 10\n",
      "Good Job\n"
     ]
    }
   ],
   "source": [
    "while True:\n",
    "    try: \n",
    "        num = int(input(\"Enter Positive Integer: \"))\n",
    "        if num <= 0:\n",
    "            raise MyError('I said only Positive Integer number')\n",
    "    except MyError as e:\n",
    "        print(f\"!!Error!! {e}\")\n",
    "    except ValueError as e:\n",
    "        print(f\"!!Error!! {e}\")\n",
    "    else:\n",
    "        print(\"Good Job\")\n",
    "        break"
   ]
  },
  {
   "cell_type": "code",
   "execution_count": 90,
   "metadata": {},
   "outputs": [],
   "source": [
    "class MyError(ValueError):\n",
    "    def __init__(self, error_msg):\n",
    "        self.error_msg = error_msg\n",
    "        self.do_this()\n",
    "        self.do_that()\n",
    "    def do_this(self):\n",
    "        print(\"\\n\\nHello I am do this an important pre-caustion should be done\\\n",
    "        to avoid any problem\\n\\n\")\n",
    "    def do_that(self):\n",
    "        print(\"\\n\\nhello I am do that I do some stuff whenever MyError Occurs\\n\\n\")\n",
    "    def __str__(self):\n",
    "        return self.error_msg"
   ]
  },
  {
   "cell_type": "code",
   "execution_count": 91,
   "metadata": {},
   "outputs": [
    {
     "name": "stdout",
     "output_type": "stream",
     "text": [
      "\n",
      "\n",
      "Hello I am do this an important precaustion should be done        to avoid any problem\n",
      "\n",
      "\n",
      "\n",
      "\n",
      "hello I am do that I do some stuff whenever MyError Occurs\n",
      "\n",
      "\n",
      "this is the internal workflow\n"
     ]
    }
   ],
   "source": [
    "try:\n",
    "    raise MyError(\"this is the internal workflow\")\n",
    "except MyError as e:\n",
    "    print(e)"
   ]
  },
  {
   "cell_type": "code",
   "execution_count": 92,
   "metadata": {},
   "outputs": [
    {
     "name": "stdout",
     "output_type": "stream",
     "text": [
      "\n",
      "\n",
      "Hello I am do this an important precaustion should be done        to avoid any problem\n",
      "\n",
      "\n",
      "\n",
      "\n",
      "hello I am do that I do some stuff whenever MyError Occurs\n",
      "\n",
      "\n"
     ]
    },
    {
     "ename": "MyError",
     "evalue": "ha ha ha",
     "output_type": "error",
     "traceback": [
      "\u001b[1;31m---------------------------------------------------------------------------\u001b[0m",
      "\u001b[1;31mMyError\u001b[0m                                   Traceback (most recent call last)",
      "\u001b[1;32m<ipython-input-92-d868e0bbd4c3>\u001b[0m in \u001b[0;36m<module>\u001b[1;34m\u001b[0m\n\u001b[1;32m----> 1\u001b[1;33m \u001b[1;32mraise\u001b[0m \u001b[0mMyError\u001b[0m\u001b[1;33m(\u001b[0m\u001b[1;34m'ha ha ha'\u001b[0m\u001b[1;33m)\u001b[0m\u001b[1;33m\u001b[0m\u001b[1;33m\u001b[0m\u001b[0m\n\u001b[0m",
      "\u001b[1;31mMyError\u001b[0m: ha ha ha"
     ]
    }
   ],
   "source": [
    "raise MyError('ha ha ha')"
   ]
  },
  {
   "cell_type": "markdown",
   "metadata": {},
   "source": [
    "    Let me remind if some topics of python has remained"
   ]
  },
  {
   "cell_type": "markdown",
   "metadata": {},
   "source": [
    "### Advance Python"
   ]
  },
  {
   "cell_type": "markdown",
   "metadata": {},
   "source": [
    "    tkinter application development "
   ]
  },
  {
   "cell_type": "markdown",
   "metadata": {},
   "source": [
    "    Atom Editior"
   ]
  },
  {
   "cell_type": "code",
   "execution_count": null,
   "metadata": {},
   "outputs": [],
   "source": []
  }
 ],
 "metadata": {
  "kernelspec": {
   "display_name": "Python 3",
   "language": "python",
   "name": "python3"
  },
  "language_info": {
   "codemirror_mode": {
    "name": "ipython",
    "version": 3
   },
   "file_extension": ".py",
   "mimetype": "text/x-python",
   "name": "python",
   "nbconvert_exporter": "python",
   "pygments_lexer": "ipython3",
   "version": "3.7.4"
  }
 },
 "nbformat": 4,
 "nbformat_minor": 2
}
