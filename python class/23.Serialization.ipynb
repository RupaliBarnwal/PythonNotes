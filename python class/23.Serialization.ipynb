{
 "cells": [
  {
   "cell_type": "markdown",
   "metadata": {},
   "source": [
    "## Operations "
   ]
  },
  {
   "cell_type": "code",
   "execution_count": 1,
   "metadata": {},
   "outputs": [
    {
     "name": "stdout",
     "output_type": "stream",
     "text": [
      "Writing hello.txt\n"
     ]
    }
   ],
   "source": [
    "%%writefile hello.txt\n",
    "\n",
    "hello world"
   ]
  },
  {
   "cell_type": "code",
   "execution_count": 2,
   "metadata": {},
   "outputs": [],
   "source": [
    "fp = open('hello.txt', 'r+')"
   ]
  },
  {
   "cell_type": "code",
   "execution_count": 4,
   "metadata": {},
   "outputs": [
    {
     "name": "stdout",
     "output_type": "stream",
     "text": [
      "\n",
      "hello world\n",
      "\n"
     ]
    }
   ],
   "source": [
    "print(fp.read())"
   ]
  },
  {
   "cell_type": "code",
   "execution_count": 5,
   "metadata": {},
   "outputs": [
    {
     "name": "stdout",
     "output_type": "stream",
     "text": [
      "15\n"
     ]
    }
   ],
   "source": [
    "print(fp.tell())"
   ]
  },
  {
   "cell_type": "code",
   "execution_count": 6,
   "metadata": {},
   "outputs": [
    {
     "data": {
      "text/plain": [
       "10"
      ]
     },
     "execution_count": 6,
     "metadata": {},
     "output_type": "execute_result"
    }
   ],
   "source": [
    "fp.write('\\nBye World')"
   ]
  },
  {
   "cell_type": "code",
   "execution_count": 7,
   "metadata": {},
   "outputs": [],
   "source": [
    "fp.close()"
   ]
  },
  {
   "cell_type": "code",
   "execution_count": 8,
   "metadata": {},
   "outputs": [
    {
     "name": "stdout",
     "output_type": "stream",
     "text": [
      "\n",
      "hello world\n",
      "\n",
      "Bye World\n"
     ]
    }
   ],
   "source": [
    "!type hello.txt"
   ]
  },
  {
   "cell_type": "code",
   "execution_count": 10,
   "metadata": {},
   "outputs": [
    {
     "name": "stdout",
     "output_type": "stream",
     "text": [
      "Name,Math,Phy,Chem\n",
      "Sachin,100,95,85\n",
      "Rajat,90,78,95\n",
      "Nidhi,90,90,90\n",
      "Simran,90,95,80\n",
      "Vansu,67,76,89\n",
      "Neha,98,87,79\n"
     ]
    }
   ],
   "source": [
    "!type student.txt"
   ]
  },
  {
   "cell_type": "code",
   "execution_count": 11,
   "metadata": {},
   "outputs": [],
   "source": [
    "file  = open('student.txt', encoding='utf-8')"
   ]
  },
  {
   "cell_type": "code",
   "execution_count": 12,
   "metadata": {},
   "outputs": [],
   "source": [
    "content = file.read()"
   ]
  },
  {
   "cell_type": "code",
   "execution_count": 13,
   "metadata": {},
   "outputs": [],
   "source": [
    "file.close()"
   ]
  },
  {
   "cell_type": "code",
   "execution_count": 14,
   "metadata": {},
   "outputs": [
    {
     "name": "stdout",
     "output_type": "stream",
     "text": [
      "'Name,Math,Phy,Chem\\nSachin,100,95,85\\nRajat,90,78,95\\nNidhi,90,90,90\\nSimran,90,95,80\\nVansu,67,76,89\\nNeha,98,87,79\\n'\n"
     ]
    }
   ],
   "source": [
    "print(repr(content))"
   ]
  },
  {
   "cell_type": "markdown",
   "metadata": {},
   "source": [
    "**find percentage of each student**"
   ]
  },
  {
   "cell_type": "code",
   "execution_count": 19,
   "metadata": {},
   "outputs": [
    {
     "name": "stdout",
     "output_type": "stream",
     "text": [
      "here is your header:  Name,Math,Phy,Chem\n",
      "\n",
      "____________________________________________________________\n",
      "Sachin,100,95,85\n",
      "Rajat,90,78,95\n",
      "Nidhi,90,90,90\n",
      "Simran,90,95,80\n",
      "Vansu,67,76,89\n",
      "Neha,98,87,79\n"
     ]
    }
   ],
   "source": [
    "file = open('student.txt', encoding='utf-8')\n",
    "header = file.readline()\n",
    "print(\"here is your header: \", header)\n",
    "print(\"__\"*30)\n",
    "for line in file:\n",
    "    print(line, end='')\n",
    "file.close()\n",
    "# (100+95+85)/3 * 100"
   ]
  },
  {
   "cell_type": "code",
   "execution_count": 38,
   "metadata": {},
   "outputs": [
    {
     "name": "stdout",
     "output_type": "stream",
     "text": [
      "name:  sachin\n",
      "marks:  [100, 95, 85]\n",
      "total marks:  280\n",
      "percentage: 93.33\n",
      "sachin,93.33\n",
      "\n"
     ]
    }
   ],
   "source": [
    "d = 'sachin,100,95,85\\n'.strip().split(',')\n",
    "name = d[0]\n",
    "print(\"name: \", name)\n",
    "marks = list(map(int, d[1:]))\n",
    "print(\"marks: \", marks)\n",
    "print(\"total marks: \", sum(marks))\n",
    "print(f\"percentage: {sum(marks)/3:.2f}\")\n",
    "s = f\"{name},{sum(marks)/3:.2f}\\n\"\n",
    "print(s)\n",
    "#\"sachin,93.33\""
   ]
  },
  {
   "cell_type": "code",
   "execution_count": 39,
   "metadata": {},
   "outputs": [],
   "source": [
    "import os"
   ]
  },
  {
   "cell_type": "code",
   "execution_count": 66,
   "metadata": {},
   "outputs": [],
   "source": [
    "def student_marks(infile, outfile='student_marks.csv', sep=',',  encoding='utf-8', header=True):  # csv\n",
    "    \"\"\"\n",
    "        process a student file structured as \n",
    "            name,sub1,sub2,......\n",
    "            sachin,56,56,........\n",
    "        write result in outfile\n",
    "    \"\"\"\n",
    "    if os.path.exists(infile) and os.path.isfile(infile) and os.access(infile, os.R_OK):\n",
    "        with open(infile, encoding=encoding) as fp:\n",
    "            num_subs = False\n",
    "            if header:\n",
    "                header = fp.readline() # schema\n",
    "                num_subs = len(header.split(sep)) - 1\n",
    "            nfp = open(outfile, 'w')\n",
    "            nfp.write(\"Name,Percentage\\n\")\n",
    "            # 'name,sub1,sub2,...'  # \"\\n\".strip() , \"\" --> False\n",
    "            for line in fp:\n",
    "                line = line.strip() # to remove blank lines\n",
    "                if line:\n",
    "                    data = line.split(sep)\n",
    "                    if not num_subs:\n",
    "                        num_subs = len(data)-1\n",
    "                    name, per = data[0], sum(map(int, data[1:])) / num_subs\n",
    "                    result = f\"{name},{per:.2f}\"\n",
    "                    #print(result, file=nfp) # sys.stdout\n",
    "                    nfp.write(result+\"\\n\")\n",
    "                    # 'sachin,30,40,50,45,67'\n",
    "                    # [ 'sachin', '30', '40', '50', '45', '67']\n",
    "                    #name, per \n",
    "            fp.close()\n",
    "            nfp.close()\n",
    "    else:\n",
    "        print(\"Invalid Path or Permission Issue\")"
   ]
  },
  {
   "cell_type": "code",
   "execution_count": 67,
   "metadata": {},
   "outputs": [],
   "source": [
    "student_marks('student.txt')"
   ]
  },
  {
   "cell_type": "code",
   "execution_count": 68,
   "metadata": {},
   "outputs": [
    {
     "name": "stdout",
     "output_type": "stream",
     "text": [
      "Name,Percentage\n",
      "Sachin,93.33\n",
      "Rajat,87.67\n",
      "Nidhi,90.00\n",
      "Simran,88.33\n",
      "Vansu,77.33\n",
      "Neha,88.00\n"
     ]
    }
   ],
   "source": [
    "!type student_marks.csv"
   ]
  },
  {
   "cell_type": "code",
   "execution_count": 69,
   "metadata": {},
   "outputs": [
    {
     "name": "stdout",
     "output_type": "stream",
     "text": [
      "Overwriting new.pipe\n"
     ]
    }
   ],
   "source": [
    "%%writefile new.pipe\n",
    "x|56|45|67|88\n",
    "y|56|78|66|54\n",
    "\n",
    "\n",
    "z|67|78|78|66"
   ]
  },
  {
   "cell_type": "code",
   "execution_count": 70,
   "metadata": {},
   "outputs": [
    {
     "name": "stdout",
     "output_type": "stream",
     "text": [
      "x|56|45|67|88\n",
      "y|56|78|66|54\n",
      "\n",
      "\n",
      "z|67|78|78|66\n"
     ]
    }
   ],
   "source": [
    "!cat new.pipe"
   ]
  },
  {
   "cell_type": "code",
   "execution_count": 71,
   "metadata": {},
   "outputs": [],
   "source": [
    "student_marks('new.pipe', 'new_result.pipe', sep='|', header=False)"
   ]
  },
  {
   "cell_type": "code",
   "execution_count": 72,
   "metadata": {},
   "outputs": [
    {
     "name": "stdout",
     "output_type": "stream",
     "text": [
      "Name,Percentage\n",
      "x,64.00\n",
      "y,63.50\n",
      "z,72.25\n"
     ]
    }
   ],
   "source": [
    "!cat new_result.pipe"
   ]
  },
  {
   "cell_type": "raw",
   "metadata": {},
   "source": [
    "sub1, sub2, sub3\n",
    "70, 30, 40\n",
    "\n",
    "sub1,70\n",
    "sub2,30\n",
    "sub,40"
   ]
  },
  {
   "cell_type": "markdown",
   "metadata": {},
   "source": [
    "**Pandas**"
   ]
  },
  {
   "cell_type": "markdown",
   "metadata": {},
   "source": [
    "### Serialization & Deserialization"
   ]
  },
  {
   "cell_type": "markdown",
   "metadata": {},
   "source": [
    "    file -> open -> read (strings) -> close\n",
    "    \n",
    "    file -> open -> write (strings) -> close\n",
    "    \n"
   ]
  },
  {
   "cell_type": "markdown",
   "metadata": {},
   "source": [
    "#### Serialization \n",
    "    \n",
    "        it is a process of converting any valid object into bytes stream\n",
    "        \n",
    "#### De-Serialization\n",
    "\n",
    "        it is a process of converting any byte sequence or stream into a valid object "
   ]
  },
  {
   "cell_type": "markdown",
   "metadata": {},
   "source": [
    "    Parsing -> strings --> data types"
   ]
  },
  {
   "cell_type": "markdown",
   "metadata": {},
   "source": [
    "### Data Transfer Language\n",
    "\n",
    "python --> object <JSON> string --> java --> <JSON> --> Java object   \n",
    "\n",
    "##### Serialization & Deserialization tools , languages, libraries \n",
    "\n",
    "\n",
    "    JSON\n",
    "    \n",
    "    PICKLE\n",
    "    \n",
    "    YML\n",
    "    \n",
    "    XML\n",
    "    \n",
    "    "
   ]
  },
  {
   "cell_type": "markdown",
   "metadata": {},
   "source": [
    "#### Serialization\n",
    "\n",
    "    dumps(object) --> byte stream (object)\n",
    "    \n",
    "    dump(object, fp) --> will write your object into file fp\n",
    "\n",
    "#### Deserialization\n",
    "\n",
    "    loads(byte_stream) --> Object\n",
    "    \n",
    "    \n",
    "    load(fp) -> object "
   ]
  },
  {
   "cell_type": "markdown",
   "metadata": {},
   "source": [
    "### JSON  (Uni-versal)\n",
    "\n",
    "##### Java script Object Notation Language\n",
    "\n",
    "\n",
    "     json type       python type\n",
    "\n",
    "    Integers          int\n",
    "    \n",
    "    Double            float\n",
    "    \n",
    "    String            String\n",
    "    \n",
    "    Array             list\n",
    "    \n",
    "    Object            dict "
   ]
  },
  {
   "cell_type": "markdown",
   "metadata": {},
   "source": [
    "**Serlization**"
   ]
  },
  {
   "cell_type": "code",
   "execution_count": 73,
   "metadata": {},
   "outputs": [],
   "source": [
    "d = { \n",
    "    'int': 5,\n",
    "    'float': 5.06,\n",
    "    \n",
    "    'string': \"i am string everywhere\",\n",
    "    \n",
    "    'list': [1, 2, 3, '5', 4, 5],\n",
    "    \n",
    "}"
   ]
  },
  {
   "cell_type": "code",
   "execution_count": 74,
   "metadata": {},
   "outputs": [
    {
     "name": "stdout",
     "output_type": "stream",
     "text": [
      "<class 'dict'>\n"
     ]
    }
   ],
   "source": [
    "print(type(d))"
   ]
  },
  {
   "cell_type": "code",
   "execution_count": 75,
   "metadata": {},
   "outputs": [
    {
     "name": "stdout",
     "output_type": "stream",
     "text": [
      "{'int': 5, 'float': 5.06, 'string': 'i am string everywhere', 'list': [1, 2, 3, '5', 4, 5]}\n"
     ]
    }
   ],
   "source": [
    "print(d)"
   ]
  },
  {
   "cell_type": "code",
   "execution_count": 76,
   "metadata": {},
   "outputs": [],
   "source": [
    "import json"
   ]
  },
  {
   "cell_type": "code",
   "execution_count": 78,
   "metadata": {},
   "outputs": [],
   "source": [
    "s = json.dumps( d )\n"
   ]
  },
  {
   "cell_type": "code",
   "execution_count": 79,
   "metadata": {},
   "outputs": [
    {
     "name": "stdout",
     "output_type": "stream",
     "text": [
      "<class 'str'>\n"
     ]
    }
   ],
   "source": [
    "print(type(s))"
   ]
  },
  {
   "cell_type": "code",
   "execution_count": 80,
   "metadata": {},
   "outputs": [
    {
     "name": "stdout",
     "output_type": "stream",
     "text": [
      "'{\"int\": 5, \"float\": 5.06, \"string\": \"i am string everywhere\", \"list\": [1, 2, 3, \"5\", 4, 5]}'\n"
     ]
    }
   ],
   "source": [
    "print(repr(s))"
   ]
  },
  {
   "cell_type": "code",
   "execution_count": 87,
   "metadata": {},
   "outputs": [],
   "source": [
    "bank = {\n",
    "    \n",
    "    'AC1001': { 'name': 'sachin', 'balance': 55000, 'password': 'redhat'},\n",
    "    'AC1002': { 'name': 'rajat', 'balance': 75000, 'password': 'Asimov'}\n",
    "}"
   ]
  },
  {
   "cell_type": "code",
   "execution_count": 88,
   "metadata": {},
   "outputs": [],
   "source": [
    "file = open('bank.json', 'w')"
   ]
  },
  {
   "cell_type": "code",
   "execution_count": 89,
   "metadata": {},
   "outputs": [],
   "source": [
    "json.dump(bank, file)\n"
   ]
  },
  {
   "cell_type": "code",
   "execution_count": 90,
   "metadata": {},
   "outputs": [],
   "source": [
    "file.close()"
   ]
  },
  {
   "cell_type": "code",
   "execution_count": 91,
   "metadata": {},
   "outputs": [
    {
     "name": "stdout",
     "output_type": "stream",
     "text": [
      "{\"AC1001\": {\"name\": \"sachin\", \"balance\": 55000, \"password\": \"redhat\"}, \"AC1002\": {\"name\": \"rajat\", \"balance\": 75000, \"password\": \"Asimov\"}}\n"
     ]
    }
   ],
   "source": [
    "!type bank.json"
   ]
  },
  {
   "cell_type": "code",
   "execution_count": 92,
   "metadata": {},
   "outputs": [],
   "source": [
    "del bank"
   ]
  },
  {
   "cell_type": "code",
   "execution_count": 93,
   "metadata": {},
   "outputs": [
    {
     "ename": "NameError",
     "evalue": "name 'bank' is not defined",
     "output_type": "error",
     "traceback": [
      "\u001b[1;31m---------------------------------------------------------------------------\u001b[0m",
      "\u001b[1;31mNameError\u001b[0m                                 Traceback (most recent call last)",
      "\u001b[1;32m<ipython-input-93-b05771d72899>\u001b[0m in \u001b[0;36m<module>\u001b[1;34m\u001b[0m\n\u001b[1;32m----> 1\u001b[1;33m \u001b[0mbank\u001b[0m\u001b[1;33m\u001b[0m\u001b[1;33m\u001b[0m\u001b[0m\n\u001b[0m",
      "\u001b[1;31mNameError\u001b[0m: name 'bank' is not defined"
     ]
    }
   ],
   "source": [
    "bank"
   ]
  },
  {
   "cell_type": "code",
   "execution_count": 94,
   "metadata": {},
   "outputs": [],
   "source": [
    "file = open('bank.json')\n",
    "data = file.read()\n"
   ]
  },
  {
   "cell_type": "code",
   "execution_count": 95,
   "metadata": {},
   "outputs": [
    {
     "name": "stdout",
     "output_type": "stream",
     "text": [
      "<class 'str'>\n"
     ]
    }
   ],
   "source": [
    "print(type(data))"
   ]
  },
  {
   "cell_type": "code",
   "execution_count": 96,
   "metadata": {},
   "outputs": [
    {
     "name": "stdout",
     "output_type": "stream",
     "text": [
      "{\"AC1001\": {\"name\": \"sachin\", \"balance\": 55000, \"password\": \"redhat\"}, \"AC1002\": {\"name\": \"rajat\", \"balance\": 75000, \"password\": \"Asimov\"}}\n"
     ]
    }
   ],
   "source": [
    "print(data)"
   ]
  },
  {
   "cell_type": "markdown",
   "metadata": {},
   "source": [
    "#### Deserialization"
   ]
  },
  {
   "cell_type": "code",
   "execution_count": 97,
   "metadata": {},
   "outputs": [],
   "source": [
    "s = '{\"name\": \"sachin\", \"age\": 24, \"country\": \"India\"}'"
   ]
  },
  {
   "cell_type": "code",
   "execution_count": 98,
   "metadata": {},
   "outputs": [
    {
     "name": "stdout",
     "output_type": "stream",
     "text": [
      "<class 'str'>\n"
     ]
    }
   ],
   "source": [
    "print(type(s))"
   ]
  },
  {
   "cell_type": "code",
   "execution_count": 99,
   "metadata": {},
   "outputs": [],
   "source": [
    "d = json.loads(s)"
   ]
  },
  {
   "cell_type": "code",
   "execution_count": 100,
   "metadata": {},
   "outputs": [
    {
     "name": "stdout",
     "output_type": "stream",
     "text": [
      "<class 'dict'>\n"
     ]
    }
   ],
   "source": [
    "print(type(d))"
   ]
  },
  {
   "cell_type": "code",
   "execution_count": 101,
   "metadata": {},
   "outputs": [
    {
     "name": "stdout",
     "output_type": "stream",
     "text": [
      "{'name': 'sachin', 'age': 24, 'country': 'India'}\n"
     ]
    }
   ],
   "source": [
    "print(d)"
   ]
  },
  {
   "cell_type": "code",
   "execution_count": 102,
   "metadata": {},
   "outputs": [],
   "source": [
    "file = open(\"bank.json\")\n",
    "bank = json.load(file)\n",
    "file.close()"
   ]
  },
  {
   "cell_type": "code",
   "execution_count": 103,
   "metadata": {},
   "outputs": [
    {
     "name": "stdout",
     "output_type": "stream",
     "text": [
      "<class 'dict'>\n"
     ]
    }
   ],
   "source": [
    "print(type(bank))"
   ]
  },
  {
   "cell_type": "code",
   "execution_count": 104,
   "metadata": {},
   "outputs": [
    {
     "data": {
      "text/plain": [
       "{'AC1001': {'name': 'sachin', 'balance': 55000, 'password': 'redhat'},\n",
       " 'AC1002': {'name': 'rajat', 'balance': 75000, 'password': 'Asimov'}}"
      ]
     },
     "execution_count": 104,
     "metadata": {},
     "output_type": "execute_result"
    }
   ],
   "source": [
    "bank"
   ]
  },
  {
   "cell_type": "markdown",
   "metadata": {},
   "source": [
    "##### Pickle is default serializer of python"
   ]
  },
  {
   "cell_type": "code",
   "execution_count": 105,
   "metadata": {},
   "outputs": [],
   "source": [
    "d = { 1, 'special', 'property', 'of', 'python', 2, 3, 'most', 'language', 'does', 'not', 'have', 'set'}\n",
    "# thus json does not support serialization of set type object of python"
   ]
  },
  {
   "cell_type": "code",
   "execution_count": null,
   "metadata": {},
   "outputs": [],
   "source": [
    "json.dumps(d)\n",
    "# NOT JSON SERIALIZALBLE"
   ]
  },
  {
   "cell_type": "code",
   "execution_count": 107,
   "metadata": {},
   "outputs": [],
   "source": [
    "import pickle"
   ]
  },
  {
   "cell_type": "code",
   "execution_count": null,
   "metadata": {},
   "outputs": [],
   "source": [
    "json.dumps(map(int, ['10', '20', '30']))\n",
    "# not effiecient with python special type"
   ]
  },
  {
   "cell_type": "code",
   "execution_count": 109,
   "metadata": {},
   "outputs": [
    {
     "data": {
      "text/plain": [
       "b'\\x80\\x03cbuiltins\\nset\\nq\\x00]q\\x01(X\\x08\\x00\\x00\\x00propertyq\\x02K\\x01X\\x06\\x00\\x00\\x00pythonq\\x03K\\x02K\\x03X\\x04\\x00\\x00\\x00mostq\\x04X\\x04\\x00\\x00\\x00haveq\\x05X\\x08\\x00\\x00\\x00languageq\\x06X\\x02\\x00\\x00\\x00ofq\\x07X\\x03\\x00\\x00\\x00notq\\x08X\\x03\\x00\\x00\\x00setq\\tX\\x07\\x00\\x00\\x00specialq\\nX\\x04\\x00\\x00\\x00doesq\\x0be\\x85q\\x0cRq\\r.'"
      ]
     },
     "execution_count": 109,
     "metadata": {},
     "output_type": "execute_result"
    }
   ],
   "source": [
    "pickle.dumps(d)\n",
    "# pickle returns bytes"
   ]
  },
  {
   "cell_type": "code",
   "execution_count": 111,
   "metadata": {},
   "outputs": [
    {
     "data": {
      "text/plain": [
       "b'\\x80\\x03cbuiltins\\nmap\\nq\\x00cbuiltins\\nint\\nq\\x01cbuiltins\\niter\\nq\\x02]q\\x03(X\\x02\\x00\\x00\\x0010q\\x04X\\x02\\x00\\x00\\x0020q\\x05X\\x02\\x00\\x00\\x0030q\\x06e\\x85q\\x07Rq\\x08K\\x00b\\x86q\\tRq\\n.'"
      ]
     },
     "execution_count": 111,
     "metadata": {},
     "output_type": "execute_result"
    }
   ],
   "source": [
    "pickle.dumps(map(int, ['10', '20', '30']))"
   ]
  },
  {
   "cell_type": "code",
   "execution_count": 112,
   "metadata": {},
   "outputs": [
    {
     "data": {
      "text/plain": [
       "{'AC1001': {'name': 'sachin', 'balance': 55000, 'password': 'redhat'},\n",
       " 'AC1002': {'name': 'rajat', 'balance': 75000, 'password': 'Asimov'}}"
      ]
     },
     "execution_count": 112,
     "metadata": {},
     "output_type": "execute_result"
    }
   ],
   "source": [
    "bank"
   ]
  },
  {
   "cell_type": "code",
   "execution_count": 113,
   "metadata": {},
   "outputs": [
    {
     "data": {
      "text/plain": [
       "dict"
      ]
     },
     "execution_count": 113,
     "metadata": {},
     "output_type": "execute_result"
    }
   ],
   "source": [
    "type(bank)"
   ]
  },
  {
   "cell_type": "code",
   "execution_count": 114,
   "metadata": {},
   "outputs": [],
   "source": [
    "file = open('bank.pkl', 'wb')"
   ]
  },
  {
   "cell_type": "code",
   "execution_count": 115,
   "metadata": {},
   "outputs": [],
   "source": [
    "pickle.dump(bank, file)"
   ]
  },
  {
   "cell_type": "code",
   "execution_count": 116,
   "metadata": {},
   "outputs": [],
   "source": [
    "file.close()"
   ]
  },
  {
   "cell_type": "code",
   "execution_count": 117,
   "metadata": {},
   "outputs": [
    {
     "name": "stdout",
     "output_type": "stream",
     "text": [
      "€\u0003}q\u0000(X\u0006\u0000\u0000\u0000AC1001q\u0001}q\u0002(X\u0004\u0000\u0000\u0000nameq\u0003X\u0006\u0000\u0000\u0000sachinq\u0004X\u0007\u0000\u0000\u0000balanceq\u0005MØÖX\b\u0000\u0000\u0000passwordq\u0006X\u0006\u0000\u0000\u0000redhatq\u0007uX\u0006\u0000\u0000\u0000AC1002q\b}q\t(h\u0003X\u0005\u0000\u0000\u0000rajatq\n",
      "h\u0005Jø$\u0001\u0000h\u0006X\u0006\u0000\u0000\u0000Asimovq\u000b",
      "uu.\n"
     ]
    }
   ],
   "source": [
    "!type bank.pkl"
   ]
  },
  {
   "cell_type": "code",
   "execution_count": 118,
   "metadata": {},
   "outputs": [
    {
     "name": "stdout",
     "output_type": "stream",
     "text": [
      "{\"AC1001\": {\"name\": \"sachin\", \"balance\": 55000, \"password\": \"redhat\"}, \"AC1002\": {\"name\": \"rajat\", \"balance\": 75000, \"password\": \"Asimov\"}}\n"
     ]
    }
   ],
   "source": [
    "!type bank.json"
   ]
  },
  {
   "cell_type": "code",
   "execution_count": 119,
   "metadata": {},
   "outputs": [],
   "source": [
    "del bank"
   ]
  },
  {
   "cell_type": "code",
   "execution_count": 120,
   "metadata": {},
   "outputs": [
    {
     "ename": "NameError",
     "evalue": "name 'bank' is not defined",
     "output_type": "error",
     "traceback": [
      "\u001b[1;31m---------------------------------------------------------------------------\u001b[0m",
      "\u001b[1;31mNameError\u001b[0m                                 Traceback (most recent call last)",
      "\u001b[1;32m<ipython-input-120-b05771d72899>\u001b[0m in \u001b[0;36m<module>\u001b[1;34m\u001b[0m\n\u001b[1;32m----> 1\u001b[1;33m \u001b[0mbank\u001b[0m\u001b[1;33m\u001b[0m\u001b[1;33m\u001b[0m\u001b[0m\n\u001b[0m",
      "\u001b[1;31mNameError\u001b[0m: name 'bank' is not defined"
     ]
    }
   ],
   "source": [
    "bank"
   ]
  },
  {
   "cell_type": "code",
   "execution_count": 121,
   "metadata": {},
   "outputs": [],
   "source": [
    "file = open('bank.pkl', 'rb')\n",
    "bank = pickle.load(file)\n",
    "file.close()"
   ]
  },
  {
   "cell_type": "code",
   "execution_count": 122,
   "metadata": {},
   "outputs": [
    {
     "name": "stdout",
     "output_type": "stream",
     "text": [
      "<class 'dict'>\n"
     ]
    }
   ],
   "source": [
    "print(type(bank))"
   ]
  },
  {
   "cell_type": "code",
   "execution_count": 123,
   "metadata": {},
   "outputs": [
    {
     "data": {
      "text/plain": [
       "{'AC1001': {'name': 'sachin', 'balance': 55000, 'password': 'redhat'},\n",
       " 'AC1002': {'name': 'rajat', 'balance': 75000, 'password': 'Asimov'}}"
      ]
     },
     "execution_count": 123,
     "metadata": {},
     "output_type": "execute_result"
    }
   ],
   "source": [
    "bank"
   ]
  },
  {
   "cell_type": "code",
   "execution_count": 126,
   "metadata": {},
   "outputs": [],
   "source": [
    "def login(acc, password, db='bank.pkl'):\n",
    "    flag = False\n",
    "    file = open(db, 'rb')\n",
    "    data = pickle.load(file)\n",
    "    #print(data, type(data))\n",
    "    file.close()\n",
    "    if acc in data:\n",
    "        if password == data[acc]['password']:\n",
    "            print(f\"Welcome back user: {data[acc]['name']}\")\n",
    "            flag = True\n",
    "        else:\n",
    "            print(\"!!Error!!! Invalid Password\")\n",
    "    else:\n",
    "        print(\"!!Error!!!No such account Exists\")\n",
    "    return flag"
   ]
  },
  {
   "cell_type": "code",
   "execution_count": 127,
   "metadata": {},
   "outputs": [
    {
     "name": "stdout",
     "output_type": "stream",
     "text": [
      "!!Error!!!No such account Exists\n"
     ]
    },
    {
     "data": {
      "text/plain": [
       "False"
      ]
     },
     "execution_count": 127,
     "metadata": {},
     "output_type": "execute_result"
    }
   ],
   "source": [
    "login('sachin', 'aldkfj')"
   ]
  },
  {
   "cell_type": "code",
   "execution_count": 129,
   "metadata": {},
   "outputs": [
    {
     "name": "stdout",
     "output_type": "stream",
     "text": [
      "!!Error!!! Invalid Password\n"
     ]
    },
    {
     "data": {
      "text/plain": [
       "False"
      ]
     },
     "execution_count": 129,
     "metadata": {},
     "output_type": "execute_result"
    }
   ],
   "source": [
    "login('AC1002', 'adf')"
   ]
  },
  {
   "cell_type": "code",
   "execution_count": 130,
   "metadata": {},
   "outputs": [
    {
     "name": "stdout",
     "output_type": "stream",
     "text": [
      "Welcome back user: rajat\n"
     ]
    },
    {
     "data": {
      "text/plain": [
       "True"
      ]
     },
     "execution_count": 130,
     "metadata": {},
     "output_type": "execute_result"
    }
   ],
   "source": [
    "login('AC1002', 'Asimov')"
   ]
  },
  {
   "cell_type": "code",
   "execution_count": 131,
   "metadata": {},
   "outputs": [
    {
     "name": "stdout",
     "output_type": "stream",
     "text": [
      "Welcome back user: sachin\n"
     ]
    },
    {
     "data": {
      "text/plain": [
       "True"
      ]
     },
     "execution_count": 131,
     "metadata": {},
     "output_type": "execute_result"
    }
   ],
   "source": [
    "login('AC1001', 'redhat')"
   ]
  },
  {
   "cell_type": "markdown",
   "metadata": {},
   "source": [
    "##### OOPS"
   ]
  },
  {
   "cell_type": "code",
   "execution_count": null,
   "metadata": {},
   "outputs": [],
   "source": []
  }
 ],
 "metadata": {
  "kernelspec": {
   "display_name": "Python 3",
   "language": "python",
   "name": "python3"
  },
  "language_info": {
   "codemirror_mode": {
    "name": "ipython",
    "version": 3
   },
   "file_extension": ".py",
   "mimetype": "text/x-python",
   "name": "python",
   "nbconvert_exporter": "python",
   "pygments_lexer": "ipython3",
   "version": "3.7.4"
  }
 },
 "nbformat": 4,
 "nbformat_minor": 2
}
