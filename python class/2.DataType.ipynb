{
 "cells": [
  {
   "cell_type": "markdown",
   "metadata": {},
   "source": [
    "### something about jupyter notebook "
   ]
  },
  {
   "cell_type": "markdown",
   "metadata": {},
   "source": [
    "# Heading 1\n",
    "\n",
    "## Heading 2\n",
    "\n",
    "### Sub heading 3\n",
    "\n",
    "#### heading 4\n",
    "\n",
    "##### heading 5\n",
    "\n",
    "###### heading 6\n",
    "\n",
    "######## it's a normal paragraph"
   ]
  },
  {
   "cell_type": "markdown",
   "metadata": {},
   "source": [
    "### About Markdown \n",
    "\n",
    "# Topic Heading\n",
    "\n",
    "a pragraph explaning the topic in detail like first topic of python is **Data Type** so we can put some document in markdown shell\n",
    "\n",
    "* one\n",
    "    * item - 1\n",
    "    * item - 2\n",
    "* two \n",
    "    * item -2 \n",
    "    * item - 3\n",
    "    \n",
    "##### new items\n",
    "\n",
    "1.  item 1\n",
    "2.  item 2"
   ]
  },
  {
   "cell_type": "code",
   "execution_count": null,
   "metadata": {},
   "outputs": [],
   "source": []
  },
  {
   "cell_type": "markdown",
   "metadata": {},
   "source": [
    "Shortcuts of Jupyter \n",
    "\n",
    "    shift + Enter --> To Run A Selected Shell and also open a blank new shell below\n",
    "    \n",
    "    ctrl + Enter --> To Run A Selected Shell\n",
    "    \n",
    "    ctrl + s --> to save current progreess of your notebook\n",
    "    \n",
    "    First Press ESC key to Apply Shortcuts (Command Mode)\n",
    "    \n",
    "    Enter --> used to switch from command mode to insert mode to write text\n",
    "    \n",
    "    ESC  --> used to switch from insert mode to command mode to execute commands\n",
    "    \n",
    "    up arrow to select abobe shell\n",
    "    down arrow key to select below\n",
    "    \n",
    "    a --> insert a shell above current \n",
    "    \n",
    "    b --> insert a shell below\n",
    "    \n",
    "    x --> to cut a shell\n",
    "    \n",
    "    v --> to paste a shell\n",
    "    \n",
    "    c --> to copy\n",
    "    \n",
    "    dd --> to delete selected shell\n",
    "    \n",
    "    z --> to undo last change\n",
    "    \n",
    "    ii --> to interrupt a process\n",
    "    \n",
    "    00 --> to restart a notebook\n",
    "    \n",
    "    m --> to change current shell into markdown shell\n",
    "    \n",
    "    y --> to change current shell into code shell\n",
    "    \n",
    "    r --> to change current shell into raw shell\n",
    "    "
   ]
  },
  {
   "cell_type": "code",
   "execution_count": null,
   "metadata": {},
   "outputs": [],
   "source": [
    "name = input()\n",
    "print(name)\n"
   ]
  },
  {
   "cell_type": "code",
   "execution_count": null,
   "metadata": {},
   "outputs": [],
   "source": []
  },
  {
   "cell_type": "code",
   "execution_count": 16,
   "metadata": {},
   "outputs": [
    {
     "ename": "KeyboardInterrupt",
     "evalue": "",
     "output_type": "error",
     "traceback": [
      "\u001b[1;31m---------------------------------------------------------------------------\u001b[0m",
      "\u001b[1;31mKeyboardInterrupt\u001b[0m                         Traceback (most recent call last)",
      "\u001b[1;32m<ipython-input-16-b7133701d76c>\u001b[0m in \u001b[0;36m<module>\u001b[1;34m\u001b[0m\n\u001b[0;32m      1\u001b[0m \u001b[1;32mwhile\u001b[0m \u001b[1;32mTrue\u001b[0m\u001b[1;33m:\u001b[0m\u001b[1;33m\u001b[0m\u001b[1;33m\u001b[0m\u001b[0m\n\u001b[1;32m----> 2\u001b[1;33m     \u001b[1;32mpass\u001b[0m\u001b[1;33m\u001b[0m\u001b[1;33m\u001b[0m\u001b[0m\n\u001b[0m",
      "\u001b[1;31mKeyboardInterrupt\u001b[0m: "
     ]
    }
   ],
   "source": [
    "while True:\n",
    "    pass"
   ]
  },
  {
   "cell_type": "code",
   "execution_count": 15,
   "metadata": {},
   "outputs": [
    {
     "name": "stdout",
     "output_type": "stream",
     "text": [
      "Shift+Enter runs particular shell and also open a blank shell below current shell\n",
      "Ctrl+Enter will run shell but not open any other shell\n"
     ]
    }
   ],
   "source": [
    "print(\"Shift+Enter runs particular shell and also open a blank shell below current shell\")\n",
    "print(\"Ctrl+Enter will run shell but not open any other shell\")\n"
   ]
  },
  {
   "cell_type": "code",
   "execution_count": null,
   "metadata": {},
   "outputs": [],
   "source": [
    "# Data Type"
   ]
  },
  {
   "cell_type": "markdown",
   "metadata": {},
   "source": [
    "Esc \n",
    "\n",
    "    y --> code shell\n",
    "\n",
    "    m --> markdown shell\n",
    "\n",
    "    r --> raw shell"
   ]
  },
  {
   "cell_type": "raw",
   "metadata": {},
   "source": [
    "# raw means as it is \n",
    "print(\"hello world\")\n",
    "\n",
    "if True:\n",
    "    print(\"do something\")\n",
    "else:\n",
    "    print(\"not do anything\")"
   ]
  },
  {
   "cell_type": "code",
   "execution_count": null,
   "metadata": {},
   "outputs": [],
   "source": []
  },
  {
   "cell_type": "markdown",
   "metadata": {},
   "source": [
    "esc + m --> markdown shell"
   ]
  },
  {
   "cell_type": "markdown",
   "metadata": {},
   "source": [
    "<h1 style='color:red'> Data Types </h1>"
   ]
  },
  {
   "cell_type": "markdown",
   "metadata": {},
   "source": [
    "#### Basic Data Types (Inbuilt Data Types)\n",
    "\n",
    "<img src=\"datatype.png\" height=300 width=400 float= right>\n",
    "\n",
    "1. **Numbers**\n",
    "    * int eg. 123, 344643\n",
    "    * float eg. 3.14, 6.02\n",
    "*  **Strings**\n",
    "    * single line string\n",
    "    * multi line string (triple quoted string)\n",
    "* **List**\n",
    "* **Tuple**\n",
    "* **Dict**\n",
    "* **Set**\n",
    "* **Frozen Sets**\n",
    "* **Boolean Type**\n",
    "* **None Type**\n",
    "\n",
    "\n",
    "\n",
    "\n"
   ]
  },
  {
   "cell_type": "markdown",
   "metadata": {},
   "source": [
    "    sachinyadav3496@gmail.com\n",
    "\n",
    "    7742397420"
   ]
  },
  {
   "cell_type": "markdown",
   "metadata": {},
   "source": [
    "<h1 style='color:red'>What is data type ? </h1>"
   ]
  },
  {
   "cell_type": "markdown",
   "metadata": {},
   "source": [
    "program --> \n",
    "\n",
    "        data input ----> process --> information output"
   ]
  },
  {
   "cell_type": "markdown",
   "metadata": {},
   "source": [
    "**data** \n",
    "        \n",
    "        any meaningfull piece of information, whatever we know or we can explain \n",
    "\n",
    "\n",
    "**type** (class, category)\n",
    "\n",
    "        classification of data to handle it properly \n",
    "        \n",
    "        set of rules imposed on data to define it's category\n",
    "        \n",
    "        \n",
    "space, processing (operation)"
   ]
  },
  {
   "cell_type": "code",
   "execution_count": 4,
   "metadata": {},
   "outputs": [
    {
     "data": {
      "text/plain": [
       "11"
      ]
     },
     "execution_count": 4,
     "metadata": {},
     "output_type": "execute_result"
    }
   ],
   "source": [
    " 5 + 6"
   ]
  },
  {
   "cell_type": "code",
   "execution_count": 5,
   "metadata": {},
   "outputs": [
    {
     "data": {
      "text/plain": [
       "0.05"
      ]
     },
     "execution_count": 5,
     "metadata": {},
     "output_type": "execute_result"
    }
   ],
   "source": [
    "5 / 100 # numbers "
   ]
  },
  {
   "cell_type": "code",
   "execution_count": 6,
   "metadata": {},
   "outputs": [
    {
     "ename": "TypeError",
     "evalue": "can't multiply sequence by non-int of type 'str'",
     "output_type": "error",
     "traceback": [
      "\u001b[1;31m---------------------------------------------------------------------------\u001b[0m",
      "\u001b[1;31mTypeError\u001b[0m                                 Traceback (most recent call last)",
      "\u001b[1;32m<ipython-input-6-76d73c334ba6>\u001b[0m in \u001b[0;36m<module>\u001b[1;34m\u001b[0m\n\u001b[1;32m----> 1\u001b[1;33m \u001b[1;34m\"Hello \"\u001b[0m \u001b[1;33m*\u001b[0m \u001b[1;34m\"World\"\u001b[0m\u001b[1;33m\u001b[0m\u001b[1;33m\u001b[0m\u001b[0m\n\u001b[0m",
      "\u001b[1;31mTypeError\u001b[0m: can't multiply sequence by non-int of type 'str'"
     ]
    }
   ],
   "source": [
    "\"Hello \" * \"World\" # text "
   ]
  },
  {
   "cell_type": "markdown",
   "metadata": {},
   "source": [
    "**Numbers** \n",
    "\n"
   ]
  },
  {
   "cell_type": "markdown",
   "metadata": {},
   "source": [
    "int x;\n",
    "\n",
    "Everything is object in python, Dynamic language"
   ]
  },
  {
   "cell_type": "code",
   "execution_count": 8,
   "metadata": {},
   "outputs": [
    {
     "name": "stdout",
     "output_type": "stream",
     "text": [
      "<class 'int'> 5\n"
     ]
    }
   ],
   "source": [
    "x = 5 # rules of identifiers, tokens, lexicons, variable\n",
    "print(type(x), x)"
   ]
  },
  {
   "cell_type": "code",
   "execution_count": 9,
   "metadata": {},
   "outputs": [
    {
     "name": "stdout",
     "output_type": "stream",
     "text": [
      "<class 'float'> 6.34\n"
     ]
    }
   ],
   "source": [
    "x = 6.34\n",
    "print(type(x), x)"
   ]
  },
  {
   "cell_type": "markdown",
   "metadata": {},
   "source": [
    "Latex \n",
    "\n",
    "$ \\alpha \\beta \\gamma   \\sum \\limits_{x=0}^N x_i $\n",
    "\n",
    "$ iota = \\sqrt {-1} = j $"
   ]
  },
  {
   "cell_type": "code",
   "execution_count": 10,
   "metadata": {},
   "outputs": [
    {
     "name": "stdout",
     "output_type": "stream",
     "text": [
      "<class 'complex'> (145+5j)\n"
     ]
    }
   ],
   "source": [
    "x = 145 + 5j # j --> iota --> \n",
    "print(type(x), x)"
   ]
  },
  {
   "cell_type": "code",
   "execution_count": 11,
   "metadata": {},
   "outputs": [
    {
     "data": {
      "text/plain": [
       "(-9+0j)"
      ]
     },
     "execution_count": 11,
     "metadata": {},
     "output_type": "execute_result"
    }
   ],
   "source": [
    "3j * 3j "
   ]
  },
  {
   "cell_type": "code",
   "execution_count": 12,
   "metadata": {},
   "outputs": [],
   "source": [
    "x = 29349837473924798327498273894723894798234893289423984732947237423749832748923789472389473289479837489798472343294792274"
   ]
  },
  {
   "cell_type": "code",
   "execution_count": 13,
   "metadata": {},
   "outputs": [
    {
     "name": "stdout",
     "output_type": "stream",
     "text": [
      "29349837473924798327498273894723894798234893289423984732947237423749832748923789472389473289479837489798472343294792274\n"
     ]
    }
   ],
   "source": [
    "print(x)"
   ]
  },
  {
   "cell_type": "code",
   "execution_count": 14,
   "metadata": {},
   "outputs": [
    {
     "name": "stdout",
     "output_type": "stream",
     "text": [
      "861412959745800386944608382942913653733193631591011186130684821983110989325621121103256970222099919770667867787090652650521748165349520060541274758366352376320948338356856730549324330547849652349497393175734678072196576525058448810091076\n"
     ]
    }
   ],
   "source": [
    "print(x**2)"
   ]
  },
  {
   "cell_type": "code",
   "execution_count": 15,
   "metadata": {},
   "outputs": [
    {
     "name": "stdout",
     "output_type": "stream",
     "text": [
      "550611915274006005538513669008546539255257722452500314476453065094088114502267230541543280303585929510426573495643588985328061154489770953873230444631525316227543436011972968578531598566915186424447480104351650307176276456970081231429647125035778333568668154235682031757763215265390060509675892280020131275199316231373618063934244541875430010092463977389049843218568396111321448344045768176437428923413248792409901918061129404261496354512175267120374102346226424932932071669164787589735985978982001140988345163795469639877517202029950210682151161923375552608482905436694160299639403991164512544542974125144155212981648633425693780714584860645531479413510119077574852860455196200978431229104465645771476133545426464391125337294342115588162382381999537272058972276853389153476224408235818433781743367230752110226829277933921490395772570638000523187949157803858771716490226808050609202479749860111240423986390158946067243507256062129389356524396626176\n"
     ]
    }
   ],
   "source": [
    "print(x**8)"
   ]
  },
  {
   "cell_type": "markdown",
   "metadata": {},
   "source": [
    "$ \\sqrt {i } $\n",
    "\n",
    "\n",
    "$ x = \\frac {a} {b} $"
   ]
  },
  {
   "cell_type": "markdown",
   "metadata": {},
   "source": [
    "## Strings"
   ]
  },
  {
   "cell_type": "code",
   "execution_count": 16,
   "metadata": {},
   "outputs": [
    {
     "name": "stdout",
     "output_type": "stream",
     "text": [
      "<class 'str'> hello world how are you\n"
     ]
    }
   ],
   "source": [
    "s = \"hello world how are you\"\n",
    "print(type(s), s)"
   ]
  },
  {
   "cell_type": "code",
   "execution_count": 18,
   "metadata": {},
   "outputs": [],
   "source": [
    "s = \"\"\"\n",
    "Hello, \n",
    "    This is Python.\n",
    "            And we are learning about data types\n",
    "\"\"\""
   ]
  },
  {
   "cell_type": "code",
   "execution_count": 19,
   "metadata": {},
   "outputs": [
    {
     "name": "stdout",
     "output_type": "stream",
     "text": [
      "<class 'str'> \n",
      "Hello, \n",
      "    This is Python.\n",
      "            And we are learning about data types\n",
      "\n"
     ]
    }
   ],
   "source": [
    "print(type(s), s)"
   ]
  },
  {
   "cell_type": "code",
   "execution_count": null,
   "metadata": {},
   "outputs": [],
   "source": []
  },
  {
   "cell_type": "code",
   "execution_count": null,
   "metadata": {},
   "outputs": [],
   "source": []
  }
 ],
 "metadata": {
  "kernelspec": {
   "display_name": "Python 3",
   "language": "python",
   "name": "python3"
  },
  "language_info": {
   "codemirror_mode": {
    "name": "ipython",
    "version": 3
   },
   "file_extension": ".py",
   "mimetype": "text/x-python",
   "name": "python",
   "nbconvert_exporter": "python",
   "pygments_lexer": "ipython3",
   "version": "3.7.4"
  }
 },
 "nbformat": 4,
 "nbformat_minor": 2
}
