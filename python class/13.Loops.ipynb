{
 "cells": [
  {
   "cell_type": "code",
   "execution_count": 1,
   "metadata": {},
   "outputs": [],
   "source": [
    "c  = 1\n",
    "while c <= 100:\n",
    "    if not (c % 5 and c % 7):\n",
    "        print(c)\n",
    "    c *=2\n"
   ]
  },
  {
   "cell_type": "code",
   "execution_count": 2,
   "metadata": {},
   "outputs": [
    {
     "name": "stdout",
     "output_type": "stream",
     "text": [
      "3\n",
      "4\n",
      "7\n",
      "8\n",
      "11\n"
     ]
    }
   ],
   "source": [
    "c = 1\n",
    "while c <= 10:\n",
    "    if c % 2: \n",
    "        c += 2\n",
    "    print(c)\n",
    "    c += 1\n",
    "    "
   ]
  },
  {
   "cell_type": "code",
   "execution_count": 3,
   "metadata": {},
   "outputs": [
    {
     "name": "stdout",
     "output_type": "stream",
     "text": [
      "12\n"
     ]
    }
   ],
   "source": [
    "print(c)"
   ]
  },
  {
   "cell_type": "markdown",
   "metadata": {},
   "source": [
    "**print table of number**"
   ]
  },
  {
   "cell_type": "code",
   "execution_count": 4,
   "metadata": {},
   "outputs": [
    {
     "name": "stdout",
     "output_type": "stream",
     "text": [
      "Enter a number: 5\n",
      "5x1=5\n",
      "5x2=10\n",
      "5x3=15\n",
      "5x4=20\n",
      "5x5=25\n",
      "5x6=30\n",
      "5x7=35\n",
      "5x8=40\n",
      "5x9=45\n",
      "5x10=50\n"
     ]
    }
   ],
   "source": [
    "num = int(input(\"Enter a number: \"))\n",
    "c = 1\n",
    "while c <= 10:\n",
    "    print(f\"{num}x{c}={num*c}\")\n",
    "    c += 1"
   ]
  },
  {
   "cell_type": "code",
   "execution_count": 5,
   "metadata": {},
   "outputs": [
    {
     "name": "stdout",
     "output_type": "stream",
     "text": [
      "Help on built-in function print in module builtins:\n",
      "\n",
      "print(...)\n",
      "    print(value, ..., sep=' ', end='\\n', file=sys.stdout, flush=False)\n",
      "    \n",
      "    Prints the values to a stream, or to sys.stdout by default.\n",
      "    Optional keyword arguments:\n",
      "    file:  a file-like object (stream); defaults to the current sys.stdout.\n",
      "    sep:   string inserted between values, default a space.\n",
      "    end:   string appended after the last value, default a newline.\n",
      "    flush: whether to forcibly flush the stream.\n",
      "\n"
     ]
    }
   ],
   "source": [
    "help(print)"
   ]
  },
  {
   "cell_type": "code",
   "execution_count": 11,
   "metadata": {},
   "outputs": [
    {
     "name": "stdout",
     "output_type": "stream",
     "text": [
      "hello\thi\tbye\n",
      "\n",
      "\n",
      "bye world\n"
     ]
    }
   ],
   "source": [
    "print(\"hello\", 'hi', 'bye', sep='\\t', end='\\n\\n\\n')\n",
    "print(\"bye world\")"
   ]
  },
  {
   "cell_type": "code",
   "execution_count": 12,
   "metadata": {},
   "outputs": [
    {
     "name": "stdout",
     "output_type": "stream",
     "text": [
      "hello\thi\tbye\tbye world\n"
     ]
    }
   ],
   "source": [
    "print(\"hello\", 'hi', 'bye', sep='\\t', end='\\t')\n",
    "print(\"bye world\")"
   ]
  },
  {
   "cell_type": "code",
   "execution_count": 17,
   "metadata": {},
   "outputs": [
    {
     "name": "stdout",
     "output_type": "stream",
     "text": [
      "1, 2, 3, 4, 5, 6, 7, 8, 9, 10, \n",
      "Hello World\n"
     ]
    }
   ],
   "source": [
    "c = 1\n",
    "while c <= 10:\n",
    "    print(c, end=\", \")\n",
    "    c += 1\n",
    "  \n",
    "print()\n",
    "print(\"Hello World\")"
   ]
  },
  {
   "cell_type": "markdown",
   "metadata": {},
   "source": [
    "**formatting**"
   ]
  },
  {
   "cell_type": "code",
   "execution_count": 25,
   "metadata": {},
   "outputs": [
    {
     "name": "stdout",
     "output_type": "stream",
     "text": [
      "hello my name is sachin yadav.\n"
     ]
    }
   ],
   "source": [
    "name = 'sachin yadav'\n",
    "x = f'hello my name is {name}.'\n",
    "print(x)"
   ]
  },
  {
   "cell_type": "code",
   "execution_count": 29,
   "metadata": {},
   "outputs": [
    {
     "name": "stdout",
     "output_type": "stream",
     "text": [
      "hello my name is         sachin yadav.\n"
     ]
    }
   ],
   "source": [
    "name = 'sachin yadav'\n",
    "x = f'hello my name is {name: >20}.' # > rjust\n",
    "print(x)"
   ]
  },
  {
   "cell_type": "code",
   "execution_count": 38,
   "metadata": {},
   "outputs": [
    {
     "name": "stdout",
     "output_type": "stream",
     "text": [
      "hello my name is   sachin kumar yadav.\n"
     ]
    }
   ],
   "source": [
    "name = 'sachin kumar yadav'\n",
    "x = f'hello my name is {name:>20}.' # > rjust\n",
    "print(x)"
   ]
  },
  {
   "cell_type": "code",
   "execution_count": 39,
   "metadata": {},
   "outputs": [
    {
     "name": "stdout",
     "output_type": "stream",
     "text": [
      "hello my name is sachin yadav        .\n"
     ]
    }
   ],
   "source": [
    "name = 'sachin yadav'\n",
    "x = f'hello my name is {name:<20}.' # > rjust\n",
    "print(x)"
   ]
  },
  {
   "cell_type": "code",
   "execution_count": 35,
   "metadata": {},
   "outputs": [
    {
     "name": "stdout",
     "output_type": "stream",
     "text": [
      "hello my name is sachin yadav you have to decide a good which exceed in your logic.\n"
     ]
    }
   ],
   "source": [
    "name = \"sachin yadav you have to decide a good which exceed in your logic\"\n",
    "x = f'hello my name is {name: <20}.' # > rjust\n",
    "print(x)"
   ]
  },
  {
   "cell_type": "code",
   "execution_count": 44,
   "metadata": {},
   "outputs": [
    {
     "name": "stdout",
     "output_type": "stream",
     "text": [
      "this is a     string and value is          hello world\n"
     ]
    }
   ],
   "source": [
    "d_type = \"string\"\n",
    "data = 'hello world'\n",
    "s = f\"this is a {d_type:>10s} and value is {data:>20s}\"\n",
    "print(s)"
   ]
  },
  {
   "cell_type": "code",
   "execution_count": 59,
   "metadata": {},
   "outputs": [
    {
     "name": "stdout",
     "output_type": "stream",
     "text": [
      "this is a      float and value is   100.24\n",
      "this-is-a------float-and-value-is---100.24\n"
     ]
    }
   ],
   "source": [
    "d_type = \"float\"\n",
    "data = 100.23894789374\n",
    "s = f\"this is a {d_type:>10s} and value is {data:>8.2f}\"\n",
    "print(s)\n",
    "d = s.replace(' ', '-')\n",
    "print(d)"
   ]
  },
  {
   "cell_type": "code",
   "execution_count": 60,
   "metadata": {},
   "outputs": [
    {
     "name": "stdout",
     "output_type": "stream",
     "text": [
      "this is a     binary and value is    1100100\n",
      "this-is-a-----binary-and-value-is----1100100\n"
     ]
    }
   ],
   "source": [
    "d_type = \"binary\"\n",
    "data = 100\n",
    "s = f\"this is a {d_type:>10s} and value is {data:>10b}\"\n",
    "print(s)\n",
    "d = s.replace(' ', '-')\n",
    "print(d)"
   ]
  },
  {
   "cell_type": "code",
   "execution_count": 63,
   "metadata": {},
   "outputs": [
    {
     "name": "stdout",
     "output_type": "stream",
     "text": [
      "this is a hexadecimal and value is          f\n",
      "this-is-a-hexadecimal-and-value-is----------f\n"
     ]
    }
   ],
   "source": [
    "d_type = \"hexadecimal\"\n",
    "data = 15\n",
    "s = f\"this is a {d_type:>10s} and value is {data:>10x}\"\n",
    "print(s)\n",
    "d = s.replace(' ', '-')\n",
    "print(d)"
   ]
  },
  {
   "cell_type": "markdown",
   "metadata": {},
   "source": [
    "    space, dtype\n",
    "    >10s\n",
    "    <10d\n",
    "    >10x\n",
    "    <10b\n",
    "    >10o\n"
   ]
  },
  {
   "cell_type": "markdown",
   "metadata": {},
   "source": [
    "ljust, rjust\n",
    "\n",
    "\"sachin            \"\n",
    "\n",
    "\"              sachin\""
   ]
  },
  {
   "cell_type": "code",
   "execution_count": 23,
   "metadata": {},
   "outputs": [],
   "source": [
    "s = \"hello world how are you\""
   ]
  },
  {
   "cell_type": "code",
   "execution_count": 24,
   "metadata": {},
   "outputs": [
    {
     "data": {
      "text/plain": [
       "'hello-world-how-are-you'"
      ]
     },
     "execution_count": 24,
     "metadata": {},
     "output_type": "execute_result"
    }
   ],
   "source": [
    "s.replace(\" \", \"-\")"
   ]
  },
  {
   "cell_type": "code",
   "execution_count": 27,
   "metadata": {},
   "outputs": [
    {
     "name": "stdout",
     "output_type": "stream",
     "text": [
      "1 1  1  1\n",
      "2 4  8  16\n",
      "3 9  27  81\n",
      "4 16  64  256\n",
      "5 25  125  625\n",
      "6 36  216  1296\n",
      "7 49  343  2401\n",
      "8 64  512  4096\n",
      "9 81  729  6561\n",
      "10 100  1000  10000\n"
     ]
    }
   ],
   "source": [
    "c = 1\n",
    "while c <= 10:\n",
    "    print(f\"{c} {c**2}  {c**3}  {c**4}\")\n",
    "    c += 1\n",
    "    "
   ]
  },
  {
   "cell_type": "code",
   "execution_count": 64,
   "metadata": {},
   "outputs": [
    {
     "name": "stdout",
     "output_type": "stream",
     "text": [
      "    1     1      1      1\n",
      "    2     4      8     16\n",
      "    3     9     27     81\n",
      "    4    16     64    256\n",
      "    5    25    125    625\n",
      "    6    36    216   1296\n",
      "    7    49    343   2401\n",
      "    8    64    512   4096\n",
      "    9    81    729   6561\n",
      "   10   100   1000  10000\n"
     ]
    }
   ],
   "source": [
    "c = 1\n",
    "while c <= 10:\n",
    "    print(f\"{c:5} {c**2:5}  {c**3:5}  {c**4:5}\")\n",
    "    c += 1\n",
    "    "
   ]
  },
  {
   "cell_type": "code",
   "execution_count": 66,
   "metadata": {},
   "outputs": [
    {
     "name": "stdout",
     "output_type": "stream",
     "text": [
      "1     1      1      1     1    \n",
      "2     4      8      16    10   \n",
      "3     9      27     81    11   \n",
      "4     16     64     256   100  \n",
      "5     25     125    625   101  \n",
      "6     36     216    1296  110  \n",
      "7     49     343    2401  111  \n",
      "8     64     512    4096  1000 \n",
      "9     81     729    6561  1001 \n",
      "10    100    1000   10000 1010 \n"
     ]
    }
   ],
   "source": [
    "c = 1\n",
    "while c <= 10:\n",
    "    print(f\"{c:<5} {c**2:<5}  {c**3:<5}  {c**4:<5} {c:<5b}\")\n",
    "    c += 1\n",
    "    "
   ]
  },
  {
   "cell_type": "code",
   "execution_count": 1,
   "metadata": {},
   "outputs": [
    {
     "name": "stdout",
     "output_type": "stream",
     "text": [
      "1     1     1     1    \n",
      "2     10    2     2    \n",
      "3     11    3     3    \n",
      "4     100   4     4    \n",
      "5     101   5     5    \n",
      "6     110   6     6    \n",
      "7     111   7     7    \n",
      "8     1000  10    8    \n",
      "9     1001  11    9    \n",
      "10    1010  12    a    \n"
     ]
    }
   ],
   "source": [
    "c = 1\n",
    "while c <= 10:\n",
    "    print(f\"{c:<5d} {c:<5b} {c:<5o} {c:<5x}\")\n",
    "    c += 1"
   ]
  },
  {
   "cell_type": "code",
   "execution_count": 2,
   "metadata": {},
   "outputs": [
    {
     "name": "stdout",
     "output_type": "stream",
     "text": [
      "1\n",
      "2\n",
      "3\n",
      "4\n",
      "5\n",
      "6\n",
      "7\n",
      "8\n",
      "9\n",
      "10\n"
     ]
    }
   ],
   "source": [
    "c = 1\n",
    "while c <= 10:\n",
    "    print(c)\n",
    "    c += 1"
   ]
  },
  {
   "cell_type": "code",
   "execution_count": 1,
   "metadata": {},
   "outputs": [
    {
     "name": "stdout",
     "output_type": "stream",
     "text": [
      "d\n",
      "you are in loop\n",
      " \n",
      "you are in loop\n",
      "\n"
     ]
    }
   ],
   "source": [
    "while input(): # ''\n",
    "    print('you are in loop')"
   ]
  },
  {
   "cell_type": "code",
   "execution_count": 2,
   "metadata": {},
   "outputs": [
    {
     "name": "stdout",
     "output_type": "stream",
     "text": [
      "yes\n",
      "Hello World Again you are in loop.\n",
      "     YeS   \n",
      "Hello World Again you are in loop.\n",
      "no\n"
     ]
    }
   ],
   "source": [
    "while input().strip().lower() == 'yes':\n",
    "    print(\"Hello World Again you are in loop.\")"
   ]
  },
  {
   "cell_type": "code",
   "execution_count": 5,
   "metadata": {},
   "outputs": [
    {
     "name": "stdout",
     "output_type": "stream",
     "text": [
      "\n",
      "ha ha python has else for loop also.\n"
     ]
    }
   ],
   "source": [
    "while print(): # None\n",
    "    print(\"Now tell me what will happen.\")\n",
    "else: # i only execute if condition is False\n",
    "    print(\"ha ha python has else for loop also.\")\n",
    "## if loop execute sucessfully without breaking than else will execute"
   ]
  },
  {
   "cell_type": "code",
   "execution_count": 7,
   "metadata": {},
   "outputs": [],
   "source": [
    "l = [ 'java', 'c', 'c++', 'ruby', 'perl', 'python']"
   ]
  },
  {
   "cell_type": "markdown",
   "metadata": {},
   "source": [
    "**iteration / traversing**"
   ]
  },
  {
   "cell_type": "code",
   "execution_count": 8,
   "metadata": {},
   "outputs": [
    {
     "data": {
      "text/plain": [
       "6"
      ]
     },
     "execution_count": 8,
     "metadata": {},
     "output_type": "execute_result"
    }
   ],
   "source": [
    "len(l)"
   ]
  },
  {
   "cell_type": "code",
   "execution_count": 9,
   "metadata": {},
   "outputs": [
    {
     "name": "stdout",
     "output_type": "stream",
     "text": [
      "java\n",
      "c\n",
      "c++\n",
      "ruby\n",
      "perl\n",
      "python\n",
      "!ha ha ha!!! List Traversed Sucessfully.\n"
     ]
    }
   ],
   "source": [
    "index = 0\n",
    "while index < len(l):\n",
    "    print(l[index])\n",
    "    index += 1\n",
    "else:\n",
    "    print(\"!ha ha ha!!! List Traversed Sucessfully.\")"
   ]
  },
  {
   "cell_type": "code",
   "execution_count": 11,
   "metadata": {},
   "outputs": [
    {
     "name": "stdout",
     "output_type": "stream",
     "text": [
      "Hello World flag is True \n",
      "ram\n",
      "Hello World flag is True \n",
      "raheem\n",
      "Hello World flag is True \n",
      "sachin\n"
     ]
    }
   ],
   "source": [
    "flag = True\n",
    "while flag:\n",
    "    print(\"Hello World flag is True \")\n",
    "    name = input().strip().lower()\n",
    "    if name == 'sachin':\n",
    "        flag = False"
   ]
  },
  {
   "cell_type": "markdown",
   "metadata": {},
   "source": [
    "    positive integer input"
   ]
  },
  {
   "cell_type": "code",
   "execution_count": 13,
   "metadata": {},
   "outputs": [
    {
     "name": "stdout",
     "output_type": "stream",
     "text": [
      "Enter positive number: -1\n",
      "Enter positive number: 0\n",
      "Enter positive number: -123\n",
      "Enter positive number: 45\n",
      "Good boy you have entered  45\n"
     ]
    }
   ],
   "source": [
    "flag = True\n",
    "while flag:\n",
    "    num = int(input(\"Enter positive number: \"))\n",
    "    if num > 1:\n",
    "        flag = False\n",
    "else:\n",
    "    print(\"Good boy you have entered \", num)"
   ]
  },
  {
   "cell_type": "markdown",
   "metadata": {},
   "source": [
    "    Break\n",
    "\n",
    "    Continue"
   ]
  },
  {
   "cell_type": "code",
   "execution_count": 14,
   "metadata": {},
   "outputs": [
    {
     "name": "stdout",
     "output_type": "stream",
     "text": [
      "1\n",
      "2\n",
      "3\n",
      "4\n",
      "5\n",
      "6\n",
      "7\n",
      "8\n",
      "9\n",
      "10\n",
      "loop completed successfully\n"
     ]
    }
   ],
   "source": [
    "c= 1\n",
    "while c <= 10:\n",
    "    print(c)\n",
    "    c += 1\n",
    "else:\n",
    "    print(\"loop completed successfully\")"
   ]
  },
  {
   "cell_type": "code",
   "execution_count": 15,
   "metadata": {},
   "outputs": [
    {
     "name": "stdout",
     "output_type": "stream",
     "text": [
      "1\n",
      "2\n",
      "3\n",
      "4\n",
      "5\n"
     ]
    }
   ],
   "source": [
    "c= 1\n",
    "while c <= 10:\n",
    "    print(c)\n",
    "    if c == 5:\n",
    "        break\n",
    "    c += 1\n",
    "else:\n",
    "    print(\"loop completed successfully\")"
   ]
  },
  {
   "cell_type": "code",
   "execution_count": 16,
   "metadata": {},
   "outputs": [
    {
     "name": "stdout",
     "output_type": "stream",
     "text": [
      "1, 3, 5, 7, 9, 11, 13, 15, "
     ]
    }
   ],
   "source": [
    "c = 1\n",
    "while c <= 50:\n",
    "    print(c, end=', ')\n",
    "    if c % 3 == 0 and c % 5 == 0:\n",
    "        break\n",
    "    c += 2\n",
    "else:\n",
    "    print(\"Now What do you say ?\")"
   ]
  },
  {
   "cell_type": "code",
   "execution_count": 17,
   "metadata": {},
   "outputs": [
    {
     "name": "stdout",
     "output_type": "stream",
     "text": [
      "2\n",
      "4\n",
      "6\n",
      "8\n",
      "10\n",
      "this is final in loops\n"
     ]
    }
   ],
   "source": [
    "c = 1\n",
    "while c <= 10:\n",
    "    c += 1\n",
    "    if c % 2:\n",
    "        continue\n",
    "    print(c)\n",
    "else:\n",
    "    print(\"this is final in loops\")"
   ]
  },
  {
   "cell_type": "code",
   "execution_count": 19,
   "metadata": {},
   "outputs": [
    {
     "name": "stdout",
     "output_type": "stream",
     "text": [
      "stop it\n"
     ]
    }
   ],
   "source": [
    "while True:\n",
    "    print(\"stop it\")\n",
    "    break\n",
    "else:\n",
    "    print(\"else will not run if loop breaks\")"
   ]
  },
  {
   "cell_type": "code",
   "execution_count": 21,
   "metadata": {},
   "outputs": [
    {
     "name": "stdout",
     "output_type": "stream",
     "text": [
      "nothing will run after continue 1\n",
      "nothing will run after continue 2\n",
      "nothing will run after continue 3\n",
      "nothing will run after continue 4\n",
      "nothing will run after continue 5\n",
      "i will run if loop does not break in between\n"
     ]
    }
   ],
   "source": [
    "c = 1\n",
    "while c <= 5:\n",
    "    print(\"nothing will run after continue\", c)\n",
    "    c += 1\n",
    "    continue\n",
    "    print('abcd')\n",
    "    print('efgh')\n",
    "else:\n",
    "    print(\"i will run if loop does not break in between\")"
   ]
  },
  {
   "cell_type": "code",
   "execution_count": 22,
   "metadata": {},
   "outputs": [
    {
     "name": "stdout",
     "output_type": "stream",
     "text": [
      "ha ha\n"
     ]
    }
   ],
   "source": [
    "while False:\n",
    "    print(\"hello world\")\n",
    "else:\n",
    "    print('ha ha')"
   ]
  },
  {
   "cell_type": "code",
   "execution_count": 1,
   "metadata": {},
   "outputs": [
    {
     "name": "stdout",
     "output_type": "stream",
     "text": [
      "item: scala\n",
      "No such product found\n"
     ]
    }
   ],
   "source": [
    "product = [ 'java', 'c', 'c++', 'ruby', 'python']\n",
    "item = input(\"item: \")\n",
    "index = 0\n",
    "while index < len(product):\n",
    "    if product[index] == item:\n",
    "        print(f\"Found item inside list at pos {index}.\")\n",
    "        break\n",
    "    index += 1\n",
    "        \n",
    "else:\n",
    "    print(\"No such product found\")\n",
    "    "
   ]
  },
  {
   "cell_type": "code",
   "execution_count": 2,
   "metadata": {},
   "outputs": [
    {
     "name": "stdout",
     "output_type": "stream",
     "text": [
      "item: python\n",
      "Found item inside list at pos 4.\n"
     ]
    }
   ],
   "source": [
    "product = [ 'java', 'c', 'c++', 'ruby', 'python']\n",
    "item = input(\"item: \")\n",
    "index = 0\n",
    "while index < len(product):\n",
    "    if product[index] == item:\n",
    "        print(f\"Found item inside list at pos {index}.\")\n",
    "        break\n",
    "    index += 1\n",
    "        \n",
    "else:\n",
    "    print(\"No such product found\")\n",
    "    "
   ]
  },
  {
   "cell_type": "code",
   "execution_count": 4,
   "metadata": {},
   "outputs": [
    {
     "name": "stdout",
     "output_type": "stream",
     "text": [
      "item: scala\n",
      "No such item exists.\n"
     ]
    }
   ],
   "source": [
    "product = [ 'java', 'c', 'c++', 'ruby', 'python']\n",
    "item = input(\"item: \")\n",
    "index = 0\n",
    "flag = False # \n",
    "while index < len(product):\n",
    "    if product[index] == item:\n",
    "        flag = True\n",
    "        break\n",
    "    index += 1\n",
    "        \n",
    "if flag:\n",
    "    print(f\"Item found at Position {index}\")\n",
    "else:\n",
    "    print(\"No such item exists.\")\n"
   ]
  },
  {
   "cell_type": "code",
   "execution_count": 5,
   "metadata": {},
   "outputs": [],
   "source": [
    "from random import randint"
   ]
  },
  {
   "cell_type": "code",
   "execution_count": 13,
   "metadata": {},
   "outputs": [
    {
     "name": "stdout",
     "output_type": "stream",
     "text": [
      "1 . 36\n",
      "2 . 22\n",
      "3 . 21\n",
      "4 . 30\n",
      "5 . 15\n"
     ]
    }
   ],
   "source": [
    "c = 1\n",
    "while c <= 5:\n",
    "    rnum = randint(1, 50)\n",
    "    print(c, \".\", rnum)\n",
    "    c += 1"
   ]
  },
  {
   "cell_type": "markdown",
   "metadata": {},
   "source": [
    "    did you get while loop or not ? \n",
    "\n",
    "    guess game\n",
    "\n",
    "    computer will guess a random number (1, 50)\n",
    "    \n",
    "    user will get 5 chances to guess that particular number \n",
    "    \n",
    "        if user guess is not in range 1, 50\n",
    "            than print a warning message that your guess should be in range 1-50\n",
    "            no chance should be reduced beacuse of this\n",
    "        \n",
    "        if user guesses bigger than computer guess \n",
    "            than print a hint telling your guess is high please think a lower number\n",
    "            \n",
    "        if user guess lower than computer guess \n",
    "            than print a hint telling your guess is lower please guess a high number\n",
    "            \n",
    "        if user guess is equal to computer guess stop program by printing \n",
    "            congratulation message as you have won the game you such a master\n",
    "            \n",
    "            \n",
    "        if user fails all 5 attempts to guess that particular number than print\n",
    "            you such a looser!! and also show the computer guess"
   ]
  },
  {
   "cell_type": "markdown",
   "metadata": {},
   "source": [
    "    else, break, continue"
   ]
  },
  {
   "cell_type": "code",
   "execution_count": 14,
   "metadata": {},
   "outputs": [
    {
     "name": "stdout",
     "output_type": "stream",
     "text": [
      "Writing guess_game.py\n"
     ]
    }
   ],
   "source": [
    "%%writefile guess_game.py\n",
    "\n",
    "\n",
    "\"\"\"your code goes here\"\"\""
   ]
  },
  {
   "cell_type": "code",
   "execution_count": 15,
   "metadata": {},
   "outputs": [
    {
     "data": {
      "text/plain": [
       "'C:\\\\Batches\\\\Batch_7pm_online'"
      ]
     },
     "execution_count": 15,
     "metadata": {},
     "output_type": "execute_result"
    }
   ],
   "source": [
    "pwd"
   ]
  },
  {
   "cell_type": "markdown",
   "metadata": {},
   "source": [
    "powershell \n",
    "\n",
    "cd 'C:\\\\Batches\\\\Batch_7pm_online'\n",
    "\n",
    "ls\n",
    "\n",
    "cat \n",
    "\n",
    "python guess_game.py"
   ]
  },
  {
   "cell_type": "markdown",
   "metadata": {},
   "source": [
    "**For Loop**"
   ]
  },
  {
   "cell_type": "code",
   "execution_count": 16,
   "metadata": {},
   "outputs": [],
   "source": [
    "s = \"python\""
   ]
  },
  {
   "cell_type": "markdown",
   "metadata": {},
   "source": [
    "syntax:\n",
    "\n",
    "    for value in iterable:\n",
    "        st-1\n",
    "        st-2\n",
    "        ...\n",
    "        st-n"
   ]
  },
  {
   "cell_type": "code",
   "execution_count": 17,
   "metadata": {},
   "outputs": [],
   "source": [
    "s = \"python\""
   ]
  },
  {
   "cell_type": "code",
   "execution_count": 19,
   "metadata": {},
   "outputs": [
    {
     "name": "stdout",
     "output_type": "stream",
     "text": [
      "p\n",
      "y\n",
      "t\n",
      "h\n",
      "o\n",
      "n\n",
      "Successfully iterated python\n"
     ]
    }
   ],
   "source": [
    "for char in s:\n",
    "    print(char)\n",
    "else:\n",
    "    print(f\"Successfully iterated {s}\")"
   ]
  },
  {
   "cell_type": "code",
   "execution_count": 20,
   "metadata": {},
   "outputs": [
    {
     "name": "stdout",
     "output_type": "stream",
     "text": [
      "p\n",
      "y\n",
      "t\n",
      "h\n"
     ]
    }
   ],
   "source": [
    "for char in s:\n",
    "    if char in [ 'a', 'e', 'i', 'o', 'u']:\n",
    "        break\n",
    "    print(char)\n",
    "    \n",
    "else:\n",
    "    print(f\"Successfully iterated {s}\")"
   ]
  },
  {
   "cell_type": "code",
   "execution_count": 22,
   "metadata": {},
   "outputs": [
    {
     "name": "stdout",
     "output_type": "stream",
     "text": [
      "item: yahoo\n",
      "Not Found\n"
     ]
    }
   ],
   "source": [
    "lang = [ 'java', 'c', 'c++', 'ruby', 'perl', 'python']\n",
    "item = input(\"item: \")\n",
    "\n",
    "for value in lang:\n",
    "    if item == value:\n",
    "        print(\"Item Found\")\n",
    "        break\n",
    "else:\n",
    "    print(\"Not Found\")"
   ]
  },
  {
   "cell_type": "markdown",
   "metadata": {},
   "source": [
    "    For Loop\n",
    "\n",
    "    Functions"
   ]
  },
  {
   "cell_type": "code",
   "execution_count": null,
   "metadata": {},
   "outputs": [],
   "source": []
  }
 ],
 "metadata": {
  "kernelspec": {
   "display_name": "Python 3",
   "language": "python",
   "name": "python3"
  },
  "language_info": {
   "codemirror_mode": {
    "name": "ipython",
    "version": 3
   },
   "file_extension": ".py",
   "mimetype": "text/x-python",
   "name": "python",
   "nbconvert_exporter": "python",
   "pygments_lexer": "ipython3",
   "version": "3.7.4"
  }
 },
 "nbformat": 4,
 "nbformat_minor": 2
}
