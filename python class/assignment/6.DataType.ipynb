{
 "cells": [
  {
   "cell_type": "markdown",
   "metadata": {},
   "source": [
    "### Data Types "
   ]
  },
  {
   "cell_type": "markdown",
   "metadata": {},
   "source": [
    "**doubt ?**"
   ]
  },
  {
   "cell_type": "markdown",
   "metadata": {},
   "source": [
    "**String**"
   ]
  },
  {
   "cell_type": "code",
   "execution_count": 1,
   "metadata": {},
   "outputs": [],
   "source": [
    "s = \"Hello World!\""
   ]
  },
  {
   "cell_type": "code",
   "execution_count": 2,
   "metadata": {},
   "outputs": [
    {
     "data": {
      "text/plain": [
       "'Hello'"
      ]
     },
     "execution_count": 2,
     "metadata": {},
     "output_type": "execute_result"
    }
   ],
   "source": [
    "s[:5] # starting 5 chars\n",
    "# shell output"
   ]
  },
  {
   "cell_type": "code",
   "execution_count": 7,
   "metadata": {},
   "outputs": [
    {
     "name": "stdout",
     "output_type": "stream",
     "text": [
      "Hello\n"
     ]
    }
   ],
   "source": [
    "print(s[:5])\n",
    "# actual output"
   ]
  },
  {
   "cell_type": "code",
   "execution_count": 3,
   "metadata": {},
   "outputs": [
    {
     "data": {
      "text/plain": [
       "'orld!'"
      ]
     },
     "execution_count": 3,
     "metadata": {},
     "output_type": "execute_result"
    }
   ],
   "source": [
    "s[-5:] # last 5 chars"
   ]
  },
  {
   "cell_type": "code",
   "execution_count": 4,
   "metadata": {},
   "outputs": [
    {
     "data": {
      "text/plain": [
       "'!dlroW olleH'"
      ]
     },
     "execution_count": 4,
     "metadata": {},
     "output_type": "execute_result"
    }
   ],
   "source": [
    "s[::-1] # reverse the string"
   ]
  },
  {
   "cell_type": "code",
   "execution_count": 5,
   "metadata": {},
   "outputs": [
    {
     "data": {
      "text/plain": [
       "'Hello World'"
      ]
     },
     "execution_count": 5,
     "metadata": {},
     "output_type": "execute_result"
    }
   ],
   "source": [
    "s[:-1] # skip last char from string"
   ]
  },
  {
   "cell_type": "code",
   "execution_count": 6,
   "metadata": {},
   "outputs": [
    {
     "data": {
      "text/plain": [
       "'Hello Wor'"
      ]
     },
     "execution_count": 6,
     "metadata": {},
     "output_type": "execute_result"
    }
   ],
   "source": [
    "s[:-3] # last 3 chars will be skipped"
   ]
  },
  {
   "cell_type": "markdown",
   "metadata": {},
   "source": [
    "**mutable & immutables**"
   ]
  },
  {
   "cell_type": "code",
   "execution_count": 8,
   "metadata": {},
   "outputs": [],
   "source": [
    "s = \"    Hello World!   \\n   \""
   ]
  },
  {
   "cell_type": "code",
   "execution_count": 9,
   "metadata": {},
   "outputs": [
    {
     "name": "stdout",
     "output_type": "stream",
     "text": [
      "    Hello World!   \n",
      "   \n"
     ]
    }
   ],
   "source": [
    "print(s)"
   ]
  },
  {
   "cell_type": "code",
   "execution_count": 10,
   "metadata": {},
   "outputs": [
    {
     "name": "stdout",
     "output_type": "stream",
     "text": [
      "'    Hello World!   \\n   '\n"
     ]
    }
   ],
   "source": [
    "print(repr(s))"
   ]
  },
  {
   "cell_type": "code",
   "execution_count": 11,
   "metadata": {},
   "outputs": [
    {
     "data": {
      "text/plain": [
       "'    Hello World!   \\n   '"
      ]
     },
     "execution_count": 11,
     "metadata": {},
     "output_type": "execute_result"
    }
   ],
   "source": [
    "s # shell output --> raw representation of object --->  repr"
   ]
  },
  {
   "cell_type": "code",
   "execution_count": 12,
   "metadata": {},
   "outputs": [
    {
     "name": "stdout",
     "output_type": "stream",
     "text": [
      "    Hello World!   \n",
      "   \n"
     ]
    }
   ],
   "source": [
    "print(s) # str "
   ]
  },
  {
   "cell_type": "code",
   "execution_count": 13,
   "metadata": {},
   "outputs": [
    {
     "name": "stdout",
     "output_type": "stream",
     "text": [
      "['__add__', '__class__', '__contains__', '__delattr__', '__dir__', '__doc__', '__eq__', '__format__', '__ge__', '__getattribute__', '__getitem__', '__getnewargs__', '__gt__', '__hash__', '__init__', '__init_subclass__', '__iter__', '__le__', '__len__', '__lt__', '__mod__', '__mul__', '__ne__', '__new__', '__reduce__', '__reduce_ex__', '__repr__', '__rmod__', '__rmul__', '__setattr__', '__sizeof__', '__str__', '__subclasshook__', 'capitalize', 'casefold', 'center', 'count', 'encode', 'endswith', 'expandtabs', 'find', 'format', 'format_map', 'index', 'isalnum', 'isalpha', 'isascii', 'isdecimal', 'isdigit', 'isidentifier', 'islower', 'isnumeric', 'isprintable', 'isspace', 'istitle', 'isupper', 'join', 'ljust', 'lower', 'lstrip', 'maketrans', 'partition', 'replace', 'rfind', 'rindex', 'rjust', 'rpartition', 'rsplit', 'rstrip', 'split', 'splitlines', 'startswith', 'strip', 'swapcase', 'title', 'translate', 'upper', 'zfill']\n"
     ]
    }
   ],
   "source": [
    "print(dir(s))"
   ]
  },
  {
   "cell_type": "code",
   "execution_count": 15,
   "metadata": {},
   "outputs": [
    {
     "name": "stdout",
     "output_type": "stream",
     "text": [
      "<built-in method capitalize of str object at 0x000001EC69D0A670>\n"
     ]
    }
   ],
   "source": [
    "print(s.capitalize) # string"
   ]
  },
  {
   "cell_type": "code",
   "execution_count": 16,
   "metadata": {},
   "outputs": [
    {
     "data": {
      "text/plain": [
       "<function str.capitalize()>"
      ]
     },
     "execution_count": 16,
     "metadata": {},
     "output_type": "execute_result"
    }
   ],
   "source": [
    "s.capitalize # raw (repr)"
   ]
  },
  {
   "cell_type": "code",
   "execution_count": 18,
   "metadata": {},
   "outputs": [
    {
     "name": "stdout",
     "output_type": "stream",
     "text": [
      "Name: sachin\n",
      "sachin\n"
     ]
    }
   ],
   "source": [
    "name = input(\"Name: \") # value return \n",
    "print(name) # does not return anything so default is None"
   ]
  },
  {
   "cell_type": "code",
   "execution_count": 19,
   "metadata": {},
   "outputs": [
    {
     "name": "stdout",
     "output_type": "stream",
     "text": [
      "ehlo world\n",
      "None\n"
     ]
    }
   ],
   "source": [
    "output = print(\"ehlo world\")\n",
    "print(output)"
   ]
  },
  {
   "cell_type": "code",
   "execution_count": 20,
   "metadata": {},
   "outputs": [
    {
     "name": "stdout",
     "output_type": "stream",
     "text": [
      "Help on built-in function capitalize:\n",
      "\n",
      "capitalize() method of builtins.str instance\n",
      "    Return a capitalized version of the string.\n",
      "    \n",
      "    More specifically, make the first character have upper case and the rest lower\n",
      "    case.\n",
      "\n"
     ]
    }
   ],
   "source": [
    "help(s.capitalize)"
   ]
  },
  {
   "cell_type": "code",
   "execution_count": 29,
   "metadata": {},
   "outputs": [
    {
     "name": "stdout",
     "output_type": "stream",
     "text": [
      "Hello World!\n",
      "'Hello World'\n"
     ]
    }
   ],
   "source": [
    "print(\"Hello World!\")\n",
    "print(repr(\"Hello World\"))"
   ]
  },
  {
   "cell_type": "code",
   "execution_count": 31,
   "metadata": {},
   "outputs": [
    {
     "name": "stdout",
     "output_type": "stream",
     "text": [
      "original string :  'HellO wOrlD hOw Are YoU ?  '\n",
      "capitalize string:  'Hello world how are you ?  '\n",
      "titled string:  'Hello World How Are You ?  '\n",
      "lowercase string:  'hello world how are you ?  '\n",
      "uppercase string:  'HELLO WORLD HOW ARE YOU ?  '\n",
      "swapcase string:  'hELLo WoRLd HoW aRE yOu ?  '\n"
     ]
    }
   ],
   "source": [
    "x = \"HellO wOrlD hOw Are YoU ?  \"\n",
    "y = x.capitalize()\n",
    "print(\"original string : \",repr(x))\n",
    "print(\"capitalize string: \",repr(y))\n",
    "z = x.title()\n",
    "print(\"titled string: \", repr(z))\n",
    "y = x.lower()\n",
    "print(\"lowercase string: \", repr(y))\n",
    "y = x.upper()\n",
    "print(\"uppercase string: \", repr(y))\n",
    "y = x.swapcase()\n",
    "print(\"swapcase string: \", repr(y))"
   ]
  },
  {
   "cell_type": "code",
   "execution_count": 34,
   "metadata": {},
   "outputs": [
    {
     "data": {
      "text/plain": [
       "False"
      ]
     },
     "execution_count": 34,
     "metadata": {},
     "output_type": "execute_result"
    }
   ],
   "source": [
    "\"sachin\" == \"Sachin\""
   ]
  },
  {
   "cell_type": "code",
   "execution_count": 33,
   "metadata": {},
   "outputs": [
    {
     "data": {
      "text/plain": [
       "True"
      ]
     },
     "execution_count": 33,
     "metadata": {},
     "output_type": "execute_result"
    }
   ],
   "source": [
    "\"sachin\".lower() == \"Sachin\".lower()"
   ]
  },
  {
   "cell_type": "code",
   "execution_count": 35,
   "metadata": {},
   "outputs": [
    {
     "data": {
      "text/plain": [
       "True"
      ]
     },
     "execution_count": 35,
     "metadata": {},
     "output_type": "execute_result"
    }
   ],
   "source": [
    "\"sachin\" == \"Sachin\".casefold()"
   ]
  },
  {
   "cell_type": "code",
   "execution_count": 36,
   "metadata": {},
   "outputs": [
    {
     "data": {
      "text/plain": [
       "True"
      ]
     },
     "execution_count": 36,
     "metadata": {},
     "output_type": "execute_result"
    }
   ],
   "source": [
    "\"sachin\".casefold() == \"Sachin\".casefold() # caseless comparsion"
   ]
  },
  {
   "cell_type": "markdown",
   "metadata": {},
   "source": [
    "### Strip (truncate)"
   ]
  },
  {
   "cell_type": "code",
   "execution_count": 37,
   "metadata": {},
   "outputs": [],
   "source": [
    "s = \"    Hello World    \""
   ]
  },
  {
   "cell_type": "code",
   "execution_count": 38,
   "metadata": {},
   "outputs": [
    {
     "name": "stdout",
     "output_type": "stream",
     "text": [
      "Original string:  '    Hello World    '\n",
      "Left Stripped String:  'Hello World    '\n",
      "Right Stripped String:  '    Hello World'\n",
      "Stripped String:  'Hello World'\n"
     ]
    }
   ],
   "source": [
    "s1  = s.lstrip() # left spaces remove\n",
    "s2 = s.rstrip() # right spaces remove\n",
    "s3 = s.strip() # left and right spaces remove\n",
    "\n",
    "print(\"Original string: \", repr(s))\n",
    "print(\"Left Stripped String: \", repr(s1))\n",
    "print(\"Right Stripped String: \", repr(s2))\n",
    "print(\"Stripped String: \", repr(s3))"
   ]
  },
  {
   "cell_type": "code",
   "execution_count": 41,
   "metadata": {},
   "outputs": [
    {
     "name": "stdout",
     "output_type": "stream",
     "text": [
      "'\\n\\t\\n\\thello world\\n\\t\\t\\n'\n",
      "'hello world'\n"
     ]
    }
   ],
   "source": [
    "s = \"\\n\\t\\n\\thello world\\n\\t\\t\\n\"\n",
    "print(repr(s))\n",
    "s1 = s.strip()\n",
    "print(repr(s1)) # \\n new line character , \\t tab characters"
   ]
  },
  {
   "cell_type": "code",
   "execution_count": 42,
   "metadata": {},
   "outputs": [
    {
     "name": "stdout",
     "output_type": "stream",
     "text": [
      "'   \\n\\n\\t\\nHello World\\n\\n\\t\\t  '\n",
      "'Hello World'\n",
      "'\\n\\n\\t\\nHello World\\n\\n\\t\\t'\n"
     ]
    }
   ],
   "source": [
    "s = \"   \\n\\n\\t\\nHello World\\n\\n\\t\\t  \"\n",
    "s1 = s.strip()\n",
    "s2 = s.strip(\" \")\n",
    "print(repr(s))\n",
    "print(repr(s1))\n",
    "print(repr(s2))"
   ]
  },
  {
   "cell_type": "code",
   "execution_count": 43,
   "metadata": {},
   "outputs": [],
   "source": [
    "s = \"@!@!@!!!!!!!!!!!!!!!!!@@@Hello World!@!!@!@!@!@!@!@\""
   ]
  },
  {
   "cell_type": "code",
   "execution_count": 45,
   "metadata": {},
   "outputs": [
    {
     "name": "stdout",
     "output_type": "stream",
     "text": [
      "'@!@!@!!!!!!!!!!!!!!!!!@@@Hello World!@!!@!@!@!@!@!@'\n",
      "'Hello World'\n"
     ]
    }
   ],
   "source": [
    "s1 = s.strip(\"!@\")\n",
    "print(repr(s))\n",
    "print(repr(s1))"
   ]
  },
  {
   "cell_type": "raw",
   "metadata": {},
   "source": [
    "\" \"\n",
    "# \\t --> \"    \" depend on editer \n",
    "# \\t --> \"        \"\n",
    "# \"     \"\n",
    "# \\t"
   ]
  },
  {
   "cell_type": "code",
   "execution_count": 46,
   "metadata": {},
   "outputs": [
    {
     "name": "stdout",
     "output_type": "stream",
     "text": [
      "'  h                    e   '\n",
      "'h                    e'\n"
     ]
    }
   ],
   "source": [
    "s = \"  h                    e   \"\n",
    "s1 = s.strip()\n",
    "print(repr(s))\n",
    "print(repr(s1))"
   ]
  },
  {
   "cell_type": "markdown",
   "metadata": {},
   "source": [
    "**zfill, center, rjust, format**"
   ]
  },
  {
   "cell_type": "code",
   "execution_count": 56,
   "metadata": {},
   "outputs": [
    {
     "name": "stdout",
     "output_type": "stream",
     "text": [
      "'Hello World'\n",
      "'000000000Hello World'\n"
     ]
    }
   ],
   "source": [
    "x = \"Hello World\"\n",
    "print(repr(x))\n",
    "z = x.zfill(20)\n",
    "print(repr(z))"
   ]
  },
  {
   "cell_type": "code",
   "execution_count": 54,
   "metadata": {},
   "outputs": [],
   "source": [
    "s = \"         \\thello\".strip(\" \")"
   ]
  },
  {
   "cell_type": "code",
   "execution_count": 55,
   "metadata": {},
   "outputs": [
    {
     "data": {
      "text/plain": [
       "'\\thello'"
      ]
     },
     "execution_count": 55,
     "metadata": {},
     "output_type": "execute_result"
    }
   ],
   "source": [
    "s"
   ]
  },
  {
   "cell_type": "code",
   "execution_count": 57,
   "metadata": {},
   "outputs": [
    {
     "ename": "SyntaxError",
     "evalue": "invalid token (<ipython-input-57-a4b11530fc66>, line 1)",
     "output_type": "error",
     "traceback": [
      "\u001b[1;36m  File \u001b[1;32m\"<ipython-input-57-a4b11530fc66>\"\u001b[1;36m, line \u001b[1;32m1\u001b[0m\n\u001b[1;33m    x = 001\u001b[0m\n\u001b[1;37m          ^\u001b[0m\n\u001b[1;31mSyntaxError\u001b[0m\u001b[1;31m:\u001b[0m invalid token\n"
     ]
    }
   ],
   "source": [
    "x = 001"
   ]
  },
  {
   "cell_type": "code",
   "execution_count": 58,
   "metadata": {},
   "outputs": [
    {
     "name": "stdout",
     "output_type": "stream",
     "text": [
      "001\n"
     ]
    }
   ],
   "source": [
    "x = '1'\n",
    "print(x.zfill(3))"
   ]
  },
  {
   "cell_type": "markdown",
   "metadata": {},
   "source": [
    "**center**"
   ]
  },
  {
   "cell_type": "code",
   "execution_count": 59,
   "metadata": {},
   "outputs": [],
   "source": [
    "s = \"Hello World\""
   ]
  },
  {
   "cell_type": "code",
   "execution_count": 60,
   "metadata": {},
   "outputs": [
    {
     "name": "stdout",
     "output_type": "stream",
     "text": [
      "'Hello World'\n",
      "'    Hello World     '\n"
     ]
    }
   ],
   "source": [
    "s1 = s.center(20)\n",
    "print(repr(s))\n",
    "print(repr(s1))"
   ]
  },
  {
   "cell_type": "code",
   "execution_count": 61,
   "metadata": {},
   "outputs": [
    {
     "name": "stdout",
     "output_type": "stream",
     "text": [
      "'Hello World'\n",
      "'____Hello World_____'\n"
     ]
    }
   ],
   "source": [
    "s1 = s.center(20, '_')\n",
    "print(repr(s))\n",
    "print(repr(s1))"
   ]
  },
  {
   "cell_type": "code",
   "execution_count": 67,
   "metadata": {},
   "outputs": [
    {
     "name": "stdout",
     "output_type": "stream",
     "text": [
      "'Hello World'\n",
      "'----Hello World-----'\n"
     ]
    },
    {
     "data": {
      "text/plain": [
       "'!!!!!----Hello World-----!!!!!'"
      ]
     },
     "execution_count": 67,
     "metadata": {},
     "output_type": "execute_result"
    }
   ],
   "source": [
    "s1 = s.center(20, '-')\n",
    "print(repr(s))\n",
    "print(repr(s1))\n",
    "s1.center(30, '!')"
   ]
  },
  {
   "cell_type": "code",
   "execution_count": 68,
   "metadata": {},
   "outputs": [
    {
     "name": "stdout",
     "output_type": "stream",
     "text": [
      "Help on built-in function zfill:\n",
      "\n",
      "zfill(width, /) method of builtins.str instance\n",
      "    Pad a numeric string with zeros on the left, to fill a field of the given width.\n",
      "    \n",
      "    The string is never truncated.\n",
      "\n"
     ]
    }
   ],
   "source": [
    "help(s.zfill)"
   ]
  },
  {
   "cell_type": "code",
   "execution_count": 69,
   "metadata": {},
   "outputs": [
    {
     "name": "stdout",
     "output_type": "stream",
     "text": [
      "Help on built-in function center:\n",
      "\n",
      "center(width, fillchar=' ', /) method of builtins.str instance\n",
      "    Return a centered string of length width.\n",
      "    \n",
      "    Padding is done using the specified fill character (default is a space).\n",
      "\n"
     ]
    }
   ],
   "source": [
    "help(s.center)"
   ]
  },
  {
   "cell_type": "code",
   "execution_count": 73,
   "metadata": {},
   "outputs": [
    {
     "name": "stdout",
     "output_type": "stream",
     "text": [
      "8\n",
      "28\n",
      "'Hello World!'\n",
      "'________Hello World!'\n"
     ]
    }
   ],
   "source": [
    "s = \"Hello World!\"\n",
    "l = 20\n",
    "sl = len(s)\n",
    "chars = l - sl\n",
    "print(chars)\n",
    "nl = l+chars\n",
    "print(nl)\n",
    "s1 = s.center(nl, '_')[:20]\n",
    "print(repr(s))\n",
    "print(repr(s1))"
   ]
  },
  {
   "cell_type": "code",
   "execution_count": 74,
   "metadata": {},
   "outputs": [
    {
     "name": "stdout",
     "output_type": "stream",
     "text": [
      "Help on built-in function rjust:\n",
      "\n",
      "rjust(width, fillchar=' ', /) method of builtins.str instance\n",
      "    Return a right-justified string of length width.\n",
      "    \n",
      "    Padding is done using the specified fill character (default is a space).\n",
      "\n"
     ]
    }
   ],
   "source": [
    "help(s.rjust)"
   ]
  },
  {
   "cell_type": "code",
   "execution_count": 75,
   "metadata": {},
   "outputs": [
    {
     "name": "stdout",
     "output_type": "stream",
     "text": [
      "'Hello World!'\n",
      "'        Hello World!'\n"
     ]
    }
   ],
   "source": [
    "s  = \"Hello World!\"\n",
    "\n",
    "s1 = s.rjust(20)\n",
    "print(repr(s))\n",
    "print(repr(s1))"
   ]
  },
  {
   "cell_type": "code",
   "execution_count": 77,
   "metadata": {},
   "outputs": [
    {
     "name": "stdout",
     "output_type": "stream",
     "text": [
      "'Hello World!'\n",
      "'--------Hello World!'\n"
     ]
    }
   ],
   "source": [
    "s  = \"Hello World!\"\n",
    "\n",
    "s1 = s.rjust(20, \"-\")\n",
    "print(repr(s))\n",
    "print(repr(s1))"
   ]
  },
  {
   "cell_type": "code",
   "execution_count": 79,
   "metadata": {},
   "outputs": [
    {
     "name": "stdout",
     "output_type": "stream",
     "text": [
      "'Hello World!'\n",
      "'Hello World!--------'\n"
     ]
    }
   ],
   "source": [
    "s  = \"Hello World!\"\n",
    "\n",
    "s1 = s.ljust(20, \"-\")\n",
    "print(repr(s))\n",
    "print(repr(s1))"
   ]
  },
  {
   "cell_type": "code",
   "execution_count": 81,
   "metadata": {},
   "outputs": [
    {
     "name": "stdout",
     "output_type": "stream",
     "text": [
      "Hello                                                       \n",
      "                                             Hi, How are you\n"
     ]
    }
   ],
   "source": [
    "fmsg = \"Hello\"\n",
    "msg = \"Hi, How are you\"\n",
    "\n",
    "print(fmsg.ljust(60))\n",
    "print(msg.rjust(60))"
   ]
  },
  {
   "cell_type": "code",
   "execution_count": 82,
   "metadata": {},
   "outputs": [
    {
     "name": "stdout",
     "output_type": "stream",
     "text": [
      "'Hello                                                       '\n",
      "'                                             Hi, How are you'\n"
     ]
    }
   ],
   "source": [
    "fmsg = \"Hello\"\n",
    "msg = \"Hi, How are you\"\n",
    "\n",
    "print(repr(fmsg.ljust(60)))\n",
    "print(repr(msg.rjust(60)))"
   ]
  },
  {
   "cell_type": "markdown",
   "metadata": {},
   "source": [
    "**String Formatting**"
   ]
  },
  {
   "cell_type": "code",
   "execution_count": 85,
   "metadata": {},
   "outputs": [
    {
     "name": "stdout",
     "output_type": "stream",
     "text": [
      "name: sachin\n",
      "age: 24\n",
      "Hello!! Welcome mr. %s, you are %d years old.\n"
     ]
    }
   ],
   "source": [
    "name = input(\"name: \")\n",
    "age = int(input(\"age: \"))\n",
    "\n",
    "s = \"Hello!! Welcome mr. %s, you are %d years old.\"\n",
    "\n",
    "print(s)"
   ]
  },
  {
   "cell_type": "code",
   "execution_count": 86,
   "metadata": {},
   "outputs": [
    {
     "name": "stdout",
     "output_type": "stream",
     "text": [
      "Hello!!! Welcome mr.  sachin ,you are  24 years old.\n"
     ]
    }
   ],
   "source": [
    "print(\"Hello!!! Welcome mr. \", name, \",you are \", age, \"years old.\")"
   ]
  },
  {
   "cell_type": "markdown",
   "metadata": {},
   "source": [
    "    00 --> to restart your notebook"
   ]
  },
  {
   "cell_type": "code",
   "execution_count": 87,
   "metadata": {},
   "outputs": [
    {
     "name": "stdout",
     "output_type": "stream",
     "text": [
      "name: sachin\n",
      "age: 24\n",
      "Hello!! Welcome mr. sachin, you are 24 years old.\n"
     ]
    }
   ],
   "source": [
    "name = input(\"name: \")\n",
    "age = int(input(\"age: \"))\n",
    "# %s --> string\n",
    "# %d --> integer\n",
    "# %f --> float\n",
    "s = \"Hello!! Welcome mr. %s, you are %d years old.\"%(name, age)\n",
    "# old style formatting\n",
    "print(s)"
   ]
  },
  {
   "cell_type": "code",
   "execution_count": 89,
   "metadata": {},
   "outputs": [
    {
     "name": "stdout",
     "output_type": "stream",
     "text": [
      "Hello!! Welcome mr. sachin, you are 24 years old.\n"
     ]
    }
   ],
   "source": [
    "s = \"Hello!! Welcome mr. {}, you are {} years old.\".format(name, age)\n",
    "#                         0           1                     0,1\n",
    "print(s)"
   ]
  },
  {
   "cell_type": "code",
   "execution_count": 90,
   "metadata": {},
   "outputs": [],
   "source": [
    "x = 5\n",
    "y = 6\n",
    "\n",
    "s = \"\"\"\n",
    "x = {} \n",
    "y = {}\n",
    "\n",
    "x + y = {}\n",
    "x - y = {}\n",
    "x * y = {}\n",
    "x / y = {}\n",
    "\"\"\".format(x, y, x+y, x-y, x*y, x/y)"
   ]
  },
  {
   "cell_type": "code",
   "execution_count": 91,
   "metadata": {},
   "outputs": [
    {
     "name": "stdout",
     "output_type": "stream",
     "text": [
      "\n",
      "x = 5 \n",
      "y = 6\n",
      "\n",
      "x + y = 11\n",
      "x - y = -1\n",
      "x * y = 30\n",
      "x / y = 0.8333333333333334\n",
      "\n"
     ]
    }
   ],
   "source": [
    "print(s)"
   ]
  },
  {
   "cell_type": "markdown",
   "metadata": {},
   "source": [
    "#### leave application"
   ]
  },
  {
   "cell_type": "code",
   "execution_count": 92,
   "metadata": {},
   "outputs": [],
   "source": [
    "app =\"\"\"\n",
    "To\n",
    "    The Headmaster,\n",
    "    {}\n",
    "    Jaipur\n",
    "\n",
    "Sir,\n",
    "    My name is {}, I am a student of class {}.\n",
    "    Due to {} I am unable to attend classes for next {} days.\n",
    "    Kindly Grant me leave for {} days.\n",
    "\n",
    "    Thanks\n",
    "    \n",
    "Your Obediently,\n",
    "{}\n",
    "{}\n",
    "\n",
    "\"\"\""
   ]
  },
  {
   "cell_type": "code",
   "execution_count": 93,
   "metadata": {},
   "outputs": [
    {
     "name": "stdout",
     "output_type": "stream",
     "text": [
      "school name: AVM\n",
      "Name: sachin\n",
      "Class: cs b\n",
      "Reason: headache\n",
      "Days: 2\n",
      "Roll Number: 10021\n",
      "\n",
      "To\n",
      "    The Headmaster,\n",
      "    AVM\n",
      "    Jaipur\n",
      "\n",
      "Sir,\n",
      "    My name is sachin, I am a student of class cs b.\n",
      "    Due to headache I am unable to attend classes for next 2 days.\n",
      "    Kindly Grant me leave for 2 days.\n",
      "\n",
      "    Thanks\n",
      "    \n",
      "Your Obediently,\n",
      "sachin\n",
      "10021\n",
      "\n",
      "\n"
     ]
    }
   ],
   "source": [
    "school_name  = input(\"school name: \")\n",
    "name = input(\"Name: \")\n",
    "cl = input(\"Class: \")\n",
    "reason = input(\"Reason: \")\n",
    "days = input(\"Days: \")\n",
    "roll_no = input(\"Roll Number: \")\n",
    "\n",
    "s = app.format(school_name, name,  cl, reason, days, days, name, roll_no)\n",
    "print(s)"
   ]
  },
  {
   "cell_type": "code",
   "execution_count": 102,
   "metadata": {},
   "outputs": [],
   "source": [
    "s = \"{} is {} and {} squere is {} and {} cube is {}.\"\n",
    "#     0    1       2           3       4         5"
   ]
  },
  {
   "cell_type": "code",
   "execution_count": 103,
   "metadata": {},
   "outputs": [
    {
     "ename": "IndexError",
     "evalue": "tuple index out of range",
     "output_type": "error",
     "traceback": [
      "\u001b[1;31m---------------------------------------------------------------------------\u001b[0m",
      "\u001b[1;31mIndexError\u001b[0m                                Traceback (most recent call last)",
      "\u001b[1;32m<ipython-input-103-972b87fd64f5>\u001b[0m in \u001b[0;36m<module>\u001b[1;34m\u001b[0m\n\u001b[1;32m----> 1\u001b[1;33m \u001b[0ms\u001b[0m\u001b[1;33m.\u001b[0m\u001b[0mformat\u001b[0m\u001b[1;33m(\u001b[0m\u001b[0mx\u001b[0m\u001b[1;33m,\u001b[0m \u001b[0mx\u001b[0m\u001b[1;33m**\u001b[0m\u001b[1;36m2\u001b[0m\u001b[1;33m,\u001b[0m \u001b[0mx\u001b[0m\u001b[1;33m**\u001b[0m\u001b[1;36m3\u001b[0m\u001b[1;33m)\u001b[0m\u001b[1;33m\u001b[0m\u001b[1;33m\u001b[0m\u001b[0m\n\u001b[0m",
      "\u001b[1;31mIndexError\u001b[0m: tuple index out of range"
     ]
    }
   ],
   "source": [
    "s.format(x, x**2, x**3)"
   ]
  },
  {
   "cell_type": "code",
   "execution_count": 99,
   "metadata": {},
   "outputs": [
    {
     "name": "stdout",
     "output_type": "stream",
     "text": [
      "number: 13\n",
      "13 is 13 and 13 squere is 169 and 13 cube is 2197.\n"
     ]
    }
   ],
   "source": [
    "x = int(input(\"number: \"))\n",
    "\n",
    "print(s.format(x, x, x, x**2, x, x**3))"
   ]
  },
  {
   "cell_type": "code",
   "execution_count": 100,
   "metadata": {},
   "outputs": [
    {
     "name": "stdout",
     "output_type": "stream",
     "text": [
      "13 is 13 and 13 squere is 169 and 13 cube is 2197.\n"
     ]
    }
   ],
   "source": [
    "s = \"{0} is {1} and {2} squere is {3} and {4} cube is {5}.\"\n",
    "print(s.format(x, x, x, x**2, x, x**3))"
   ]
  },
  {
   "cell_type": "code",
   "execution_count": 101,
   "metadata": {},
   "outputs": [
    {
     "name": "stdout",
     "output_type": "stream",
     "text": [
      "13 is 13 and 13 squere is 169 and 13 cube is 2197.\n"
     ]
    }
   ],
   "source": [
    "s = \"{0} is {0} and {0} squere is {1} and {0} cube is {2}.\"\n",
    "print(s.format(x, x**2, x**3))"
   ]
  },
  {
   "cell_type": "markdown",
   "metadata": {},
   "source": [
    "**learn by doing**"
   ]
  },
  {
   "cell_type": "markdown",
   "metadata": {},
   "source": [
    "    Guido Van Rossum\n",
    "\n",
    "    10% dependes on trainer\n",
    "    \n",
    "    90% depends on learner"
   ]
  },
  {
   "cell_type": "code",
   "execution_count": 104,
   "metadata": {},
   "outputs": [
    {
     "name": "stdout",
     "output_type": "stream",
     "text": [
      "\n",
      "To\n",
      "    The Headmaster,\n",
      "    AVM\n",
      "    Jaipur\n",
      "\n",
      "Sir,\n",
      "    My name is sachin, I am a student of class cs b.\n",
      "    Due to headache I am unable to attend classes for next 2 days.\n",
      "    Kindly Grant me leave for 2 days.\n",
      "\n",
      "    Thanks\n",
      "    \n",
      "Your Obediently,\n",
      "sachin\n",
      "10021\n",
      "\n",
      "\n"
     ]
    }
   ],
   "source": [
    "app =\"\"\"\n",
    "To\n",
    "    The Headmaster,\n",
    "    {0}\n",
    "    Jaipur\n",
    "\n",
    "Sir,\n",
    "    My name is {1}, I am a student of class {2}.\n",
    "    Due to {3} I am unable to attend classes for next {4} days.\n",
    "    Kindly Grant me leave for {4} days.\n",
    "\n",
    "    Thanks\n",
    "    \n",
    "Your Obediently,\n",
    "{1}\n",
    "{5}\n",
    "\n",
    "\"\"\".format(school_name, name, cl, reason, days, roll_no)\n",
    "print(app)\n"
   ]
  },
  {
   "cell_type": "code",
   "execution_count": 105,
   "metadata": {},
   "outputs": [
    {
     "ename": "KeyError",
     "evalue": "'sn'",
     "output_type": "error",
     "traceback": [
      "\u001b[1;31m---------------------------------------------------------------------------\u001b[0m",
      "\u001b[1;31mKeyError\u001b[0m                                  Traceback (most recent call last)",
      "\u001b[1;32m<ipython-input-105-dfba2698f441>\u001b[0m in \u001b[0;36m<module>\u001b[1;34m\u001b[0m\n\u001b[0;32m     16\u001b[0m \u001b[1;33m{\u001b[0m\u001b[0mrn\u001b[0m\u001b[1;33m}\u001b[0m\u001b[1;33m\u001b[0m\u001b[1;33m\u001b[0m\u001b[0m\n\u001b[0;32m     17\u001b[0m \u001b[1;33m\u001b[0m\u001b[0m\n\u001b[1;32m---> 18\u001b[1;33m \"\"\".format(school_name, name, cl, reason, days, roll_no)\n\u001b[0m\u001b[0;32m     19\u001b[0m \u001b[0mprint\u001b[0m\u001b[1;33m(\u001b[0m\u001b[0mapp\u001b[0m\u001b[1;33m)\u001b[0m\u001b[1;33m\u001b[0m\u001b[1;33m\u001b[0m\u001b[0m\n",
      "\u001b[1;31mKeyError\u001b[0m: 'sn'"
     ]
    }
   ],
   "source": [
    "app =\"\"\"\n",
    "To\n",
    "    The Headmaster,\n",
    "    {sn}\n",
    "    Jaipur\n",
    "\n",
    "Sir,\n",
    "    My name is {n}, I am a student of class {cl}.\n",
    "    Due to {rs} I am unable to attend classes for next {ds} days.\n",
    "    Kindly Grant me leave for {ds} days.\n",
    "\n",
    "    Thanks\n",
    "    \n",
    "Your Obediently,\n",
    "{n}\n",
    "{rn}\n",
    "\n",
    "\"\"\".format(school_name, name, cl, reason, days, roll_no)\n",
    "print(app)\n"
   ]
  },
  {
   "cell_type": "code",
   "execution_count": 106,
   "metadata": {},
   "outputs": [
    {
     "name": "stdout",
     "output_type": "stream",
     "text": [
      "\n",
      "To\n",
      "    The Headmaster,\n",
      "    AVM\n",
      "    Jaipur\n",
      "\n",
      "Sir,\n",
      "    My name is sachin, I am a student of class cs b.\n",
      "    Due to headache I am unable to attend classes for next 2 days.\n",
      "    Kindly Grant me leave for 2 days.\n",
      "\n",
      "    Thanks\n",
      "    \n",
      "Your Obediently,\n",
      "sachin\n",
      "10021\n",
      "\n",
      "\n"
     ]
    }
   ],
   "source": [
    "app =\"\"\"\n",
    "To\n",
    "    The Headmaster,\n",
    "    {sn}\n",
    "    Jaipur\n",
    "\n",
    "Sir,\n",
    "    My name is {n}, I am a student of class {cl}.\n",
    "    Due to {rs} I am unable to attend classes for next {ds} days.\n",
    "    Kindly Grant me leave for {ds} days.\n",
    "\n",
    "    Thanks\n",
    "    \n",
    "Your Obediently,\n",
    "{n}\n",
    "{rn}\n",
    "\n",
    "\"\"\".format(sn=school_name, n=name, cl=cl, rs=reason, ds=days, rn=roll_no)\n",
    "print(app)\n"
   ]
  },
  {
   "cell_type": "markdown",
   "metadata": {},
   "source": [
    "#python version > 3.6"
   ]
  },
  {
   "cell_type": "code",
   "execution_count": 110,
   "metadata": {},
   "outputs": [
    {
     "name": "stdout",
     "output_type": "stream",
     "text": [
      "Python 3.7.4\n"
     ]
    }
   ],
   "source": [
    "!python --version"
   ]
  },
  {
   "cell_type": "code",
   "execution_count": 115,
   "metadata": {},
   "outputs": [
    {
     "name": "stdout",
     "output_type": "stream",
     "text": [
      "5 is 5 and 5 squre is 25 and 5 cube is 125\n",
      "5 is 5 and 5 squre is 25 and 5 cube is 125.\n",
      "5 is 5 and 5 squre is 25 and 5 cube is 125.\n",
      "5 is 5 and 5 squre is 25 and 5 cube is 125.\n"
     ]
    }
   ],
   "source": [
    "x = 5\n",
    "old  = \"%d is %d and %d squre is %d and %d cube is %d\"%(x, x, x, x**2, x, x**3)\n",
    "s1 = \"{} is {} and {} squre is {} and {} cube is {}.\".format(x, x, x, x**2, x, x**3)\n",
    "s2 = \"{0} is {0} and {0} squre is {1} and {0} cube is {2}.\".format(x, x**2, x**3)\n",
    "print(old)\n",
    "print(s1)\n",
    "print(s2)\n",
    "#fstring\n",
    "s3 = f\"{x} is {x} and {x} squre is {x**2} and {x} cube is {x**3}.\" # fstring --> 3.6\n",
    "print(s3)"
   ]
  },
  {
   "cell_type": "code",
   "execution_count": 117,
   "metadata": {},
   "outputs": [
    {
     "name": "stdout",
     "output_type": "stream",
     "text": [
      "x: 4\n",
      "y: 5\n",
      "\n",
      "x = {x}\n",
      "y = {y}\n",
      "x + y = {x+y}\n",
      "x  - y = {x-y}\n",
      "x * y = {x*y}\n",
      "x / y = {x/y}\n",
      "\n"
     ]
    }
   ],
   "source": [
    "x = int(input(\"x: \"))\n",
    "y = int(input(\"y: \"))\n",
    "s = \"\"\"\n",
    "x = {x}\n",
    "y = {y}\n",
    "x + y = {x+y}\n",
    "x  - y = {x-y}\n",
    "x * y = {x*y}\n",
    "x / y = {x/y}\n",
    "\"\"\"\n",
    "print(s)"
   ]
  },
  {
   "cell_type": "code",
   "execution_count": 118,
   "metadata": {},
   "outputs": [
    {
     "name": "stdout",
     "output_type": "stream",
     "text": [
      "x: 4\n",
      "y: 5\n",
      "\n",
      "x = 4\n",
      "y = 5\n",
      "x + y = 9\n",
      "x  - y = -1\n",
      "x * y = 20\n",
      "x / y = 0.8\n",
      "\n"
     ]
    }
   ],
   "source": [
    "x = int(input(\"x: \"))\n",
    "y = int(input(\"y: \"))\n",
    "s = f\"\"\"\n",
    "x = {x}\n",
    "y = {y}\n",
    "x + y = {x+y}\n",
    "x  - y = {x-y}\n",
    "x * y = {x*y}\n",
    "x / y = {x/y}\n",
    "\"\"\"\n",
    "print(s)"
   ]
  },
  {
   "cell_type": "code",
   "execution_count": 121,
   "metadata": {},
   "outputs": [
    {
     "name": "stdout",
     "output_type": "stream",
     "text": [
      "x: 4\n",
      "y: 5\n",
      "\n",
      "x =          4\n",
      "y =           5\n",
      "x + y =           9\n",
      "x  - y =           -1\n",
      "x * y =           20\n",
      "x / y =           0.8\n",
      "\n"
     ]
    }
   ],
   "source": [
    "x = int(input(\"x: \"))\n",
    "y = int(input(\"y: \"))\n",
    "s = f\"\"\"\n",
    "x {'=':<10} {x}\n",
    "y {'=':<10}  {y}\n",
    "x + y {'=':<10}  {x+y}\n",
    "x  - y {'=':<10}  {x-y}\n",
    "x * y {'=':<10}  {x*y}\n",
    "x / y {'=':<10}  {x/y}\n",
    "\"\"\"\n",
    "print(s)"
   ]
  },
  {
   "cell_type": "markdown",
   "metadata": {},
   "source": [
    "**split**\n",
    "\n",
    "**join**\n",
    "\n",
    "**partition**"
   ]
  },
  {
   "cell_type": "code",
   "execution_count": 122,
   "metadata": {},
   "outputs": [],
   "source": [
    "s = \"Hello world how are you ? \""
   ]
  },
  {
   "cell_type": "code",
   "execution_count": 123,
   "metadata": {},
   "outputs": [],
   "source": [
    "s1 = s.split()"
   ]
  },
  {
   "cell_type": "code",
   "execution_count": 124,
   "metadata": {},
   "outputs": [
    {
     "name": "stdout",
     "output_type": "stream",
     "text": [
      "['Hello', 'world', 'how', 'are', 'you', '?']\n"
     ]
    }
   ],
   "source": [
    "print(s1)"
   ]
  },
  {
   "cell_type": "code",
   "execution_count": 125,
   "metadata": {},
   "outputs": [],
   "source": [
    "s = \"Hello-world-how-are-you-?\""
   ]
  },
  {
   "cell_type": "code",
   "execution_count": 126,
   "metadata": {},
   "outputs": [
    {
     "name": "stdout",
     "output_type": "stream",
     "text": [
      "['Hello', 'world', 'how', 'are', 'you', '?']\n"
     ]
    }
   ],
   "source": [
    "s1 = s.split('-')\n",
    "print(s1)"
   ]
  },
  {
   "cell_type": "markdown",
   "metadata": {},
   "source": [
    "    split --> list"
   ]
  },
  {
   "cell_type": "code",
   "execution_count": 127,
   "metadata": {},
   "outputs": [],
   "source": [
    "s = \"Hello World How are you ?\""
   ]
  },
  {
   "cell_type": "code",
   "execution_count": 128,
   "metadata": {},
   "outputs": [
    {
     "data": {
      "text/plain": [
       "'? uoy era woH dlroW olleH'"
      ]
     },
     "execution_count": 128,
     "metadata": {},
     "output_type": "execute_result"
    }
   ],
   "source": [
    "s[::-1]"
   ]
  },
  {
   "cell_type": "code",
   "execution_count": 129,
   "metadata": {},
   "outputs": [],
   "source": [
    "ans = \"? you are How World Hello\""
   ]
  },
  {
   "cell_type": "code",
   "execution_count": 130,
   "metadata": {},
   "outputs": [
    {
     "name": "stdout",
     "output_type": "stream",
     "text": [
      "['Hello', 'World', 'How', 'are', 'you', '?']\n"
     ]
    }
   ],
   "source": [
    "s1 = s.split()\n",
    "print(s1)"
   ]
  },
  {
   "cell_type": "code",
   "execution_count": 131,
   "metadata": {},
   "outputs": [
    {
     "name": "stdout",
     "output_type": "stream",
     "text": [
      "<class 'list'>\n"
     ]
    }
   ],
   "source": [
    "print(type(s1))"
   ]
  },
  {
   "cell_type": "code",
   "execution_count": 135,
   "metadata": {},
   "outputs": [
    {
     "data": {
      "text/plain": [
       "['?', 'you', 'are', 'How', 'World', 'Hello']"
      ]
     },
     "execution_count": 135,
     "metadata": {},
     "output_type": "execute_result"
    }
   ],
   "source": [
    "s1[::-1]"
   ]
  },
  {
   "cell_type": "code",
   "execution_count": 136,
   "metadata": {},
   "outputs": [],
   "source": [
    "a = \" \".join(s1[::-1])"
   ]
  },
  {
   "cell_type": "code",
   "execution_count": 137,
   "metadata": {},
   "outputs": [
    {
     "name": "stdout",
     "output_type": "stream",
     "text": [
      "? you are How World Hello\n"
     ]
    }
   ],
   "source": [
    "print(a)"
   ]
  },
  {
   "cell_type": "code",
   "execution_count": 138,
   "metadata": {},
   "outputs": [],
   "source": [
    "s = \"Hello World How are you ?\""
   ]
  },
  {
   "cell_type": "code",
   "execution_count": 139,
   "metadata": {},
   "outputs": [],
   "source": [
    "s1 = s.split()"
   ]
  },
  {
   "cell_type": "code",
   "execution_count": 140,
   "metadata": {},
   "outputs": [
    {
     "name": "stdout",
     "output_type": "stream",
     "text": [
      "['Hello', 'World', 'How', 'are', 'you', '?']\n"
     ]
    }
   ],
   "source": [
    "print(s1)"
   ]
  },
  {
   "cell_type": "code",
   "execution_count": 141,
   "metadata": {},
   "outputs": [],
   "source": [
    "l = [ 'java', 'c', 'c++', 'ruby']"
   ]
  },
  {
   "cell_type": "code",
   "execution_count": 142,
   "metadata": {},
   "outputs": [],
   "source": [
    "n = \"<-->\".join(l)"
   ]
  },
  {
   "cell_type": "code",
   "execution_count": 143,
   "metadata": {},
   "outputs": [
    {
     "name": "stdout",
     "output_type": "stream",
     "text": [
      "java<-->c<-->c++<-->ruby\n"
     ]
    }
   ],
   "source": [
    "print(n)"
   ]
  },
  {
   "cell_type": "code",
   "execution_count": 144,
   "metadata": {},
   "outputs": [
    {
     "name": "stdout",
     "output_type": "stream",
     "text": [
      "<class 'str'>\n"
     ]
    }
   ],
   "source": [
    "print(type(n))"
   ]
  },
  {
   "cell_type": "code",
   "execution_count": 145,
   "metadata": {},
   "outputs": [
    {
     "ename": "TypeError",
     "evalue": "sequence item 4: expected str instance, int found",
     "output_type": "error",
     "traceback": [
      "\u001b[1;31m---------------------------------------------------------------------------\u001b[0m",
      "\u001b[1;31mTypeError\u001b[0m                                 Traceback (most recent call last)",
      "\u001b[1;32m<ipython-input-145-90941b39ac11>\u001b[0m in \u001b[0;36m<module>\u001b[1;34m\u001b[0m\n\u001b[0;32m      1\u001b[0m \u001b[0ml\u001b[0m \u001b[1;33m=\u001b[0m \u001b[1;33m[\u001b[0m \u001b[1;34m'java'\u001b[0m\u001b[1;33m,\u001b[0m \u001b[1;34m'c'\u001b[0m\u001b[1;33m,\u001b[0m \u001b[1;34m'c++'\u001b[0m\u001b[1;33m,\u001b[0m \u001b[1;34m'ruby'\u001b[0m \u001b[1;33m,\u001b[0m \u001b[1;36m1\u001b[0m\u001b[1;33m]\u001b[0m\u001b[1;33m\u001b[0m\u001b[1;33m\u001b[0m\u001b[0m\n\u001b[1;32m----> 2\u001b[1;33m \u001b[0mn\u001b[0m \u001b[1;33m=\u001b[0m \u001b[1;34m\" \"\u001b[0m\u001b[1;33m.\u001b[0m\u001b[0mjoin\u001b[0m\u001b[1;33m(\u001b[0m\u001b[0ml\u001b[0m\u001b[1;33m)\u001b[0m\u001b[1;33m\u001b[0m\u001b[1;33m\u001b[0m\u001b[0m\n\u001b[0m",
      "\u001b[1;31mTypeError\u001b[0m: sequence item 4: expected str instance, int found"
     ]
    }
   ],
   "source": [
    "l = [ 'java', 'c', 'c++', 'ruby' , 1]\n",
    "n = \" \".join(l)"
   ]
  },
  {
   "cell_type": "code",
   "execution_count": 146,
   "metadata": {},
   "outputs": [],
   "source": [
    "s =\"hello, sachin, how, \""
   ]
  },
  {
   "cell_type": "code",
   "execution_count": 147,
   "metadata": {},
   "outputs": [
    {
     "name": "stdout",
     "output_type": "stream",
     "text": [
      "['hello', 'sachin', 'how', '']\n"
     ]
    }
   ],
   "source": [
    "s1 = s.split(', ')\n",
    "print(s1)"
   ]
  },
  {
   "cell_type": "code",
   "execution_count": 149,
   "metadata": {},
   "outputs": [
    {
     "name": "stdout",
     "output_type": "stream",
     "text": [
      "java c c++ ruby 1\n"
     ]
    }
   ],
   "source": [
    "l = [ 'java', 'c', 'c++', 'ruby' , '1']\n",
    "n = \" \".join(l)\n",
    "print(n)"
   ]
  },
  {
   "cell_type": "code",
   "execution_count": 151,
   "metadata": {},
   "outputs": [],
   "source": [
    "s = \"-\".join('python')"
   ]
  },
  {
   "cell_type": "code",
   "execution_count": 152,
   "metadata": {},
   "outputs": [
    {
     "name": "stdout",
     "output_type": "stream",
     "text": [
      "p-y-t-h-o-n\n"
     ]
    }
   ],
   "source": [
    "print(s)"
   ]
  },
  {
   "cell_type": "code",
   "execution_count": 153,
   "metadata": {},
   "outputs": [
    {
     "data": {
      "text/plain": [
       "'p-y-t-h-o-n'"
      ]
     },
     "execution_count": 153,
     "metadata": {},
     "output_type": "execute_result"
    }
   ],
   "source": [
    "s"
   ]
  },
  {
   "cell_type": "code",
   "execution_count": 155,
   "metadata": {},
   "outputs": [],
   "source": [
    "s1 = s.split('-')"
   ]
  },
  {
   "cell_type": "code",
   "execution_count": 156,
   "metadata": {},
   "outputs": [
    {
     "name": "stdout",
     "output_type": "stream",
     "text": [
      "['p', 'y', 't', 'h', 'o', 'n']\n"
     ]
    }
   ],
   "source": [
    "print(s1)"
   ]
  },
  {
   "cell_type": "code",
   "execution_count": 157,
   "metadata": {},
   "outputs": [],
   "source": [
    "ha = \"\".join(s1)"
   ]
  },
  {
   "cell_type": "code",
   "execution_count": 158,
   "metadata": {},
   "outputs": [
    {
     "name": "stdout",
     "output_type": "stream",
     "text": [
      "python\n"
     ]
    }
   ],
   "source": [
    "print(ha)"
   ]
  },
  {
   "cell_type": "markdown",
   "metadata": {},
   "source": [
    "**List**"
   ]
  },
  {
   "cell_type": "code",
   "execution_count": 159,
   "metadata": {},
   "outputs": [],
   "source": [
    "shop_list = [ 'clothes', 'watch', 'shoes', 'salt', 'oil']"
   ]
  },
  {
   "cell_type": "code",
   "execution_count": 160,
   "metadata": {},
   "outputs": [
    {
     "name": "stdout",
     "output_type": "stream",
     "text": [
      "<class 'list'>\n"
     ]
    }
   ],
   "source": [
    "print(type(shop_list))"
   ]
  },
  {
   "cell_type": "code",
   "execution_count": 161,
   "metadata": {},
   "outputs": [
    {
     "name": "stdout",
     "output_type": "stream",
     "text": [
      "['__add__', '__class__', '__contains__', '__delattr__', '__delitem__', '__dir__', '__doc__', '__eq__', '__format__', '__ge__', '__getattribute__', '__getitem__', '__gt__', '__hash__', '__iadd__', '__imul__', '__init__', '__init_subclass__', '__iter__', '__le__', '__len__', '__lt__', '__mul__', '__ne__', '__new__', '__reduce__', '__reduce_ex__', '__repr__', '__reversed__', '__rmul__', '__setattr__', '__setitem__', '__sizeof__', '__str__', '__subclasshook__', 'append', 'clear', 'copy', 'count', 'extend', 'index', 'insert', 'pop', 'remove', 'reverse', 'sort']\n"
     ]
    }
   ],
   "source": [
    "print(dir(shop_list))"
   ]
  },
  {
   "cell_type": "markdown",
   "metadata": {},
   "source": [
    "**ordered**\n",
    "\n",
    "**sequential**\n",
    "\n",
    "**iterable, collection**\n",
    "\n",
    "**mutable**\n",
    "\n",
    "**homogenous or hetrogenous**\n",
    "\n",
    "**collection object**"
   ]
  },
  {
   "cell_type": "code",
   "execution_count": 162,
   "metadata": {},
   "outputs": [
    {
     "data": {
      "text/plain": [
       "['clothes', 'watch', 'shoes', 'salt', 'oil']"
      ]
     },
     "execution_count": 162,
     "metadata": {},
     "output_type": "execute_result"
    }
   ],
   "source": [
    "shop_list"
   ]
  },
  {
   "cell_type": "markdown",
   "metadata": {},
   "source": [
    "**to add element**\n",
    "\n",
    "    append(item) --> will add item at the end of list\n",
    "    \n",
    "    insert(loc, item) --> will add item in list at loc\n",
    "    \n",
    "    extend(iterable) --> will add each value from iterable at the end of list sequentially\n",
    "    \n",
    "**to delete element**\n",
    "\n",
    "    *pop() --> will delete last element\n",
    "    *pop(loc) --> will item on loc\n",
    "    remove(item) --> will search and delete first occurence of item else throw error\n",
    "    \n",
    "    "
   ]
  },
  {
   "cell_type": "code",
   "execution_count": 163,
   "metadata": {},
   "outputs": [
    {
     "data": {
      "text/plain": [
       "['clothes', 'watch', 'shoes', 'salt', 'oil']"
      ]
     },
     "execution_count": 163,
     "metadata": {},
     "output_type": "execute_result"
    }
   ],
   "source": [
    "shop_list"
   ]
  },
  {
   "cell_type": "code",
   "execution_count": 164,
   "metadata": {},
   "outputs": [],
   "source": [
    "shop_list.append('mobile')"
   ]
  },
  {
   "cell_type": "code",
   "execution_count": 165,
   "metadata": {},
   "outputs": [
    {
     "data": {
      "text/plain": [
       "['clothes', 'watch', 'shoes', 'salt', 'oil', 'mobile']"
      ]
     },
     "execution_count": 165,
     "metadata": {},
     "output_type": "execute_result"
    }
   ],
   "source": [
    "shop_list"
   ]
  },
  {
   "cell_type": "code",
   "execution_count": 166,
   "metadata": {},
   "outputs": [],
   "source": [
    "shop_list.insert(1, 'tie')"
   ]
  },
  {
   "cell_type": "code",
   "execution_count": 167,
   "metadata": {},
   "outputs": [
    {
     "data": {
      "text/plain": [
       "['clothes', 'tie', 'watch', 'shoes', 'salt', 'oil', 'mobile']"
      ]
     },
     "execution_count": 167,
     "metadata": {},
     "output_type": "execute_result"
    }
   ],
   "source": [
    "shop_list"
   ]
  },
  {
   "cell_type": "code",
   "execution_count": 168,
   "metadata": {},
   "outputs": [],
   "source": [
    "shop_list.extend(['bike', 'car', 'house',])"
   ]
  },
  {
   "cell_type": "code",
   "execution_count": 170,
   "metadata": {},
   "outputs": [
    {
     "name": "stdout",
     "output_type": "stream",
     "text": [
      "['clothes', 'tie', 'watch', 'shoes', 'salt', 'oil', 'mobile', 'bike', 'car', 'house']\n"
     ]
    }
   ],
   "source": [
    "print(shop_list)"
   ]
  },
  {
   "cell_type": "code",
   "execution_count": 171,
   "metadata": {},
   "outputs": [
    {
     "data": {
      "text/plain": [
       "'house'"
      ]
     },
     "execution_count": 171,
     "metadata": {},
     "output_type": "execute_result"
    }
   ],
   "source": [
    "shop_list.pop()"
   ]
  },
  {
   "cell_type": "code",
   "execution_count": 172,
   "metadata": {},
   "outputs": [
    {
     "data": {
      "text/plain": [
       "'shoes'"
      ]
     },
     "execution_count": 172,
     "metadata": {},
     "output_type": "execute_result"
    }
   ],
   "source": [
    "shop_list.pop(3)"
   ]
  },
  {
   "cell_type": "code",
   "execution_count": 173,
   "metadata": {},
   "outputs": [
    {
     "data": {
      "text/plain": [
       "['clothes', 'tie', 'watch', 'salt', 'oil', 'mobile', 'bike', 'car']"
      ]
     },
     "execution_count": 173,
     "metadata": {},
     "output_type": "execute_result"
    }
   ],
   "source": [
    "shop_list"
   ]
  },
  {
   "cell_type": "code",
   "execution_count": 174,
   "metadata": {},
   "outputs": [],
   "source": [
    "shop_list.remove('tie')"
   ]
  },
  {
   "cell_type": "code",
   "execution_count": 175,
   "metadata": {},
   "outputs": [
    {
     "data": {
      "text/plain": [
       "['clothes', 'watch', 'salt', 'oil', 'mobile', 'bike', 'car']"
      ]
     },
     "execution_count": 175,
     "metadata": {},
     "output_type": "execute_result"
    }
   ],
   "source": [
    "shop_list"
   ]
  },
  {
   "cell_type": "code",
   "execution_count": 176,
   "metadata": {},
   "outputs": [],
   "source": [
    "shop_list.sort()"
   ]
  },
  {
   "cell_type": "code",
   "execution_count": 177,
   "metadata": {},
   "outputs": [
    {
     "data": {
      "text/plain": [
       "['bike', 'car', 'clothes', 'mobile', 'oil', 'salt', 'watch']"
      ]
     },
     "execution_count": 177,
     "metadata": {},
     "output_type": "execute_result"
    }
   ],
   "source": [
    "shop_list"
   ]
  },
  {
   "cell_type": "code",
   "execution_count": 178,
   "metadata": {},
   "outputs": [],
   "source": [
    "shop_list.sort(reverse=True)"
   ]
  },
  {
   "cell_type": "code",
   "execution_count": 179,
   "metadata": {},
   "outputs": [
    {
     "data": {
      "text/plain": [
       "['watch', 'salt', 'oil', 'mobile', 'clothes', 'car', 'bike']"
      ]
     },
     "execution_count": 179,
     "metadata": {},
     "output_type": "execute_result"
    }
   ],
   "source": [
    "shop_list"
   ]
  },
  {
   "cell_type": "code",
   "execution_count": 180,
   "metadata": {},
   "outputs": [],
   "source": [
    "l = [ \n",
    "\n",
    "    [ 'ram', 56],\n",
    "    [ 'shyam', 80],\n",
    "    [ 'syed', 78],\n",
    "    [ 'jhon', 77]\n",
    "]"
   ]
  },
  {
   "cell_type": "code",
   "execution_count": 181,
   "metadata": {},
   "outputs": [
    {
     "name": "stdout",
     "output_type": "stream",
     "text": [
      "[['ram', 56], ['shyam', 80], ['syed', 78], ['jhon', 77]]\n"
     ]
    }
   ],
   "source": [
    "print(l)"
   ]
  },
  {
   "cell_type": "code",
   "execution_count": 182,
   "metadata": {},
   "outputs": [
    {
     "data": {
      "text/plain": [
       "['ram', 56]"
      ]
     },
     "execution_count": 182,
     "metadata": {},
     "output_type": "execute_result"
    }
   ],
   "source": [
    "l[0]"
   ]
  },
  {
   "cell_type": "code",
   "execution_count": 183,
   "metadata": {},
   "outputs": [
    {
     "data": {
      "text/plain": [
       "[['ram', 56], ['shyam', 80], ['syed', 78], ['jhon', 77]]"
      ]
     },
     "execution_count": 183,
     "metadata": {},
     "output_type": "execute_result"
    }
   ],
   "source": [
    "l[:5]"
   ]
  },
  {
   "cell_type": "code",
   "execution_count": 184,
   "metadata": {},
   "outputs": [
    {
     "data": {
      "text/plain": [
       "[['jhon', 77], ['syed', 78], ['shyam', 80], ['ram', 56]]"
      ]
     },
     "execution_count": 184,
     "metadata": {},
     "output_type": "execute_result"
    }
   ],
   "source": [
    "l[::-1]"
   ]
  },
  {
   "cell_type": "code",
   "execution_count": 185,
   "metadata": {},
   "outputs": [],
   "source": [
    "l.sort()"
   ]
  },
  {
   "cell_type": "code",
   "execution_count": 186,
   "metadata": {},
   "outputs": [
    {
     "data": {
      "text/plain": [
       "[['jhon', 77], ['ram', 56], ['shyam', 80], ['syed', 78]]"
      ]
     },
     "execution_count": 186,
     "metadata": {},
     "output_type": "execute_result"
    }
   ],
   "source": [
    "l"
   ]
  },
  {
   "cell_type": "code",
   "execution_count": 188,
   "metadata": {},
   "outputs": [],
   "source": [
    "from operator import itemgetter"
   ]
  },
  {
   "cell_type": "code",
   "execution_count": 189,
   "metadata": {},
   "outputs": [],
   "source": [
    "l.sort(reverse=True, key=itemgetter(1))"
   ]
  },
  {
   "cell_type": "code",
   "execution_count": 190,
   "metadata": {},
   "outputs": [
    {
     "data": {
      "text/plain": [
       "[['shyam', 80], ['syed', 78], ['jhon', 77], ['ram', 56]]"
      ]
     },
     "execution_count": 190,
     "metadata": {},
     "output_type": "execute_result"
    }
   ],
   "source": [
    "l"
   ]
  },
  {
   "cell_type": "code",
   "execution_count": null,
   "metadata": {},
   "outputs": [],
   "source": []
  }
 ],
 "metadata": {
  "kernelspec": {
   "display_name": "Python 3",
   "language": "python",
   "name": "python3"
  },
  "language_info": {
   "codemirror_mode": {
    "name": "ipython",
    "version": 3
   },
   "file_extension": ".py",
   "mimetype": "text/x-python",
   "name": "python",
   "nbconvert_exporter": "python",
   "pygments_lexer": "ipython3",
   "version": "3.7.4"
  }
 },
 "nbformat": 4,
 "nbformat_minor": 2
}
