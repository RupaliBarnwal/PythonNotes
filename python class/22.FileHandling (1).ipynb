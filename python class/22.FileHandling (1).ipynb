{
 "cells": [
  {
   "cell_type": "markdown",
   "metadata": {},
   "source": [
    "**File Handling**"
   ]
  },
  {
   "cell_type": "code",
   "execution_count": 1,
   "metadata": {},
   "outputs": [],
   "source": [
    "import time"
   ]
  },
  {
   "cell_type": "code",
   "execution_count": 7,
   "metadata": {},
   "outputs": [
    {
     "data": {
      "text/plain": [
       "'19:07'"
      ]
     },
     "execution_count": 7,
     "metadata": {},
     "output_type": "execute_result"
    }
   ],
   "source": [
    "time.ctime()[11:16]"
   ]
  },
  {
   "cell_type": "code",
   "execution_count": 21,
   "metadata": {},
   "outputs": [],
   "source": [
    "class Person:\n",
    "    def __init__(self, name):\n",
    "        self.name = name\n",
    "    def __str__(self):\n",
    "        return self.name\n",
    "    def awake(self):\n",
    "        if time.ctime()[11:16] != '19:11':\n",
    "            return True\n",
    "        print(\"Sleep Now\")\n",
    "        return False\n",
    "    def code(self):\n",
    "        print(f\"!!mr. {self.name} !!! do code do code do code!!\")\n",
    "        time.sleep(2)"
   ]
  },
  {
   "cell_type": "code",
   "execution_count": 22,
   "metadata": {},
   "outputs": [],
   "source": [
    "me = Person('Sachin Yadav')"
   ]
  },
  {
   "cell_type": "code",
   "execution_count": 23,
   "metadata": {},
   "outputs": [
    {
     "name": "stdout",
     "output_type": "stream",
     "text": [
      "Sachin Yadav\n"
     ]
    }
   ],
   "source": [
    "print(me)"
   ]
  },
  {
   "cell_type": "code",
   "execution_count": 24,
   "metadata": {},
   "outputs": [
    {
     "name": "stdout",
     "output_type": "stream",
     "text": [
      "!!mr. Sachin Yadav !!! do code do code do code!!\n",
      "!!mr. Sachin Yadav !!! do code do code do code!!\n",
      "!!mr. Sachin Yadav !!! do code do code do code!!\n",
      "!!mr. Sachin Yadav !!! do code do code do code!!\n",
      "!!mr. Sachin Yadav !!! do code do code do code!!\n",
      "!!mr. Sachin Yadav !!! do code do code do code!!\n",
      "!!mr. Sachin Yadav !!! do code do code do code!!\n",
      "!!mr. Sachin Yadav !!! do code do code do code!!\n",
      "!!mr. Sachin Yadav !!! do code do code do code!!\n",
      "!!mr. Sachin Yadav !!! do code do code do code!!\n",
      "!!mr. Sachin Yadav !!! do code do code do code!!\n",
      "!!mr. Sachin Yadav !!! do code do code do code!!\n",
      "!!mr. Sachin Yadav !!! do code do code do code!!\n",
      "!!mr. Sachin Yadav !!! do code do code do code!!\n",
      "!!mr. Sachin Yadav !!! do code do code do code!!\n",
      "!!mr. Sachin Yadav !!! do code do code do code!!\n",
      "!!mr. Sachin Yadav !!! do code do code do code!!\n",
      "!!mr. Sachin Yadav !!! do code do code do code!!\n",
      "!!mr. Sachin Yadav !!! do code do code do code!!\n",
      "!!mr. Sachin Yadav !!! do code do code do code!!\n",
      "!!mr. Sachin Yadav !!! do code do code do code!!\n",
      "!!mr. Sachin Yadav !!! do code do code do code!!\n",
      "!!mr. Sachin Yadav !!! do code do code do code!!\n",
      "!!mr. Sachin Yadav !!! do code do code do code!!\n",
      "Sleep Now\n"
     ]
    }
   ],
   "source": [
    "while me.awake():\n",
    "    me.code()"
   ]
  },
  {
   "cell_type": "code",
   "execution_count": 26,
   "metadata": {},
   "outputs": [
    {
     "name": "stdout",
     "output_type": "stream",
     "text": [
      "Hello World!\n"
     ]
    }
   ],
   "source": [
    "print(\"Hello World!\")"
   ]
  },
  {
   "cell_type": "markdown",
   "metadata": {},
   "source": [
    "## Os Module to use utility of your operating system\n",
    "\n",
    "\n",
    "\n",
    "    Path -> Absolute and relative, location of files "
   ]
  },
  {
   "cell_type": "markdown",
   "metadata": {},
   "source": [
    "### File Handling"
   ]
  },
  {
   "cell_type": "markdown",
   "metadata": {},
   "source": [
    "**Type of Files**\n",
    "\n",
    "    Regular files, text files, human readble files\n",
    "    \n",
    "    Byte files, Binary files, machine or program readable files"
   ]
  },
  {
   "cell_type": "markdown",
   "metadata": {},
   "source": [
    "**syntax**\n",
    "\n",
    "\n",
    "    fp = open(path, mode, encoding)\n",
    "\n",
    "    fp.read()\n",
    "    \n",
    "    fp.write(strings/bytes)\n",
    "    \n",
    "    fp.readline()\n",
    "    \n",
    "    fp.seek(12)\n",
    "    \n",
    "    fp.tell()\n",
    "    \n",
    "    fp.close()"
   ]
  },
  {
   "cell_type": "markdown",
   "metadata": {},
   "source": [
    "    path -> absolute path that start from root directory or / , relative path which starts from current directory fname\n"
   ]
  },
  {
   "cell_type": "markdown",
   "metadata": {},
   "source": [
    "**Mode of Operation on a File**\n",
    "\n",
    "    r - read only file, set by default\n",
    "    \n",
    "    w - write only file, over-write existing file if exists\n",
    "    \n",
    "    x - write only file, always creates a new file, through an error if file exists\n",
    "    \n",
    "    a - append only mode, always add content at the end of file\n",
    "    \n",
    "    t - regular file, text file, set by default\n",
    "    \n",
    "    b - byte file\n",
    "    \n",
    "    + - give you permission to read and write into file at same time\n",
    "    "
   ]
  },
  {
   "cell_type": "markdown",
   "metadata": {},
   "source": [
    "    if you do not pass any mode it bydefault is rt\n",
    "    \n",
    "    rt+ - read and write a text file \n",
    "    \n",
    "    ab+ - append and read a binary file \n",
    "    \n",
    "    wt - write only text file, over-write content if exists\n",
    "    \n",
    "    xb+ - new file with read write access\n",
    "    \n",
    "    a   - append only text file\n",
    "    \n",
    "    "
   ]
  },
  {
   "cell_type": "markdown",
   "metadata": {},
   "source": [
    "    buffering ? \n",
    "    \n",
    "        "
   ]
  },
  {
   "cell_type": "markdown",
   "metadata": {},
   "source": [
    "    Path, mode, encoding "
   ]
  },
  {
   "cell_type": "code",
   "execution_count": 27,
   "metadata": {},
   "outputs": [],
   "source": [
    "path = \"C:\\\\users\\\\sachin\\\\Desktop\\\\hadoop.py\""
   ]
  },
  {
   "cell_type": "code",
   "execution_count": 28,
   "metadata": {},
   "outputs": [],
   "source": [
    "import os"
   ]
  },
  {
   "cell_type": "code",
   "execution_count": 29,
   "metadata": {},
   "outputs": [
    {
     "data": {
      "text/plain": [
       "True"
      ]
     },
     "execution_count": 29,
     "metadata": {},
     "output_type": "execute_result"
    }
   ],
   "source": [
    "os.path.exists(path)"
   ]
  },
  {
   "cell_type": "code",
   "execution_count": 30,
   "metadata": {},
   "outputs": [
    {
     "data": {
      "text/plain": [
       "True"
      ]
     },
     "execution_count": 30,
     "metadata": {},
     "output_type": "execute_result"
    }
   ],
   "source": [
    "os.path.isfile(path)"
   ]
  },
  {
   "cell_type": "code",
   "execution_count": 31,
   "metadata": {},
   "outputs": [
    {
     "data": {
      "text/plain": [
       "True"
      ]
     },
     "execution_count": 31,
     "metadata": {},
     "output_type": "execute_result"
    }
   ],
   "source": [
    "os.access(path, os.R_OK)"
   ]
  },
  {
   "cell_type": "code",
   "execution_count": 32,
   "metadata": {},
   "outputs": [
    {
     "ename": "FileNotFoundError",
     "evalue": "[Errno 2] No such file or directory: 'aljfsjdkfjdslfjas'",
     "output_type": "error",
     "traceback": [
      "\u001b[1;31m---------------------------------------------------------------------------\u001b[0m",
      "\u001b[1;31mFileNotFoundError\u001b[0m                         Traceback (most recent call last)",
      "\u001b[1;32m<ipython-input-32-dc925fea5a1e>\u001b[0m in \u001b[0;36m<module>\u001b[1;34m\u001b[0m\n\u001b[1;32m----> 1\u001b[1;33m \u001b[0mfp\u001b[0m \u001b[1;33m=\u001b[0m \u001b[0mopen\u001b[0m\u001b[1;33m(\u001b[0m\u001b[1;34m'aljfsjdkfjdslfjas'\u001b[0m\u001b[1;33m)\u001b[0m\u001b[1;33m\u001b[0m\u001b[1;33m\u001b[0m\u001b[0m\n\u001b[0m",
      "\u001b[1;31mFileNotFoundError\u001b[0m: [Errno 2] No such file or directory: 'aljfsjdkfjdslfjas'"
     ]
    }
   ],
   "source": [
    "fp = open('aljfsjdkfjdslfjas')\n",
    "# Exceptions or runtime errors or logical errors"
   ]
  },
  {
   "cell_type": "code",
   "execution_count": 33,
   "metadata": {},
   "outputs": [],
   "source": [
    "path = \"C:\\\\users\\\\sachin\\\\Desktop\\\\hadoop.py\""
   ]
  },
  {
   "cell_type": "code",
   "execution_count": 34,
   "metadata": {},
   "outputs": [],
   "source": [
    "mode = 'rt'"
   ]
  },
  {
   "cell_type": "code",
   "execution_count": 35,
   "metadata": {},
   "outputs": [],
   "source": [
    "encoding = 'utf-8'"
   ]
  },
  {
   "cell_type": "code",
   "execution_count": 36,
   "metadata": {},
   "outputs": [],
   "source": [
    "fp = open(path, mode, -1, encoding)"
   ]
  },
  {
   "cell_type": "code",
   "execution_count": 38,
   "metadata": {},
   "outputs": [
    {
     "name": "stdout",
     "output_type": "stream",
     "text": [
      "mode:  rt\n"
     ]
    }
   ],
   "source": [
    "print(\"mode: \", fp.mode)"
   ]
  },
  {
   "cell_type": "code",
   "execution_count": 39,
   "metadata": {},
   "outputs": [
    {
     "name": "stdout",
     "output_type": "stream",
     "text": [
      "name:  C:\\users\\sachin\\Desktop\\hadoop.py\n"
     ]
    }
   ],
   "source": [
    "print(\"name: \", fp.name)"
   ]
  },
  {
   "cell_type": "code",
   "execution_count": 40,
   "metadata": {},
   "outputs": [
    {
     "name": "stdout",
     "output_type": "stream",
     "text": [
      "encoding:  utf-8\n"
     ]
    }
   ],
   "source": [
    "print(\"encoding: \", fp.encoding)"
   ]
  },
  {
   "cell_type": "code",
   "execution_count": 41,
   "metadata": {},
   "outputs": [
    {
     "name": "stdout",
     "output_type": "stream",
     "text": [
      "closed?:  False\n"
     ]
    }
   ],
   "source": [
    "print(\"closed?: \", fp.closed)"
   ]
  },
  {
   "cell_type": "code",
   "execution_count": 42,
   "metadata": {},
   "outputs": [
    {
     "name": "stdout",
     "output_type": "stream",
     "text": [
      "readable ?:  True\n"
     ]
    }
   ],
   "source": [
    "print(\"readable ?: \", fp.readable())"
   ]
  },
  {
   "cell_type": "code",
   "execution_count": 43,
   "metadata": {},
   "outputs": [
    {
     "name": "stdout",
     "output_type": "stream",
     "text": [
      "writeable ?:  False\n"
     ]
    }
   ],
   "source": [
    "print(\"writeable ?: \", fp.writable())"
   ]
  },
  {
   "cell_type": "code",
   "execution_count": 44,
   "metadata": {},
   "outputs": [
    {
     "name": "stdout",
     "output_type": "stream",
     "text": [
      "seekable ?:  True\n"
     ]
    }
   ],
   "source": [
    "print(\"seekable ?: \", fp.seekable())"
   ]
  },
  {
   "cell_type": "code",
   "execution_count": 45,
   "metadata": {},
   "outputs": [
    {
     "name": "stdout",
     "output_type": "stream",
     "text": [
      "buffer\n",
      "close\n",
      "closed\n",
      "detach\n",
      "encoding\n",
      "errors\n",
      "fileno\n",
      "flush\n",
      "isatty\n",
      "line_buffering\n",
      "mode\n",
      "name\n",
      "newlines\n",
      "read\n",
      "readable\n",
      "readline\n",
      "readlines\n",
      "reconfigure\n",
      "seek\n",
      "seekable\n",
      "tell\n",
      "truncate\n",
      "writable\n",
      "write\n",
      "write_through\n",
      "writelines\n"
     ]
    }
   ],
   "source": [
    "print( *[ func for func in dir(fp) if func[0].islower() ], sep='\\n' )"
   ]
  },
  {
   "cell_type": "code",
   "execution_count": 46,
   "metadata": {},
   "outputs": [
    {
     "name": "stdout",
     "output_type": "stream",
     "text": [
      "<class '_io.TextIOWrapper'>\n"
     ]
    }
   ],
   "source": [
    "print(type(fp))"
   ]
  },
  {
   "cell_type": "code",
   "execution_count": 47,
   "metadata": {},
   "outputs": [],
   "source": [
    "fp.newlines"
   ]
  },
  {
   "cell_type": "markdown",
   "metadata": {},
   "source": [
    "    new line -> line break or new line character depends system specific\n",
    "    \n",
    "    window -> \\r\\n\n",
    "    \n",
    "    linux / unix -> \\n"
   ]
  },
  {
   "cell_type": "code",
   "execution_count": 48,
   "metadata": {},
   "outputs": [
    {
     "data": {
      "text/plain": [
       "0"
      ]
     },
     "execution_count": 48,
     "metadata": {},
     "output_type": "execute_result"
    }
   ],
   "source": [
    "fp.tell() # at which pos we are at current time"
   ]
  },
  {
   "cell_type": "code",
   "execution_count": 49,
   "metadata": {},
   "outputs": [],
   "source": [
    "size = 10\n",
    "chars_10 = fp.read(size)"
   ]
  },
  {
   "cell_type": "code",
   "execution_count": 50,
   "metadata": {},
   "outputs": [
    {
     "name": "stdout",
     "output_type": "stream",
     "text": [
      "#!/usr/loc\n"
     ]
    }
   ],
   "source": [
    "print(chars_10)"
   ]
  },
  {
   "cell_type": "code",
   "execution_count": 51,
   "metadata": {},
   "outputs": [
    {
     "data": {
      "text/plain": [
       "10"
      ]
     },
     "execution_count": 51,
     "metadata": {},
     "output_type": "execute_result"
    }
   ],
   "source": [
    "fp.tell()"
   ]
  },
  {
   "cell_type": "code",
   "execution_count": 52,
   "metadata": {},
   "outputs": [],
   "source": [
    "next_10 = fp.read(size)"
   ]
  },
  {
   "cell_type": "code",
   "execution_count": 53,
   "metadata": {},
   "outputs": [
    {
     "name": "stdout",
     "output_type": "stream",
     "text": [
      "al/anacond\n"
     ]
    }
   ],
   "source": [
    "print(next_10)"
   ]
  },
  {
   "cell_type": "code",
   "execution_count": 54,
   "metadata": {},
   "outputs": [
    {
     "name": "stdout",
     "output_type": "stream",
     "text": [
      "a3/bin/pyt\n"
     ]
    }
   ],
   "source": [
    "next_10 = fp.read(size)\n",
    "print(next_10)"
   ]
  },
  {
   "cell_type": "code",
   "execution_count": 55,
   "metadata": {},
   "outputs": [
    {
     "name": "stdout",
     "output_type": "stream",
     "text": [
      "hon\n",
      "\n",
      "from \n"
     ]
    }
   ],
   "source": [
    "next_10 = fp.read(size)\n",
    "print(next_10)"
   ]
  },
  {
   "cell_type": "code",
   "execution_count": 56,
   "metadata": {},
   "outputs": [
    {
     "data": {
      "text/plain": [
       "40"
      ]
     },
     "execution_count": 56,
     "metadata": {},
     "output_type": "execute_result"
    }
   ],
   "source": [
    "fp.tell()"
   ]
  },
  {
   "cell_type": "code",
   "execution_count": 57,
   "metadata": {},
   "outputs": [
    {
     "data": {
      "text/plain": [
       "0"
      ]
     },
     "execution_count": 57,
     "metadata": {},
     "output_type": "execute_result"
    }
   ],
   "source": [
    "fp.seek(0)"
   ]
  },
  {
   "cell_type": "code",
   "execution_count": 58,
   "metadata": {},
   "outputs": [
    {
     "data": {
      "text/plain": [
       "0"
      ]
     },
     "execution_count": 58,
     "metadata": {},
     "output_type": "execute_result"
    }
   ],
   "source": [
    "fp.tell()"
   ]
  },
  {
   "cell_type": "code",
   "execution_count": 59,
   "metadata": {},
   "outputs": [],
   "source": [
    "line = fp.read(35)"
   ]
  },
  {
   "cell_type": "code",
   "execution_count": 60,
   "metadata": {},
   "outputs": [
    {
     "name": "stdout",
     "output_type": "stream",
     "text": [
      "#!/usr/local/anaconda3/bin/python\n",
      "\n",
      "\n"
     ]
    }
   ],
   "source": [
    "print(line)"
   ]
  },
  {
   "cell_type": "code",
   "execution_count": 61,
   "metadata": {},
   "outputs": [
    {
     "data": {
      "text/plain": [
       "'from '"
      ]
     },
     "execution_count": 61,
     "metadata": {},
     "output_type": "execute_result"
    }
   ],
   "source": [
    "fp.read(5)"
   ]
  },
  {
   "cell_type": "code",
   "execution_count": 62,
   "metadata": {},
   "outputs": [
    {
     "data": {
      "text/plain": [
       "0"
      ]
     },
     "execution_count": 62,
     "metadata": {},
     "output_type": "execute_result"
    }
   ],
   "source": [
    "fp.seek(0)"
   ]
  },
  {
   "cell_type": "code",
   "execution_count": 63,
   "metadata": {},
   "outputs": [],
   "source": [
    "line = fp.readline()"
   ]
  },
  {
   "cell_type": "code",
   "execution_count": 64,
   "metadata": {},
   "outputs": [
    {
     "name": "stdout",
     "output_type": "stream",
     "text": [
      "#!/usr/local/anaconda3/bin/python\n",
      "\n"
     ]
    }
   ],
   "source": [
    "print(line)"
   ]
  },
  {
   "cell_type": "code",
   "execution_count": 65,
   "metadata": {},
   "outputs": [
    {
     "name": "stdout",
     "output_type": "stream",
     "text": [
      "\n",
      "\n"
     ]
    }
   ],
   "source": [
    "print(fp.readline())"
   ]
  },
  {
   "cell_type": "code",
   "execution_count": 66,
   "metadata": {},
   "outputs": [
    {
     "name": "stdout",
     "output_type": "stream",
     "text": [
      "from flask import Flask, request\n",
      "\n"
     ]
    }
   ],
   "source": [
    "print(fp.readline())"
   ]
  },
  {
   "cell_type": "code",
   "execution_count": 67,
   "metadata": {},
   "outputs": [
    {
     "name": "stdout",
     "output_type": "stream",
     "text": [
      "import subprocess as sp\n",
      "\n"
     ]
    }
   ],
   "source": [
    "print(fp.readline())"
   ]
  },
  {
   "cell_type": "code",
   "execution_count": 68,
   "metadata": {},
   "outputs": [
    {
     "data": {
      "text/plain": [
       "0"
      ]
     },
     "execution_count": 68,
     "metadata": {},
     "output_type": "execute_result"
    }
   ],
   "source": [
    "fp.seek(0)"
   ]
  },
  {
   "cell_type": "code",
   "execution_count": 69,
   "metadata": {},
   "outputs": [
    {
     "name": "stdout",
     "output_type": "stream",
     "text": [
      "#!/usr/local/anaconda3/bin/python\n",
      "\n",
      "from flask import Flask, request\n",
      "import subprocess as sp\n",
      "\n",
      "app = Flask(__name__)\n",
      "\n",
      "@app.route('/')\n",
      "def index():\n",
      "    html=f\"\"\"\n",
      "    <!Doctype html>\n",
      "        <html>\n",
      "            <body>\n",
      "                <h1 style='color:red'>Welcome to Hadoop Commnad Service </h1>\n",
      "                <form method='POST' action='/run'>\n",
      "                <p><label>Command: </label><input type='text' name='cmd'></p>\n",
      "                <p><input type='submit' value='Run Code'>\n",
      "                </form>\n",
      "            </body>\n",
      "        </html>\n",
      "    \"\"\"\n",
      "    return html\n",
      "\n",
      "@app.route('/run', methods=['POST'])\n",
      "def run():\n",
      "    html = \"<h1 style='color:#123456'>Here is Your Output <a href='/'>Home</a></h1></br></br></br>\"\n",
      "    cmd = request.form.get('cmd')\n",
      "    output = sp.getoutput('hdfs dfs -'+cmd)\n",
      "    output = output.replace('\\n', '</br>')\n",
      "    output = output.replace('\\t', '&nbsp;&nbsp;&nbsp; &nbsp;&nbsp;&nbsp;&nbsp;&nbsp;')\n",
      "    return html+output\n",
      "\n",
      "\n",
      "if __name__ == '__main__':\n",
      "\n",
      "    app.run('172.25.5.10', 80, debug=True)\n",
      "\n",
      "\n"
     ]
    }
   ],
   "source": [
    "all_data = fp.read()\n",
    "print(all_data)"
   ]
  },
  {
   "cell_type": "code",
   "execution_count": 70,
   "metadata": {},
   "outputs": [
    {
     "name": "stdout",
     "output_type": "stream",
     "text": [
      "\n"
     ]
    }
   ],
   "source": [
    "print(fp.read())"
   ]
  },
  {
   "cell_type": "code",
   "execution_count": 71,
   "metadata": {},
   "outputs": [
    {
     "data": {
      "text/plain": [
       "0"
      ]
     },
     "execution_count": 71,
     "metadata": {},
     "output_type": "execute_result"
    }
   ],
   "source": []
  },
  {
   "cell_type": "code",
   "execution_count": 78,
   "metadata": {},
   "outputs": [
    {
     "name": "stdout",
     "output_type": "stream",
     "text": [
      "#!/USR/LOCAL/ANACONDA3/BIN/PYTHON\n",
      "\n",
      "FROM FLASK IMPORT FLASK, REQUEST\n",
      "IMPORT SUBPROCESS AS SP\n",
      "\n",
      "APP = FLASK(__NAME__)\n",
      "\n",
      "@APP.ROUTE('/')\n",
      "DEF INDEX():\n",
      "    HTML=F\"\"\"\n",
      "    <!DOCTYPE HTML>\n",
      "        <HTML>\n",
      "            <BODY>\n",
      "                <H1 STYLE='COLOR:RED'>WELCOME TO HADOOP COMMNAD SERVICE </H1>\n",
      "                <FORM METHOD='POST' ACTION='/RUN'>\n",
      "                <P><LABEL>COMMAND: </LABEL><INPUT TYPE='TEXT' NAME='CMD'></P>\n",
      "                <P><INPUT TYPE='SUBMIT' VALUE='RUN CODE'>\n",
      "                </FORM>\n",
      "            </BODY>\n",
      "        </HTML>\n",
      "    \"\"\"\n",
      "    RETURN HTML\n",
      "\n",
      "@APP.ROUTE('/RUN', METHODS=['POST'])\n",
      "DEF RUN():\n",
      "    HTML = \"<H1 STYLE='COLOR:#123456'>HERE IS YOUR OUTPUT <A HREF='/'>HOME</A></H1></BR></BR></BR>\"\n",
      "    CMD = REQUEST.FORM.GET('CMD')\n",
      "    OUTPUT = SP.GETOUTPUT('HDFS DFS -'+CMD)\n",
      "    OUTPUT = OUTPUT.REPLACE('\\N', '</BR>')\n",
      "    OUTPUT = OUTPUT.REPLACE('\\T', '&NBSP;&NBSP;&NBSP; &NBSP;&NBSP;&NBSP;&NBSP;&NBSP;')\n",
      "    RETURN HTML+OUTPUT\n",
      "\n",
      "\n",
      "IF __NAME__ == '__MAIN__':\n",
      "\n",
      "    APP.RUN('172.25.5.10', 80, DEBUG=TRUE)\n",
      "\n"
     ]
    }
   ],
   "source": [
    "fp.seek(0)\n",
    "for line in fp:\n",
    "    print(line.upper(), end='')"
   ]
  },
  {
   "cell_type": "code",
   "execution_count": 79,
   "metadata": {},
   "outputs": [],
   "source": [
    "fp.close() # to free buffer space and resource lock"
   ]
  },
  {
   "cell_type": "markdown",
   "metadata": {},
   "source": [
    "#### Context Managers\n",
    "\n",
    "    they resource automatically such that if you forgot to close file after processing they will close to save your resource and to prevent deadlock situation"
   ]
  },
  {
   "cell_type": "code",
   "execution_count": 80,
   "metadata": {},
   "outputs": [],
   "source": [
    "path = 'C:\\\\users\\\\sachin\\\\Desktop\\\\hadoop.py'\n",
    "mode = 'rt'\n",
    "encoding = 'utf-8'"
   ]
  },
  {
   "cell_type": "code",
   "execution_count": 81,
   "metadata": {},
   "outputs": [
    {
     "name": "stdout",
     "output_type": "stream",
     "text": [
      "#!/usr/local/anaconda3/bin/python\n",
      "\n",
      "from flask import Flask, request\n",
      "import subprocess as sp\n",
      "\n",
      "app = Flask(__name__)\n",
      "\n",
      "@app.route('/')\n",
      "def index():\n",
      "    html=f\"\"\"\n",
      "    <!Doctype html>\n",
      "        <html>\n",
      "            <body>\n",
      "                <h1 style='color:red'>Welcome to Hadoop Commnad Service </h1>\n",
      "                <form method='POST' action='/run'>\n",
      "                <p><label>Command: </label><input type='text' name='cmd'></p>\n",
      "                <p><input type='submit' value='Run Code'>\n",
      "                </form>\n",
      "            </body>\n",
      "        </html>\n",
      "    \"\"\"\n",
      "    return html\n",
      "\n",
      "@app.route('/run', methods=['POST'])\n",
      "def run():\n",
      "    html = \"<h1 style='color:#123456'>Here is Your Output <a href='/'>Home</a></h1></br></br></br>\"\n",
      "    cmd = request.form.get('cmd')\n",
      "    output = sp.getoutput('hdfs dfs -'+cmd)\n",
      "    output = output.replace('\\n', '</br>')\n",
      "    output = output.replace('\\t', '&nbsp;&nbsp;&nbsp; &nbsp;&nbsp;&nbsp;&nbsp;&nbsp;')\n",
      "    return html+output\n",
      "\n",
      "\n",
      "if __name__ == '__main__':\n",
      "\n",
      "    app.run('172.25.5.10', 80, debug=True)\n",
      "\n",
      "\n"
     ]
    }
   ],
   "source": [
    "fp = open(path, mode, -1, encoding)\n",
    "data = fp.read()\n",
    "print(data)"
   ]
  },
  {
   "cell_type": "code",
   "execution_count": 83,
   "metadata": {},
   "outputs": [
    {
     "data": {
      "text/plain": [
       "False"
      ]
     },
     "execution_count": 83,
     "metadata": {},
     "output_type": "execute_result"
    }
   ],
   "source": [
    "fp.closed"
   ]
  },
  {
   "cell_type": "code",
   "execution_count": 84,
   "metadata": {},
   "outputs": [],
   "source": [
    "fp.close() # we can forget it so what to do to prevent it "
   ]
  },
  {
   "cell_type": "markdown",
   "metadata": {},
   "source": [
    "**use context managers**"
   ]
  },
  {
   "cell_type": "code",
   "execution_count": 85,
   "metadata": {},
   "outputs": [
    {
     "name": "stdout",
     "output_type": "stream",
     "text": [
      "#!/usr/local/anaconda3/bin/python\n",
      "\n",
      "from flask import Flask, request\n",
      "import subprocess as sp\n",
      "\n",
      "app = Flask(__name__)\n",
      "\n",
      "@app.route('/')\n",
      "def index():\n",
      "    html=f\"\"\"\n",
      "    <!Doctype html>\n",
      "        <html>\n",
      "            <body>\n",
      "                <h1 style='color:red'>Welcome to Hadoop Commnad Service </h1>\n",
      "                <form method='POST' action='/run'>\n",
      "                <p><label>Command: </label><input type='text' name='cmd'></p>\n",
      "                <p><input type='submit' value='Run Code'>\n",
      "                </form>\n",
      "            </body>\n",
      "        </html>\n",
      "    \"\"\"\n",
      "    return html\n",
      "\n",
      "@app.route('/run', methods=['POST'])\n",
      "def run():\n",
      "    html = \"<h1 style='color:#123456'>Here is Your Output <a href='/'>Home</a></h1></br></br></br>\"\n",
      "    cmd = request.form.get('cmd')\n",
      "    output = sp.getoutput('hdfs dfs -'+cmd)\n",
      "    output = output.replace('\\n', '</br>')\n",
      "    output = output.replace('\\t', '&nbsp;&nbsp;&nbsp; &nbsp;&nbsp;&nbsp;&nbsp;&nbsp;')\n",
      "    return html+output\n",
      "\n",
      "if __name__ == '__main__':\n",
      "\n",
      "    app.run('172.25.5.10', 80, debug=True)\n",
      "\n",
      "\n"
     ]
    }
   ],
   "source": [
    "path = 'C:\\\\users\\\\sachin\\\\Desktop\\\\hadoop.py'\n",
    "mode = 'rt'\n",
    "encoding = 'utf-8'\n",
    "# fp = open(...)\n",
    "with open(path, mode, encoding=encoding) as fp:\n",
    "    data = fp.read()\n",
    "    print(data)\n",
    "    "
   ]
  },
  {
   "cell_type": "code",
   "execution_count": 86,
   "metadata": {},
   "outputs": [
    {
     "data": {
      "text/plain": [
       "True"
      ]
     },
     "execution_count": 86,
     "metadata": {},
     "output_type": "execute_result"
    }
   ],
   "source": [
    "fp.closed"
   ]
  },
  {
   "cell_type": "code",
   "execution_count": 87,
   "metadata": {},
   "outputs": [],
   "source": [
    "def read_file(path, mode='rt', encoding='utf-8'):\n",
    "    if os.path.exists(path):\n",
    "        if os.path.isfile(path):\n",
    "            if os.access(path, os.R_OK):\n",
    "                with open(path, mode, encoding=encoding) as file:\n",
    "                    data = file.read()\n",
    "                    fp.close()\n",
    "                return data\n",
    "            else:\n",
    "                print(\"!!!Hey!!! you don't have permission to open this file...don't try something nesty\")\n",
    "        else:\n",
    "            print(\"!!Error!! you fool, idiot give a file path not directory path\")\n",
    "    else:\n",
    "        print(\"!!Error!! Given Path Does not Exists please Double check it and retry\")\n",
    "    "
   ]
  },
  {
   "cell_type": "code",
   "execution_count": 89,
   "metadata": {},
   "outputs": [
    {
     "name": "stdout",
     "output_type": "stream",
     "text": [
      "!!Error!! Given Path Does not Exists please Double check it and retry\n"
     ]
    }
   ],
   "source": [
    "data = read_file('aldksjfds')"
   ]
  },
  {
   "cell_type": "code",
   "execution_count": 91,
   "metadata": {},
   "outputs": [
    {
     "name": "stdout",
     "output_type": "stream",
     "text": [
      "None\n"
     ]
    }
   ],
   "source": [
    "print(data)"
   ]
  },
  {
   "cell_type": "code",
   "execution_count": 92,
   "metadata": {},
   "outputs": [],
   "source": [
    "path = \"C:\\\\Windows\\\\System32\\\\config\\\\SAM\""
   ]
  },
  {
   "cell_type": "code",
   "execution_count": 93,
   "metadata": {},
   "outputs": [
    {
     "ename": "PermissionError",
     "evalue": "[Errno 13] Permission denied: 'C:\\\\Windows\\\\System32\\\\config\\\\SAM'",
     "output_type": "error",
     "traceback": [
      "\u001b[1;31m---------------------------------------------------------------------------\u001b[0m",
      "\u001b[1;31mPermissionError\u001b[0m                           Traceback (most recent call last)",
      "\u001b[1;32m<ipython-input-93-396c6cc84e9f>\u001b[0m in \u001b[0;36m<module>\u001b[1;34m\u001b[0m\n\u001b[1;32m----> 1\u001b[1;33m \u001b[0mdata\u001b[0m \u001b[1;33m=\u001b[0m \u001b[0mread_file\u001b[0m\u001b[1;33m(\u001b[0m\u001b[0mpath\u001b[0m\u001b[1;33m)\u001b[0m\u001b[1;33m\u001b[0m\u001b[1;33m\u001b[0m\u001b[0m\n\u001b[0m",
      "\u001b[1;32m<ipython-input-87-dfd735d7455d>\u001b[0m in \u001b[0;36mread_file\u001b[1;34m(path, mode, encoding)\u001b[0m\n\u001b[0;32m      3\u001b[0m         \u001b[1;32mif\u001b[0m \u001b[0mos\u001b[0m\u001b[1;33m.\u001b[0m\u001b[0mpath\u001b[0m\u001b[1;33m.\u001b[0m\u001b[0misfile\u001b[0m\u001b[1;33m(\u001b[0m\u001b[0mpath\u001b[0m\u001b[1;33m)\u001b[0m\u001b[1;33m:\u001b[0m\u001b[1;33m\u001b[0m\u001b[1;33m\u001b[0m\u001b[0m\n\u001b[0;32m      4\u001b[0m             \u001b[1;32mif\u001b[0m \u001b[0mos\u001b[0m\u001b[1;33m.\u001b[0m\u001b[0maccess\u001b[0m\u001b[1;33m(\u001b[0m\u001b[0mpath\u001b[0m\u001b[1;33m,\u001b[0m \u001b[0mos\u001b[0m\u001b[1;33m.\u001b[0m\u001b[0mR_OK\u001b[0m\u001b[1;33m)\u001b[0m\u001b[1;33m:\u001b[0m\u001b[1;33m\u001b[0m\u001b[1;33m\u001b[0m\u001b[0m\n\u001b[1;32m----> 5\u001b[1;33m                 \u001b[1;32mwith\u001b[0m \u001b[0mopen\u001b[0m\u001b[1;33m(\u001b[0m\u001b[0mpath\u001b[0m\u001b[1;33m,\u001b[0m \u001b[0mmode\u001b[0m\u001b[1;33m,\u001b[0m \u001b[0mencoding\u001b[0m\u001b[1;33m=\u001b[0m\u001b[0mencoding\u001b[0m\u001b[1;33m)\u001b[0m \u001b[1;32mas\u001b[0m \u001b[0mfile\u001b[0m\u001b[1;33m:\u001b[0m\u001b[1;33m\u001b[0m\u001b[1;33m\u001b[0m\u001b[0m\n\u001b[0m\u001b[0;32m      6\u001b[0m                     \u001b[0mdata\u001b[0m \u001b[1;33m=\u001b[0m \u001b[0mfile\u001b[0m\u001b[1;33m.\u001b[0m\u001b[0mread\u001b[0m\u001b[1;33m(\u001b[0m\u001b[1;33m)\u001b[0m\u001b[1;33m\u001b[0m\u001b[1;33m\u001b[0m\u001b[0m\n\u001b[0;32m      7\u001b[0m                     \u001b[0mfp\u001b[0m\u001b[1;33m.\u001b[0m\u001b[0mclose\u001b[0m\u001b[1;33m(\u001b[0m\u001b[1;33m)\u001b[0m\u001b[1;33m\u001b[0m\u001b[1;33m\u001b[0m\u001b[0m\n",
      "\u001b[1;31mPermissionError\u001b[0m: [Errno 13] Permission denied: 'C:\\\\Windows\\\\System32\\\\config\\\\SAM'"
     ]
    }
   ],
   "source": [
    "data = read_file(path)"
   ]
  },
  {
   "cell_type": "code",
   "execution_count": 94,
   "metadata": {},
   "outputs": [],
   "source": [
    "data = read_file('C:\\\\users\\\\sachin\\\\desktop\\\\hadoop.py')"
   ]
  },
  {
   "cell_type": "code",
   "execution_count": 95,
   "metadata": {},
   "outputs": [
    {
     "name": "stdout",
     "output_type": "stream",
     "text": [
      "#!/usr/local/anaconda3/bin/python\n",
      "\n",
      "from flask import Flask, request\n",
      "import subprocess as sp\n",
      "\n",
      "app = Flask(__name__)\n",
      "\n",
      "@app.route('/')\n",
      "def index():\n",
      "    html=f\"\"\"\n",
      "    <!Doctype html>\n",
      "        <html>\n",
      "            <body>\n",
      "                <h1 style='color:red'>Welcome to Hadoop Commnad Service </h1>\n",
      "                <form method='POST' action='/run'>\n",
      "                <p><label>Command: </label><input type='text' name='cmd'></p>\n",
      "                <p><input type='submit' value='Run Code'>\n",
      "                </form>\n",
      "            </body>\n",
      "        </html>\n",
      "    \"\"\"\n",
      "    return html\n",
      "\n",
      "@app.route('/run', methods=['POST'])\n",
      "def run():\n",
      "    html = \"<h1 style='color:#123456'>Here is Your Output <a href='/'>Home</a></h1></br></br></br>\"\n",
      "    cmd = request.form.get('cmd')\n",
      "    output = sp.getoutput('hdfs dfs -'+cmd)\n",
      "    output = output.replace('\\n', '</br>')\n",
      "    output = output.replace('\\t', '&nbsp;&nbsp;&nbsp; &nbsp;&nbsp;&nbsp;&nbsp;&nbsp;')\n",
      "    return html+output\n",
      "\n",
      "if __name__ == '__main__':\n",
      "\n",
      "    app.run('172.25.5.10', 80, debug=True)\n",
      "\n",
      "\n"
     ]
    }
   ],
   "source": [
    "print(data)"
   ]
  },
  {
   "cell_type": "code",
   "execution_count": 104,
   "metadata": {},
   "outputs": [
    {
     "name": "stdout",
     "output_type": "stream",
     "text": [
      "C:\\Batches\\Batch_7pm_online\n"
     ]
    }
   ],
   "source": [
    "# student.txt -> relative path -> current dir -> os.getcwd()\n",
    "print(os.getcwd())\n",
    "fp = open('student.txt', 'w')"
   ]
  },
  {
   "cell_type": "code",
   "execution_count": 105,
   "metadata": {},
   "outputs": [
    {
     "data": {
      "text/plain": [
       "19"
      ]
     },
     "execution_count": 105,
     "metadata": {},
     "output_type": "execute_result"
    }
   ],
   "source": [
    "# write stirngs because it's regular file\n",
    "fp.write(\"Name,Math,Phy,Chem\\n\")"
   ]
  },
  {
   "cell_type": "markdown",
   "metadata": {},
   "source": [
    "    pwd -> works in jupyter not in general\n"
   ]
  },
  {
   "cell_type": "code",
   "execution_count": 106,
   "metadata": {},
   "outputs": [
    {
     "data": {
      "text/plain": [
       "17"
      ]
     },
     "execution_count": 106,
     "metadata": {},
     "output_type": "execute_result"
    }
   ],
   "source": [
    "fp.write(\"Sachin,100,95,85\\n\")"
   ]
  },
  {
   "cell_type": "code",
   "execution_count": 107,
   "metadata": {},
   "outputs": [
    {
     "data": {
      "text/plain": [
       "15"
      ]
     },
     "execution_count": 107,
     "metadata": {},
     "output_type": "execute_result"
    }
   ],
   "source": [
    "fp.write(\"Rajat,90,78,95\\n\")"
   ]
  },
  {
   "cell_type": "code",
   "execution_count": 108,
   "metadata": {},
   "outputs": [
    {
     "data": {
      "text/plain": [
       "15"
      ]
     },
     "execution_count": 108,
     "metadata": {},
     "output_type": "execute_result"
    }
   ],
   "source": [
    "fp.write('Nidhi,90,90,90\\n')\n",
    "# no of bytes written to file"
   ]
  },
  {
   "cell_type": "code",
   "execution_count": 109,
   "metadata": {},
   "outputs": [
    {
     "data": {
      "text/plain": [
       "16"
      ]
     },
     "execution_count": 109,
     "metadata": {},
     "output_type": "execute_result"
    }
   ],
   "source": [
    "fp.write('Simran,90,95,80\\n')"
   ]
  },
  {
   "cell_type": "code",
   "execution_count": 110,
   "metadata": {},
   "outputs": [
    {
     "data": {
      "text/plain": [
       "15"
      ]
     },
     "execution_count": 110,
     "metadata": {},
     "output_type": "execute_result"
    }
   ],
   "source": [
    "fp.write(\"Vansu,67,76,89\\n\")"
   ]
  },
  {
   "cell_type": "code",
   "execution_count": 111,
   "metadata": {},
   "outputs": [],
   "source": [
    "fp.close()"
   ]
  },
  {
   "cell_type": "code",
   "execution_count": 113,
   "metadata": {},
   "outputs": [],
   "source": [
    "fp = open('student.txt', 'rt')"
   ]
  },
  {
   "cell_type": "code",
   "execution_count": 114,
   "metadata": {},
   "outputs": [],
   "source": [
    "data = fp.read()"
   ]
  },
  {
   "cell_type": "code",
   "execution_count": 115,
   "metadata": {},
   "outputs": [
    {
     "name": "stdout",
     "output_type": "stream",
     "text": [
      "Name,Math,Phy,Chem\n",
      "Sachin,100,95,85\n",
      "Rajat,90,78,95\n",
      "Nidhi,90,90,90\n",
      "Simran,90,95,80\n",
      "Vansu,67,76,89\n",
      "\n"
     ]
    }
   ],
   "source": [
    "print(data)"
   ]
  },
  {
   "cell_type": "code",
   "execution_count": 116,
   "metadata": {},
   "outputs": [],
   "source": [
    "fp.close()"
   ]
  },
  {
   "cell_type": "markdown",
   "metadata": {},
   "source": [
    "Assignment -> open above student.txt file and do following\n",
    "\n",
    "\n",
    "    write a function student_result(path)\n",
    "    \n",
    "    find percentage marks gain by each student and create a file student_result.txt and write result their in below format\n",
    "    \n",
    "    Sachin,95.00%\n",
    "    Rajat,89.00%\n",
    "    Nidhi,99.00%\n",
    "    ...\n",
    "    \n",
    "    write a function subject_result(path)\n",
    "    \n",
    "    find overall result subject wise and write into subject_result.txt file as below format\n",
    "    \n",
    "    Math,89.00%\n",
    "    Phy,76.00%\n",
    "    ..."
   ]
  },
  {
   "cell_type": "code",
   "execution_count": 117,
   "metadata": {},
   "outputs": [],
   "source": [
    "fp = open(\"student.txt\", 'a')"
   ]
  },
  {
   "cell_type": "code",
   "execution_count": 118,
   "metadata": {},
   "outputs": [
    {
     "data": {
      "text/plain": [
       "14"
      ]
     },
     "execution_count": 118,
     "metadata": {},
     "output_type": "execute_result"
    }
   ],
   "source": [
    "fp.write(\"Neha,98,87,79\\n\")"
   ]
  },
  {
   "cell_type": "code",
   "execution_count": 119,
   "metadata": {},
   "outputs": [],
   "source": [
    "fp.close()"
   ]
  },
  {
   "cell_type": "code",
   "execution_count": 120,
   "metadata": {},
   "outputs": [],
   "source": [
    "fp = open('student.txt')"
   ]
  },
  {
   "cell_type": "code",
   "execution_count": 121,
   "metadata": {},
   "outputs": [],
   "source": [
    "data = fp.read()"
   ]
  },
  {
   "cell_type": "code",
   "execution_count": 122,
   "metadata": {},
   "outputs": [
    {
     "name": "stdout",
     "output_type": "stream",
     "text": [
      "Name,Math,Phy,Chem\n",
      "Sachin,100,95,85\n",
      "Rajat,90,78,95\n",
      "Nidhi,90,90,90\n",
      "Simran,90,95,80\n",
      "Vansu,67,76,89\n",
      "Neha,98,87,79\n",
      "\n"
     ]
    }
   ],
   "source": [
    "print(data)"
   ]
  },
  {
   "cell_type": "code",
   "execution_count": 123,
   "metadata": {},
   "outputs": [],
   "source": [
    "fp.close()"
   ]
  },
  {
   "cell_type": "markdown",
   "metadata": {},
   "source": [
    "##### JSON and PICKLE\n",
    "\n",
    "    Serialization & Deserialization"
   ]
  },
  {
   "cell_type": "markdown",
   "metadata": {},
   "source": [
    "**OOPS**"
   ]
  },
  {
   "cell_type": "code",
   "execution_count": null,
   "metadata": {},
   "outputs": [],
   "source": []
  }
 ],
 "metadata": {
  "kernelspec": {
   "display_name": "Python 3",
   "language": "python",
   "name": "python3"
  },
  "language_info": {
   "codemirror_mode": {
    "name": "ipython",
    "version": 3
   },
   "file_extension": ".py",
   "mimetype": "text/x-python",
   "name": "python",
   "nbconvert_exporter": "python",
   "pygments_lexer": "ipython3",
   "version": "3.7.4"
  }
 },
 "nbformat": 4,
 "nbformat_minor": 2
}
